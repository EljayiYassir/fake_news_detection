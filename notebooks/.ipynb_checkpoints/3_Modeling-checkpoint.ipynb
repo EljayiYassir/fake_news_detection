{
 "cells": [
  {
   "cell_type": "markdown",
   "id": "ee83dac7-0a56-4224-b5ea-43cac944aa71",
   "metadata": {
    "tags": []
   },
   "source": [
    "***\n",
    "<h1 id=\"heading\"><center><span style=\"background-color:#5642C5; color:white ; display:fill;border-radius:5px; font-family:cursive\"> 3. Modeling ⚙️🛠️ </span></center><a class=\"anchor-link\"></a></h1>\n",
    "<p><center style=\"color:#159364; font-family:cursive;\">The best way to make yourself extremely valuable in a team is to understand everything, but being a master of something.</center></p>\n",
    "\n",
    "***\n"
   ]
  },
  {
   "cell_type": "code",
   "execution_count": 1,
   "id": "41f30138-3df8-43af-88d9-89b2531927e1",
   "metadata": {
    "execution": {
     "iopub.execute_input": "2023-09-05T08:16:23.634446Z",
     "iopub.status.busy": "2023-09-05T08:16:23.633854Z",
     "iopub.status.idle": "2023-09-05T08:16:23.642868Z",
     "shell.execute_reply": "2023-09-05T08:16:23.641338Z",
     "shell.execute_reply.started": "2023-09-05T08:16:23.634412Z"
    }
   },
   "outputs": [],
   "source": [
    "TRAIN_PATH = \"../data/processed/1_train_preprocessed_df.pkl\"\n",
    "TEST_PATH = \"../data/processed/1_test_preprocessed_df.pkl\"\n",
    "\n",
    "\n",
    "MLFLOW_TRACKING_URI = '../models/mlruns'\n",
    "MLFLOW_EXPERIMENT_NAME = \"fake_news_predection\"\n",
    "\n",
    "LOG_PATH = \"../models/temp/\"\n",
    "LOG_DATA_PKL    =  \"data.pkl\"\n",
    "LOG_MODEL_PKL   =  \"model.pkl\"\n",
    "LOG_METRICS_PKL =  \"metrics.pkl\""
   ]
  },
  {
   "cell_type": "markdown",
   "id": "8b60ba1a-7402-4880-be83-56be3056b2b8",
   "metadata": {
    "tags": []
   },
   "source": [
    "***\n",
    "<h3 id=\"heading\"><span style=\"background-color:#cefffb; color:#1b4946 ; display:fill;border-radius:5px; font-family:cursive\"> 📥 Import packages & data </span></h3>"
   ]
  },
  {
   "cell_type": "code",
   "execution_count": 2,
   "id": "276b3c57-89d9-4021-a499-dbc42529f819",
   "metadata": {
    "execution": {
     "iopub.execute_input": "2023-09-05T08:16:23.644820Z",
     "iopub.status.busy": "2023-09-05T08:16:23.644512Z",
     "iopub.status.idle": "2023-09-05T08:16:25.753744Z",
     "shell.execute_reply": "2023-09-05T08:16:25.752834Z",
     "shell.execute_reply.started": "2023-09-05T08:16:23.644793Z"
    },
    "tags": []
   },
   "outputs": [],
   "source": [
    "# Load packages\n",
    "import pandas as pd \n",
    "import numpy as np\n",
    "import logging\n",
    "import pickle\n",
    "import random\n",
    "import plotly \n",
    "import os\n",
    "from pathlib import Path\n",
    "# Load Mlflow experiment tracker\n",
    "# if MlFlow not working try \n",
    "# pip install pydantic==1.10.9\n",
    "import mlflow\n",
    "from mlflow.tracking import MlflowClient\n",
    "\n",
    "from sklearn.pipeline import make_pipeline, FeatureUnion\n",
    "from sklearn.feature_extraction.text import CountVectorizer, TfidfVectorizer\n",
    "from sklearn.model_selection import train_test_split\n",
    "from sklearn.model_selection import GridSearchCV\n",
    "\n",
    "# Load metrics\n",
    "from sklearn import metrics\n",
    "from sklearn.metrics import auc, accuracy_score, confusion_matrix, f1_score, precision_score, recall_score, classification_report\n",
    "\n",
    "# Load ml models\n",
    "import xgboost as xg\n",
    "from sklearn.naive_bayes import MultinomialNB\n",
    "from sklearn.linear_model import LogisticRegression\n",
    "from sklearn.svm import SVC\n",
    "from sklearn.neighbors import KNeighborsClassifier\n",
    "from sklearn.ensemble import RandomForestClassifier\n",
    "from sklearn.tree import DecisionTreeClassifier\n",
    "\n",
    "from matplotlib import pyplot as plt\n",
    "\n",
    "import warnings\n",
    "warnings.filterwarnings(\"ignore\")"
   ]
  },
  {
   "cell_type": "code",
   "execution_count": 3,
   "id": "1c2b0d7f-9185-4158-a012-bd76c4d8cea1",
   "metadata": {
    "execution": {
     "iopub.execute_input": "2023-09-05T08:16:25.755846Z",
     "iopub.status.busy": "2023-09-05T08:16:25.755093Z",
     "iopub.status.idle": "2023-09-05T08:16:25.760647Z",
     "shell.execute_reply": "2023-09-05T08:16:25.759716Z",
     "shell.execute_reply.started": "2023-09-05T08:16:25.755804Z"
    }
   },
   "outputs": [],
   "source": [
    "def calculate_quality(ground_truth, predictions, metric_function):\n",
    "    quality_score = round(metric_function(ground_truth, predictions) * 100, 2)\n",
    "    return quality_score"
   ]
  },
  {
   "cell_type": "markdown",
   "id": "9aa9c09b-6d68-46c4-aea7-a5d89a50364c",
   "metadata": {},
   "source": [
    "_________"
   ]
  },
  {
   "cell_type": "markdown",
   "id": "13576d00-f2e7-4073-aa22-72e5c5d425c5",
   "metadata": {
    "jp-MarkdownHeadingCollapsed": true,
    "tags": []
   },
   "source": [
    "***\n",
    "<h3 id=\"heading\"><span style=\"background-color:#cefffb; color:#1b4946 ; display:fill;border-radius:5px; font-family:cursive\"> 🗄️ Initialize </span></h3>"
   ]
  },
  {
   "cell_type": "markdown",
   "id": "4d8f5a74-ff52-48a6-9cbe-756d1494797f",
   "metadata": {
    "tags": []
   },
   "source": [
    "<h4 id=\"heading\"><span font-family:Georgia\"><Strong>📑 Create directories </Strong></span></h4>\n"
   ]
  },
  {
   "cell_type": "code",
   "execution_count": 4,
   "id": "fccda0ba-3490-4283-83fe-f74ac8d14118",
   "metadata": {
    "collapsed": false,
    "execution": {
     "iopub.execute_input": "2023-09-05T08:16:25.762168Z",
     "iopub.status.busy": "2023-09-05T08:16:25.761790Z",
     "iopub.status.idle": "2023-09-05T08:16:25.799838Z",
     "shell.execute_reply": "2023-09-05T08:16:25.798403Z",
     "shell.execute_reply.started": "2023-09-05T08:16:25.762132Z"
    },
    "jupyter": {
     "outputs_hidden": false
    },
    "pycharm": {
     "name": "#%%\n"
    }
   },
   "outputs": [],
   "source": [
    "# Create directories if they don't exist\n",
    "Path(MLFLOW_TRACKING_URI).mkdir(parents=True, exist_ok=True)\n",
    "Path(LOG_PATH).mkdir(parents=True, exist_ok=True)"
   ]
  },
  {
   "cell_type": "markdown",
   "id": "c8ad16e8-523c-44bb-b0b7-6315250d5854",
   "metadata": {
    "tags": []
   },
   "source": [
    "<h4 id=\"heading\"><span font-family:Georgia\"><Strong>📑 Read data </Strong></span></h4>\n"
   ]
  },
  {
   "cell_type": "code",
   "execution_count": 5,
   "id": "40a89b4c-1a33-4020-9e98-6d4d60ee04dc",
   "metadata": {
    "collapsed": false,
    "execution": {
     "iopub.execute_input": "2023-09-05T08:16:25.802212Z",
     "iopub.status.busy": "2023-09-05T08:16:25.801788Z",
     "iopub.status.idle": "2023-09-05T08:16:25.931386Z",
     "shell.execute_reply": "2023-09-05T08:16:25.929643Z",
     "shell.execute_reply.started": "2023-09-05T08:16:25.802167Z"
    },
    "jupyter": {
     "outputs_hidden": false
    },
    "pycharm": {
     "name": "#%%\n"
    }
   },
   "outputs": [],
   "source": [
    "# Read Data\n",
    "train_df = pd.read_pickle(TRAIN_PATH)\n",
    "test_df = pd.read_pickle(TEST_PATH)"
   ]
  },
  {
   "cell_type": "code",
   "execution_count": 6,
   "id": "ef51d447-2548-4b3f-bce2-52084d488817",
   "metadata": {
    "execution": {
     "iopub.execute_input": "2023-09-05T08:16:25.937280Z",
     "iopub.status.busy": "2023-09-05T08:16:25.932959Z",
     "iopub.status.idle": "2023-09-05T08:16:25.984506Z",
     "shell.execute_reply": "2023-09-05T08:16:25.983284Z",
     "shell.execute_reply.started": "2023-09-05T08:16:25.937204Z"
    }
   },
   "outputs": [
    {
     "data": {
      "text/html": [
       "<div>\n",
       "<style scoped>\n",
       "    .dataframe tbody tr th:only-of-type {\n",
       "        vertical-align: middle;\n",
       "    }\n",
       "\n",
       "    .dataframe tbody tr th {\n",
       "        vertical-align: top;\n",
       "    }\n",
       "\n",
       "    .dataframe thead th {\n",
       "        text-align: right;\n",
       "    }\n",
       "</style>\n",
       "<table border=\"1\" class=\"dataframe\">\n",
       "  <thead>\n",
       "    <tr style=\"text-align: right;\">\n",
       "      <th></th>\n",
       "      <th>content</th>\n",
       "      <th>label</th>\n",
       "    </tr>\n",
       "  </thead>\n",
       "  <tbody>\n",
       "    <tr>\n",
       "      <th>0</th>\n",
       "      <td>david streitfeld specter trump loosen tongu pu...</td>\n",
       "      <td>0</td>\n",
       "    </tr>\n",
       "    <tr>\n",
       "      <th>1</th>\n",
       "      <td>russian warship readi strike terrorist near al...</td>\n",
       "      <td>1</td>\n",
       "    </tr>\n",
       "    <tr>\n",
       "      <th>2</th>\n",
       "      <td>common dream nodapl nativ american leader vow ...</td>\n",
       "      <td>0</td>\n",
       "    </tr>\n",
       "    <tr>\n",
       "      <th>3</th>\n",
       "      <td>daniel victor tim tebow attempt anoth comeback...</td>\n",
       "      <td>1</td>\n",
       "    </tr>\n",
       "    <tr>\n",
       "      <th>4</th>\n",
       "      <td>truth broadcast network keiser report meme war...</td>\n",
       "      <td>1</td>\n",
       "    </tr>\n",
       "  </tbody>\n",
       "</table>\n",
       "</div>"
      ],
      "text/plain": [
       "                                             content  label\n",
       "0  david streitfeld specter trump loosen tongu pu...      0\n",
       "1  russian warship readi strike terrorist near al...      1\n",
       "2  common dream nodapl nativ american leader vow ...      0\n",
       "3  daniel victor tim tebow attempt anoth comeback...      1\n",
       "4  truth broadcast network keiser report meme war...      1"
      ]
     },
     "execution_count": 6,
     "metadata": {},
     "output_type": "execute_result"
    }
   ],
   "source": [
    "test_df.head()"
   ]
  },
  {
   "cell_type": "markdown",
   "id": "168f02c5-c630-4852-b152-94775ad0e4a7",
   "metadata": {
    "tags": []
   },
   "source": [
    "<h4 id=\"heading\"><span font-family:Georgia\"><Strong>✂️ Victorization </Strong></span></h4>\n"
   ]
  },
  {
   "cell_type": "markdown",
   "id": "bfe72325-d7b3-4d22-b1fb-92f821e1dc93",
   "metadata": {
    "tags": []
   },
   "source": [
    "<h5 id=\"heading\"><span style=\"background-color:#000639; color:#F6FEFF ; display:fill;border-radius:6px; font-family:Georgia\"><Strong>🔵  TfidfVectorizer()   </Strong></span></h5>\n"
   ]
  },
  {
   "cell_type": "code",
   "execution_count": 7,
   "id": "65ee3a11-3d30-4353-a359-d9840ee21ab9",
   "metadata": {
    "execution": {
     "iopub.execute_input": "2023-09-05T08:16:25.995107Z",
     "iopub.status.busy": "2023-09-05T08:16:25.994037Z",
     "iopub.status.idle": "2023-09-05T08:16:32.570148Z",
     "shell.execute_reply": "2023-09-05T08:16:32.569235Z",
     "shell.execute_reply.started": "2023-09-05T08:16:25.995057Z"
    }
   },
   "outputs": [
    {
     "data": {
      "text/html": [
       "<style>#sk-container-id-1 {color: black;}#sk-container-id-1 pre{padding: 0;}#sk-container-id-1 div.sk-toggleable {background-color: white;}#sk-container-id-1 label.sk-toggleable__label {cursor: pointer;display: block;width: 100%;margin-bottom: 0;padding: 0.3em;box-sizing: border-box;text-align: center;}#sk-container-id-1 label.sk-toggleable__label-arrow:before {content: \"▸\";float: left;margin-right: 0.25em;color: #696969;}#sk-container-id-1 label.sk-toggleable__label-arrow:hover:before {color: black;}#sk-container-id-1 div.sk-estimator:hover label.sk-toggleable__label-arrow:before {color: black;}#sk-container-id-1 div.sk-toggleable__content {max-height: 0;max-width: 0;overflow: hidden;text-align: left;background-color: #f0f8ff;}#sk-container-id-1 div.sk-toggleable__content pre {margin: 0.2em;color: black;border-radius: 0.25em;background-color: #f0f8ff;}#sk-container-id-1 input.sk-toggleable__control:checked~div.sk-toggleable__content {max-height: 200px;max-width: 100%;overflow: auto;}#sk-container-id-1 input.sk-toggleable__control:checked~label.sk-toggleable__label-arrow:before {content: \"▾\";}#sk-container-id-1 div.sk-estimator input.sk-toggleable__control:checked~label.sk-toggleable__label {background-color: #d4ebff;}#sk-container-id-1 div.sk-label input.sk-toggleable__control:checked~label.sk-toggleable__label {background-color: #d4ebff;}#sk-container-id-1 input.sk-hidden--visually {border: 0;clip: rect(1px 1px 1px 1px);clip: rect(1px, 1px, 1px, 1px);height: 1px;margin: -1px;overflow: hidden;padding: 0;position: absolute;width: 1px;}#sk-container-id-1 div.sk-estimator {font-family: monospace;background-color: #f0f8ff;border: 1px dotted black;border-radius: 0.25em;box-sizing: border-box;margin-bottom: 0.5em;}#sk-container-id-1 div.sk-estimator:hover {background-color: #d4ebff;}#sk-container-id-1 div.sk-parallel-item::after {content: \"\";width: 100%;border-bottom: 1px solid gray;flex-grow: 1;}#sk-container-id-1 div.sk-label:hover label.sk-toggleable__label {background-color: #d4ebff;}#sk-container-id-1 div.sk-serial::before {content: \"\";position: absolute;border-left: 1px solid gray;box-sizing: border-box;top: 0;bottom: 0;left: 50%;z-index: 0;}#sk-container-id-1 div.sk-serial {display: flex;flex-direction: column;align-items: center;background-color: white;padding-right: 0.2em;padding-left: 0.2em;position: relative;}#sk-container-id-1 div.sk-item {position: relative;z-index: 1;}#sk-container-id-1 div.sk-parallel {display: flex;align-items: stretch;justify-content: center;background-color: white;position: relative;}#sk-container-id-1 div.sk-item::before, #sk-container-id-1 div.sk-parallel-item::before {content: \"\";position: absolute;border-left: 1px solid gray;box-sizing: border-box;top: 0;bottom: 0;left: 50%;z-index: -1;}#sk-container-id-1 div.sk-parallel-item {display: flex;flex-direction: column;z-index: 1;position: relative;background-color: white;}#sk-container-id-1 div.sk-parallel-item:first-child::after {align-self: flex-end;width: 50%;}#sk-container-id-1 div.sk-parallel-item:last-child::after {align-self: flex-start;width: 50%;}#sk-container-id-1 div.sk-parallel-item:only-child::after {width: 0;}#sk-container-id-1 div.sk-dashed-wrapped {border: 1px dashed gray;margin: 0 0.4em 0.5em 0.4em;box-sizing: border-box;padding-bottom: 0.4em;background-color: white;}#sk-container-id-1 div.sk-label label {font-family: monospace;font-weight: bold;display: inline-block;line-height: 1.2em;}#sk-container-id-1 div.sk-label-container {text-align: center;}#sk-container-id-1 div.sk-container {/* jupyter's `normalize.less` sets `[hidden] { display: none; }` but bootstrap.min.css set `[hidden] { display: none !important; }` so we also need the `!important` here to be able to override the default hidden behavior on the sphinx rendered scikit-learn.org. See: https://github.com/scikit-learn/scikit-learn/issues/21755 */display: inline-block !important;position: relative;}#sk-container-id-1 div.sk-text-repr-fallback {display: none;}</style><div id=\"sk-container-id-1\" class=\"sk-top-container\"><div class=\"sk-text-repr-fallback\"><pre>TfidfVectorizer()</pre><b>In a Jupyter environment, please rerun this cell to show the HTML representation or trust the notebook. <br />On GitHub, the HTML representation is unable to render, please try loading this page with nbviewer.org.</b></div><div class=\"sk-container\" hidden><div class=\"sk-item\"><div class=\"sk-estimator sk-toggleable\"><input class=\"sk-toggleable__control sk-hidden--visually\" id=\"sk-estimator-id-1\" type=\"checkbox\" checked><label for=\"sk-estimator-id-1\" class=\"sk-toggleable__label sk-toggleable__label-arrow\">TfidfVectorizer</label><div class=\"sk-toggleable__content\"><pre>TfidfVectorizer()</pre></div></div></div></div></div>"
      ],
      "text/plain": [
       "TfidfVectorizer()"
      ]
     },
     "execution_count": 7,
     "metadata": {},
     "output_type": "execute_result"
    }
   ],
   "source": [
    "# Fit the TF-IDF vectorizer on the training data\n",
    "vectorizer = TfidfVectorizer()\n",
    "vectorizer.fit(train_df['content'].values)"
   ]
  },
  {
   "cell_type": "code",
   "execution_count": 8,
   "id": "1ea4e4be-716b-4b79-849c-e8f94b8bf5a9",
   "metadata": {
    "execution": {
     "iopub.execute_input": "2023-09-05T08:16:32.572781Z",
     "iopub.status.busy": "2023-09-05T08:16:32.571870Z",
     "iopub.status.idle": "2023-09-05T08:16:39.100607Z",
     "shell.execute_reply": "2023-09-05T08:16:39.099656Z",
     "shell.execute_reply.started": "2023-09-05T08:16:32.572731Z"
    },
    "scrolled": true
   },
   "outputs": [],
   "source": [
    "# Transform the training data\n",
    "X_train = vectorizer.transform(train_df['content'].values)\n",
    "Y_train = train_df['label'].values"
   ]
  },
  {
   "cell_type": "code",
   "execution_count": 9,
   "id": "a46378dc-e2aa-4fdb-8816-b241a4bb1811",
   "metadata": {
    "execution": {
     "iopub.execute_input": "2023-09-05T08:16:39.102657Z",
     "iopub.status.busy": "2023-09-05T08:16:39.102274Z",
     "iopub.status.idle": "2023-09-05T08:16:40.726571Z",
     "shell.execute_reply": "2023-09-05T08:16:40.725611Z",
     "shell.execute_reply.started": "2023-09-05T08:16:39.102630Z"
    }
   },
   "outputs": [],
   "source": [
    "# Transform the test data using the same vectorizer\n",
    "X_test = vectorizer.transform(test_df['content'].values)\n",
    "Y_test = test_df['label'].values"
   ]
  },
  {
   "cell_type": "markdown",
   "id": "63af968e-20ab-4757-a0fa-79860d8f21d1",
   "metadata": {
    "jp-MarkdownHeadingCollapsed": true,
    "tags": []
   },
   "source": [
    "<h5 id=\"heading\"><span style=\"background-color:#000639; color:#F6FEFF ; display:fill;border-radius:6px; font-family:Georgia\"><Strong>🔵  CountVectorizer()   </Strong></span></h5>\n"
   ]
  },
  {
   "cell_type": "markdown",
   "id": "3bc6b397-4951-496a-961d-cd870a5ff894",
   "metadata": {},
   "source": [
    "~~~\n",
    "cv=CountVectorizer(ngram_range=(1,3),max_features=7000)\n",
    "xtrain=cv.fit_transform(xtrain)\n",
    "xval=cv.transform(xval)\n",
    "~~~"
   ]
  },
  {
   "cell_type": "markdown",
   "id": "5c0e1d0a-42fd-47cb-b9fe-0696978f1918",
   "metadata": {
    "tags": []
   },
   "source": [
    "<h4 id=\"heading\"><span font-family:Georgia\"><Strong>📑 Split data </Strong></span></h4>\n"
   ]
  },
  {
   "cell_type": "code",
   "execution_count": 10,
   "id": "c8da5a1c-76ff-4d59-8156-3b465b59959b",
   "metadata": {
    "execution": {
     "iopub.execute_input": "2023-09-05T08:16:40.728655Z",
     "iopub.status.busy": "2023-09-05T08:16:40.728210Z",
     "iopub.status.idle": "2023-09-05T08:16:40.756439Z",
     "shell.execute_reply": "2023-09-05T08:16:40.755459Z",
     "shell.execute_reply.started": "2023-09-05T08:16:40.728613Z"
    }
   },
   "outputs": [],
   "source": [
    "X_train, X_val, Y_train, Y_val = train_test_split(X_train, Y_train , train_size=0.8, random_state=0)"
   ]
  },
  {
   "cell_type": "markdown",
   "id": "6942ab01-c8e2-4693-bf24-801a192b9506",
   "metadata": {
    "tags": []
   },
   "source": [
    "***\n",
    "<h2 id=\"heading\"><span style=\"background-color:#cefffb; color:#1b4946 ; display:fill;border-radius:5px; font-family:cursive\"> 🏋️‍♂️ Train models </span></h2>"
   ]
  },
  {
   "cell_type": "markdown",
   "id": "d6c36fdd-6fe7-42ca-a82c-3f0e42552e7b",
   "metadata": {
    "jp-MarkdownHeadingCollapsed": true,
    "tags": []
   },
   "source": [
    "<h3 id=\"heading\"><span font-family:Georgia\"><Strong>📑 Initialize MLflow </Strong></span></h3>\n"
   ]
  },
  {
   "cell_type": "code",
   "execution_count": 11,
   "id": "f5fab1f0-230f-4580-abeb-a85550ec0c4d",
   "metadata": {
    "execution": {
     "iopub.execute_input": "2023-09-05T08:16:40.758364Z",
     "iopub.status.busy": "2023-09-05T08:16:40.757980Z",
     "iopub.status.idle": "2023-09-05T08:16:40.775842Z",
     "shell.execute_reply": "2023-09-05T08:16:40.774801Z",
     "shell.execute_reply.started": "2023-09-05T08:16:40.758333Z"
    }
   },
   "outputs": [],
   "source": [
    "# Initialize client and experiment\n",
    "mlflow.set_tracking_uri(MLFLOW_TRACKING_URI)\n",
    "client = mlflow.MlflowClient()\n",
    "mlflow.get_experiment_by_name(MLFLOW_EXPERIMENT_NAME)\n",
    "exp = mlflow.set_experiment(MLFLOW_EXPERIMENT_NAME)"
   ]
  },
  {
   "cell_type": "code",
   "execution_count": 12,
   "id": "fc5a1a9f-0fde-4543-8883-4c2714e6edce",
   "metadata": {
    "execution": {
     "iopub.execute_input": "2023-09-05T08:16:40.778103Z",
     "iopub.status.busy": "2023-09-05T08:16:40.777644Z",
     "iopub.status.idle": "2023-09-05T08:16:40.787416Z",
     "shell.execute_reply": "2023-09-05T08:16:40.786337Z",
     "shell.execute_reply.started": "2023-09-05T08:16:40.778059Z"
    }
   },
   "outputs": [
    {
     "data": {
      "text/plain": [
       "<bound method MlflowClient.get_experiment_by_name of <mlflow.tracking.client.MlflowClient object at 0x7f73983e3750>>"
      ]
     },
     "execution_count": 12,
     "metadata": {},
     "output_type": "execute_result"
    }
   ],
   "source": [
    "client.get_experiment_by_name"
   ]
  },
  {
   "cell_type": "markdown",
   "id": "7498e3fd-4634-4048-a0f3-409450ab35c3",
   "metadata": {
    "tags": []
   },
   "source": [
    "***\n",
    "<h3 id=\"heading\"><span style=\"background-color:#F7CBFF; color:#581845 ; display:fill;border-radius:5px;font-family:Georgia\"><Strong>📦 1. Logistic regression </Strong></span></h3>\n"
   ]
  },
  {
   "cell_type": "markdown",
   "id": "1d5cfa07-95bd-4e7b-ad22-84ab558524d3",
   "metadata": {
    "tags": []
   },
   "source": [
    "<h5 id=\"heading\"><span font-family:Georgia\"><Strong>🧑🏻‍⚖️ 1. Evaluate the training set </Strong></span></h5>\n"
   ]
  },
  {
   "cell_type": "code",
   "execution_count": 13,
   "id": "b41b911c-0879-455b-8098-67c652888163",
   "metadata": {
    "execution": {
     "iopub.execute_input": "2023-09-05T08:16:40.789012Z",
     "iopub.status.busy": "2023-09-05T08:16:40.788553Z",
     "iopub.status.idle": "2023-09-05T08:16:44.291588Z",
     "shell.execute_reply": "2023-09-05T08:16:44.290836Z",
     "shell.execute_reply.started": "2023-09-05T08:16:40.788954Z"
    }
   },
   "outputs": [],
   "source": [
    "clf = make_pipeline(LogisticRegression())\n",
    "\n",
    "clf.fit(X_train, Y_train)\n",
    "lg_predictions_val =  pd.DataFrame(clf.predict(X_val))"
   ]
  },
  {
   "cell_type": "code",
   "execution_count": 14,
   "id": "9d892ac5-1422-4c71-9b37-b185ef875730",
   "metadata": {
    "execution": {
     "iopub.execute_input": "2023-09-05T08:16:44.293277Z",
     "iopub.status.busy": "2023-09-05T08:16:44.292816Z",
     "iopub.status.idle": "2023-09-05T08:16:44.323786Z",
     "shell.execute_reply": "2023-09-05T08:16:44.322994Z",
     "shell.execute_reply.started": "2023-09-05T08:16:44.293242Z"
    }
   },
   "outputs": [
    {
     "name": "stdout",
     "output_type": "stream",
     "text": [
      "The confusion matrix is:\n",
      "  [[1925  121]\n",
      " [  95 2019]]\n"
     ]
    },
    {
     "data": {
      "text/html": [
       "<div>\n",
       "<style scoped>\n",
       "    .dataframe tbody tr th:only-of-type {\n",
       "        vertical-align: middle;\n",
       "    }\n",
       "\n",
       "    .dataframe tbody tr th {\n",
       "        vertical-align: top;\n",
       "    }\n",
       "\n",
       "    .dataframe thead th {\n",
       "        text-align: right;\n",
       "    }\n",
       "</style>\n",
       "<table border=\"1\" class=\"dataframe\">\n",
       "  <thead>\n",
       "    <tr style=\"text-align: right;\">\n",
       "      <th></th>\n",
       "      <th>Validation Score</th>\n",
       "    </tr>\n",
       "  </thead>\n",
       "  <tbody>\n",
       "    <tr>\n",
       "      <th>accuracy_score</th>\n",
       "      <td>94.81</td>\n",
       "    </tr>\n",
       "    <tr>\n",
       "      <th>precision_score</th>\n",
       "      <td>94.35</td>\n",
       "    </tr>\n",
       "    <tr>\n",
       "      <th>recall_score</th>\n",
       "      <td>95.51</td>\n",
       "    </tr>\n",
       "    <tr>\n",
       "      <th>f1_score</th>\n",
       "      <td>94.92</td>\n",
       "    </tr>\n",
       "  </tbody>\n",
       "</table>\n",
       "</div>"
      ],
      "text/plain": [
       "                 Validation Score\n",
       "accuracy_score              94.81\n",
       "precision_score             94.35\n",
       "recall_score                95.51\n",
       "f1_score                    94.92"
      ]
     },
     "execution_count": 14,
     "metadata": {},
     "output_type": "execute_result"
    }
   ],
   "source": [
    "# Evaluate on validation set\n",
    "validation_scores = {score.__name__: calculate_quality(Y_val, predictions[0], score) \n",
    "                     for score in [accuracy_score, precision_score, recall_score, f1_score]}\n",
    "\n",
    "# Create a DataFrame from the dictionary\n",
    "train_scores_df = pd.DataFrame.from_dict(validation_scores, orient='index', columns=['Validation Score']).T\n",
    "print('The confusion matrix is:\\n ',confusion_matrix(Y_val, predictions))\n",
    "# Display the DataFrame\n",
    "train_scores_df"
   ]
  },
  {
   "cell_type": "markdown",
   "id": "57a316df-40a3-4d0d-99c9-61bd915697ca",
   "metadata": {
    "tags": []
   },
   "source": [
    "<h5 id=\"heading\"><span font-family:Georgia\"><Strong>🧑🏻‍⚖️ 2. Evaluate the test set </Strong></span></h5>\n"
   ]
  },
  {
   "cell_type": "code",
   "execution_count": 15,
   "id": "5dd6621d-6d37-42dc-8f20-1093336a7848",
   "metadata": {
    "execution": {
     "iopub.execute_input": "2023-09-05T08:16:44.325025Z",
     "iopub.status.busy": "2023-09-05T08:16:44.324725Z",
     "iopub.status.idle": "2023-09-05T08:16:44.335352Z",
     "shell.execute_reply": "2023-09-05T08:16:44.334533Z",
     "shell.execute_reply.started": "2023-09-05T08:16:44.325000Z"
    }
   },
   "outputs": [],
   "source": [
    "lg_predictions_test = clf.predict(X_test)"
   ]
  },
  {
   "cell_type": "code",
   "execution_count": 16,
   "id": "a2eb8be0-3d9e-4fb9-b241-1cb861fa2a86",
   "metadata": {
    "execution": {
     "iopub.execute_input": "2023-09-05T08:16:44.336893Z",
     "iopub.status.busy": "2023-09-05T08:16:44.336480Z",
     "iopub.status.idle": "2023-09-05T08:16:44.376600Z",
     "shell.execute_reply": "2023-09-05T08:16:44.375605Z",
     "shell.execute_reply.started": "2023-09-05T08:16:44.336859Z"
    }
   },
   "outputs": [
    {
     "name": "stdout",
     "output_type": "stream",
     "text": [
      "The confusion matrix is:\n",
      "  [[1502  837]\n",
      " [1075 1786]]\n"
     ]
    },
    {
     "data": {
      "text/html": [
       "<div>\n",
       "<style scoped>\n",
       "    .dataframe tbody tr th:only-of-type {\n",
       "        vertical-align: middle;\n",
       "    }\n",
       "\n",
       "    .dataframe tbody tr th {\n",
       "        vertical-align: top;\n",
       "    }\n",
       "\n",
       "    .dataframe thead th {\n",
       "        text-align: right;\n",
       "    }\n",
       "</style>\n",
       "<table border=\"1\" class=\"dataframe\">\n",
       "  <thead>\n",
       "    <tr style=\"text-align: right;\">\n",
       "      <th></th>\n",
       "      <th>Validation Score</th>\n",
       "    </tr>\n",
       "  </thead>\n",
       "  <tbody>\n",
       "    <tr>\n",
       "      <th>accuracy_score</th>\n",
       "      <td>63.23</td>\n",
       "    </tr>\n",
       "    <tr>\n",
       "      <th>precision_score</th>\n",
       "      <td>68.09</td>\n",
       "    </tr>\n",
       "    <tr>\n",
       "      <th>recall_score</th>\n",
       "      <td>62.43</td>\n",
       "    </tr>\n",
       "    <tr>\n",
       "      <th>f1_score</th>\n",
       "      <td>65.13</td>\n",
       "    </tr>\n",
       "  </tbody>\n",
       "</table>\n",
       "</div>"
      ],
      "text/plain": [
       "                 Validation Score\n",
       "accuracy_score              63.23\n",
       "precision_score             68.09\n",
       "recall_score                62.43\n",
       "f1_score                    65.13"
      ]
     },
     "execution_count": 16,
     "metadata": {},
     "output_type": "execute_result"
    }
   ],
   "source": [
    "# Evaluate on validation set\n",
    "validation_scores = {score.__name__: calculate_quality(Y_test, predictions1, score) \n",
    "                     for score in [accuracy_score, precision_score, recall_score, f1_score]}\n",
    "\n",
    "# Create a DataFrame from the dictionary\n",
    "test_scores_df = pd.DataFrame.from_dict(validation_scores, orient='index', columns=['Validation Score']).T\n",
    "print('The confusion matrix is:\\n ',confusion_matrix(Y_test, predictions1))\n",
    "# Display the DataFrame\n",
    "test_scores_df"
   ]
  },
  {
   "cell_type": "code",
   "execution_count": 17,
   "id": "70d69c2d-6c7f-4631-9b9f-2d7aa8ae4e47",
   "metadata": {
    "execution": {
     "iopub.execute_input": "2023-09-05T08:16:44.378396Z",
     "iopub.status.busy": "2023-09-05T08:16:44.377981Z",
     "iopub.status.idle": "2023-09-05T08:16:44.386973Z",
     "shell.execute_reply": "2023-09-05T08:16:44.385766Z",
     "shell.execute_reply.started": "2023-09-05T08:16:44.378355Z"
    }
   },
   "outputs": [
    {
     "data": {
      "text/plain": [
       "Validation Score    64.72\n",
       "dtype: float64"
      ]
     },
     "execution_count": 17,
     "metadata": {},
     "output_type": "execute_result"
    }
   ],
   "source": [
    "mean_test_scores = test_scores_df.mean()\n",
    "mean_test_scores"
   ]
  },
  {
   "cell_type": "markdown",
   "id": "8c7bbcd4-8104-48f5-b6c1-d28633fe6e61",
   "metadata": {
    "tags": []
   },
   "source": [
    "***\n",
    "<h4 id=\"heading\"><span style=\"background-color:#cefffb; color:#1b4946 ; display:fill;border-radius:5px; font-family:cursive\"> 🗃️ Log run </span></h4>"
   ]
  },
  {
   "cell_type": "markdown",
   "id": "ca362fbb-bef8-49bb-9839-59abde377379",
   "metadata": {
    "jp-MarkdownHeadingCollapsed": true,
    "tags": []
   },
   "source": [
    "<h5 id=\"heading\"><span font-family:Georgia\"><Strong>📑 1. Prepare </Strong></span></h5>\n"
   ]
  },
  {
   "cell_type": "code",
   "execution_count": 18,
   "id": "0b00b23a-cf15-4795-8115-9b06485844b6",
   "metadata": {
    "execution": {
     "iopub.execute_input": "2023-09-05T08:16:44.389455Z",
     "iopub.status.busy": "2023-09-05T08:16:44.388664Z",
     "iopub.status.idle": "2023-09-05T08:16:44.483375Z",
     "shell.execute_reply": "2023-09-05T08:16:44.482143Z",
     "shell.execute_reply.started": "2023-09-05T08:16:44.389408Z"
    },
    "tags": []
   },
   "outputs": [],
   "source": [
    "# Data details\n",
    "data_details = {\"data_train_path\": TRAIN_PATH,\n",
    "                \"data_test_path\": TEST_PATH,\n",
    "                \"training_victorize\": X_train,\n",
    "                \"test_victorize\":     X_test\n",
    "               }\n",
    "\n",
    "with open(os.path.join(LOG_PATH, LOG_DATA_PKL), \"wb\") as output_file:\n",
    "    pickle.dump(data_details, output_file)"
   ]
  },
  {
   "cell_type": "code",
   "execution_count": 19,
   "id": "4004af42-9691-47c3-b3be-45d10cfbdeb2",
   "metadata": {
    "execution": {
     "iopub.execute_input": "2023-09-05T08:16:44.486239Z",
     "iopub.status.busy": "2023-09-05T08:16:44.485149Z",
     "iopub.status.idle": "2023-09-05T08:16:44.501415Z",
     "shell.execute_reply": "2023-09-05T08:16:44.500364Z",
     "shell.execute_reply.started": "2023-09-05T08:16:44.486160Z"
    }
   },
   "outputs": [],
   "source": [
    "# Model\n",
    "model = {\"model_description\": \"Baseline model: Logistic Regression \",\n",
    "         \"model_details\": str(clf),\n",
    "         \"model_object\": clf} \n",
    "\n",
    "with open(os.path.join(LOG_PATH, LOG_MODEL_PKL), \"wb\") as output_file:\n",
    "    pickle.dump(model, output_file)"
   ]
  },
  {
   "cell_type": "code",
   "execution_count": 20,
   "id": "c03d8e07-2f14-4c66-bbba-02cf7c080363",
   "metadata": {
    "execution": {
     "iopub.execute_input": "2023-09-05T08:16:44.503934Z",
     "iopub.status.busy": "2023-09-05T08:16:44.503350Z",
     "iopub.status.idle": "2023-09-05T08:16:44.683282Z",
     "shell.execute_reply": "2023-09-05T08:16:44.682349Z",
     "shell.execute_reply.started": "2023-09-05T08:16:44.503898Z"
    }
   },
   "outputs": [],
   "source": [
    "# Performance details\n",
    "classes_metrics = {\"train_scores\": train_scores_df, \n",
    "                   \"test_scores\":  test_scores_df}\n",
    "\n",
    "with open(os.path.join(LOG_PATH, LOG_METRICS_PKL), \"wb\") as output_file:\n",
    "    pickle.dump(classes_metrics, output_file)"
   ]
  },
  {
   "cell_type": "markdown",
   "id": "9de9bf19-8ade-4688-bdaf-34d79135abe2",
   "metadata": {
    "tags": []
   },
   "source": [
    "<h5 id=\"heading\"><span font-family:Georgia\"><Strong>📑 2. Log </Strong></span></h5>\n"
   ]
  },
  {
   "cell_type": "code",
   "execution_count": 21,
   "id": "9ae5dc72-3145-491c-a8c3-90609af1ef3d",
   "metadata": {
    "execution": {
     "iopub.execute_input": "2023-09-05T08:16:44.685332Z",
     "iopub.status.busy": "2023-09-05T08:16:44.684860Z",
     "iopub.status.idle": "2023-09-05T08:16:44.825824Z",
     "shell.execute_reply": "2023-09-05T08:16:44.823968Z",
     "shell.execute_reply.started": "2023-09-05T08:16:44.685294Z"
    }
   },
   "outputs": [],
   "source": [
    "# Start a new run and track \n",
    "with mlflow.start_run(experiment_id=exp.experiment_id, run_name=model[\"model_description\"]):\n",
    "    # Log pickles \n",
    "    mlflow.log_artifacts(LOG_PATH)\n",
    "    \n",
    "    # Track metrics \n",
    "    for metric, score in mean_test_scores.items():\n",
    "        mlflow.log_metric(metric, score) \n",
    "    "
   ]
  },
  {
   "cell_type": "markdown",
   "id": "2bd1b30e-5f3b-4c69-b7e1-1df8dd8a0984",
   "metadata": {
    "tags": []
   },
   "source": [
    "***\n",
    "<h3 id=\"heading\"><span style=\"background-color:#F7CBFF; color:#581845 ; display:fill;border-radius:5px; font-family:Georgia\"><Strong>📦 2. Support Vector Classifier (SVM) </Strong></span></h3>\n"
   ]
  },
  {
   "cell_type": "markdown",
   "id": "2cd732d3-6bda-46e2-ab17-5793bef03457",
   "metadata": {
    "tags": []
   },
   "source": [
    "<h5 id=\"heading\"><span font-family:Georgia\"><Strong>🧑🏻‍⚖️ 1. Evaluate the training set </Strong></span></h5>\n"
   ]
  },
  {
   "cell_type": "code",
   "execution_count": 22,
   "id": "aef42495-88ba-410b-971e-ba23634030e1",
   "metadata": {
    "execution": {
     "iopub.execute_input": "2023-09-05T08:16:44.836677Z",
     "iopub.status.busy": "2023-09-05T08:16:44.835892Z",
     "iopub.status.idle": "2023-09-05T08:32:48.490142Z",
     "shell.execute_reply": "2023-09-05T08:32:48.489022Z",
     "shell.execute_reply.started": "2023-09-05T08:16:44.836633Z"
    }
   },
   "outputs": [],
   "source": [
    "svm_clf =  SVC()\n",
    "svm_clf.fit(X_train, Y_train)\n",
    "svm_predictions_val =  pd.DataFrame(svm_clf.predict(X_val))"
   ]
  },
  {
   "cell_type": "code",
   "execution_count": 23,
   "id": "cd8db5cd-72b9-4a1e-8c38-43f6a4a2d64f",
   "metadata": {
    "execution": {
     "iopub.execute_input": "2023-09-05T08:32:48.491956Z",
     "iopub.status.busy": "2023-09-05T08:32:48.491585Z",
     "iopub.status.idle": "2023-09-05T08:32:48.523057Z",
     "shell.execute_reply": "2023-09-05T08:32:48.522248Z",
     "shell.execute_reply.started": "2023-09-05T08:32:48.491919Z"
    }
   },
   "outputs": [
    {
     "name": "stdout",
     "output_type": "stream",
     "text": [
      "The confusion matrix is:\n",
      "  [[1959   87]\n",
      " [  61 2053]]\n"
     ]
    },
    {
     "data": {
      "text/html": [
       "<div>\n",
       "<style scoped>\n",
       "    .dataframe tbody tr th:only-of-type {\n",
       "        vertical-align: middle;\n",
       "    }\n",
       "\n",
       "    .dataframe tbody tr th {\n",
       "        vertical-align: top;\n",
       "    }\n",
       "\n",
       "    .dataframe thead th {\n",
       "        text-align: right;\n",
       "    }\n",
       "</style>\n",
       "<table border=\"1\" class=\"dataframe\">\n",
       "  <thead>\n",
       "    <tr style=\"text-align: right;\">\n",
       "      <th></th>\n",
       "      <th>Validation Score</th>\n",
       "    </tr>\n",
       "  </thead>\n",
       "  <tbody>\n",
       "    <tr>\n",
       "      <th>accuracy_score</th>\n",
       "      <td>96.44</td>\n",
       "    </tr>\n",
       "    <tr>\n",
       "      <th>precision_score</th>\n",
       "      <td>95.93</td>\n",
       "    </tr>\n",
       "    <tr>\n",
       "      <th>recall_score</th>\n",
       "      <td>97.11</td>\n",
       "    </tr>\n",
       "    <tr>\n",
       "      <th>f1_score</th>\n",
       "      <td>96.52</td>\n",
       "    </tr>\n",
       "  </tbody>\n",
       "</table>\n",
       "</div>"
      ],
      "text/plain": [
       "                 Validation Score\n",
       "accuracy_score              96.44\n",
       "precision_score             95.93\n",
       "recall_score                97.11\n",
       "f1_score                    96.52"
      ]
     },
     "execution_count": 23,
     "metadata": {},
     "output_type": "execute_result"
    }
   ],
   "source": [
    "# Evaluate on validation set\n",
    "validation_scores = {score.__name__: calculate_quality(Y_val, svm_predictions_val[0], score) \n",
    "                     for score in [accuracy_score, precision_score, recall_score, f1_score]}\n",
    "\n",
    "# Create a DataFrame from the dictionary\n",
    "train_scores_df = pd.DataFrame.from_dict(validation_scores, orient='index', columns=['Validation Score']).T\n",
    "print('The confusion matrix is:\\n ',confusion_matrix(Y_val, svm_predictions_val))\n",
    "# Display the DataFrame\n",
    "train_scores_df"
   ]
  },
  {
   "cell_type": "markdown",
   "id": "77cc43c7-b91b-4b4e-abc7-912bc3dce036",
   "metadata": {
    "tags": []
   },
   "source": [
    "<h5 id=\"heading\"><span font-family:Georgia\"><Strong>🧑🏻‍⚖️ 2. Evaluate the test set </Strong></span></h5>\n"
   ]
  },
  {
   "cell_type": "code",
   "execution_count": 24,
   "id": "b851dbdb-bd15-46b6-b5c2-8f30a180a5ce",
   "metadata": {
    "execution": {
     "iopub.execute_input": "2023-09-05T08:32:48.525050Z",
     "iopub.status.busy": "2023-09-05T08:32:48.524336Z",
     "iopub.status.idle": "2023-09-05T08:34:15.338587Z",
     "shell.execute_reply": "2023-09-05T08:34:15.337664Z",
     "shell.execute_reply.started": "2023-09-05T08:32:48.525014Z"
    }
   },
   "outputs": [],
   "source": [
    "svm_predictions_test = svm_clf.predict(X_test)"
   ]
  },
  {
   "cell_type": "code",
   "execution_count": 25,
   "id": "f16a7a74-dbbc-4eef-a28a-224eaa71e70b",
   "metadata": {
    "execution": {
     "iopub.execute_input": "2023-09-05T08:34:15.340388Z",
     "iopub.status.busy": "2023-09-05T08:34:15.339953Z",
     "iopub.status.idle": "2023-09-05T08:34:15.365366Z",
     "shell.execute_reply": "2023-09-05T08:34:15.364586Z",
     "shell.execute_reply.started": "2023-09-05T08:34:15.340357Z"
    }
   },
   "outputs": [
    {
     "name": "stdout",
     "output_type": "stream",
     "text": [
      "The confusion matrix is:\n",
      "  [[1516  823]\n",
      " [1075 1786]]\n"
     ]
    },
    {
     "data": {
      "text/html": [
       "<div>\n",
       "<style scoped>\n",
       "    .dataframe tbody tr th:only-of-type {\n",
       "        vertical-align: middle;\n",
       "    }\n",
       "\n",
       "    .dataframe tbody tr th {\n",
       "        vertical-align: top;\n",
       "    }\n",
       "\n",
       "    .dataframe thead th {\n",
       "        text-align: right;\n",
       "    }\n",
       "</style>\n",
       "<table border=\"1\" class=\"dataframe\">\n",
       "  <thead>\n",
       "    <tr style=\"text-align: right;\">\n",
       "      <th></th>\n",
       "      <th>Validation Score</th>\n",
       "    </tr>\n",
       "  </thead>\n",
       "  <tbody>\n",
       "    <tr>\n",
       "      <th>accuracy_score</th>\n",
       "      <td>63.50</td>\n",
       "    </tr>\n",
       "    <tr>\n",
       "      <th>precision_score</th>\n",
       "      <td>68.46</td>\n",
       "    </tr>\n",
       "    <tr>\n",
       "      <th>recall_score</th>\n",
       "      <td>62.43</td>\n",
       "    </tr>\n",
       "    <tr>\n",
       "      <th>f1_score</th>\n",
       "      <td>65.30</td>\n",
       "    </tr>\n",
       "  </tbody>\n",
       "</table>\n",
       "</div>"
      ],
      "text/plain": [
       "                 Validation Score\n",
       "accuracy_score              63.50\n",
       "precision_score             68.46\n",
       "recall_score                62.43\n",
       "f1_score                    65.30"
      ]
     },
     "execution_count": 25,
     "metadata": {},
     "output_type": "execute_result"
    }
   ],
   "source": [
    "# Evaluate on validation set\n",
    "validation_scores = {score.__name__: calculate_quality(Y_test, svm_predictions_test, score) \n",
    "                     for score in [accuracy_score, precision_score, recall_score, f1_score]}\n",
    "\n",
    "# Create a DataFrame from the dictionary\n",
    "test_scores_df = pd.DataFrame.from_dict(validation_scores, orient='index', columns=['Validation Score']).T\n",
    "print('The confusion matrix is:\\n ',confusion_matrix(Y_test, svm_predictions_test))\n",
    "# Display the DataFrame\n",
    "test_scores_df"
   ]
  },
  {
   "cell_type": "code",
   "execution_count": 26,
   "id": "750abb49-c4fc-4d40-8132-28eeb29df8dd",
   "metadata": {
    "execution": {
     "iopub.execute_input": "2023-09-05T08:34:15.374113Z",
     "iopub.status.busy": "2023-09-05T08:34:15.373550Z",
     "iopub.status.idle": "2023-09-05T08:34:15.380753Z",
     "shell.execute_reply": "2023-09-05T08:34:15.379944Z",
     "shell.execute_reply.started": "2023-09-05T08:34:15.374087Z"
    }
   },
   "outputs": [
    {
     "data": {
      "text/plain": [
       "Validation Score    64.9225\n",
       "dtype: float64"
      ]
     },
     "execution_count": 26,
     "metadata": {},
     "output_type": "execute_result"
    }
   ],
   "source": [
    "mean_test_scores = test_scores_df.mean()\n",
    "mean_test_scores"
   ]
  },
  {
   "cell_type": "markdown",
   "id": "4461b8ec-45c0-45e7-b074-875478dea735",
   "metadata": {
    "tags": []
   },
   "source": [
    "***\n",
    "<h4 id=\"heading\"><span style=\"background-color:#cefffb; color:#1b4946 ; display:fill;border-radius:5px; font-family:cursive\"> 🗃️ Log run </span></h4>"
   ]
  },
  {
   "cell_type": "markdown",
   "id": "9b955fd9-6f86-41d1-b2dd-64287bd5b855",
   "metadata": {
    "tags": []
   },
   "source": [
    "<h5 id=\"heading\"><span font-family:Georgia\"><Strong>📑 1. Prepare </Strong></span></h5>\n"
   ]
  },
  {
   "cell_type": "code",
   "execution_count": 27,
   "id": "71b7a428-55ad-4d6f-9956-4e75de38235a",
   "metadata": {
    "execution": {
     "iopub.execute_input": "2023-09-05T08:34:15.383276Z",
     "iopub.status.busy": "2023-09-05T08:34:15.381864Z",
     "iopub.status.idle": "2023-09-05T08:34:15.474102Z",
     "shell.execute_reply": "2023-09-05T08:34:15.473079Z",
     "shell.execute_reply.started": "2023-09-05T08:34:15.383209Z"
    },
    "tags": []
   },
   "outputs": [],
   "source": [
    "# Data details\n",
    "data_details = {\"data_train_path\": TRAIN_PATH,\n",
    "                \"data_test_path\": TEST_PATH,\n",
    "                \"training_victorize\": X_train,\n",
    "                \"test_victorize\":     X_test\n",
    "               }\n",
    "\n",
    "with open(os.path.join(LOG_PATH, LOG_DATA_PKL), \"wb\") as output_file:\n",
    "    pickle.dump(data_details, output_file)"
   ]
  },
  {
   "cell_type": "code",
   "execution_count": 28,
   "id": "6e15cc69-be0c-4410-9966-1fe53331549c",
   "metadata": {
    "execution": {
     "iopub.execute_input": "2023-09-05T08:34:15.477446Z",
     "iopub.status.busy": "2023-09-05T08:34:15.476431Z",
     "iopub.status.idle": "2023-09-05T08:34:15.507038Z",
     "shell.execute_reply": "2023-09-05T08:34:15.505118Z",
     "shell.execute_reply.started": "2023-09-05T08:34:15.477393Z"
    }
   },
   "outputs": [],
   "source": [
    "# Model\n",
    "model = {\"model_description\": \" Support Vector Classifier (SVM) \",\n",
    "         \"model_details\": str(svm_clf),\n",
    "         \"model_object\": svm_clf} \n",
    "\n",
    "with open(os.path.join(LOG_PATH, LOG_MODEL_PKL), \"wb\") as output_file:\n",
    "    pickle.dump(model, output_file)"
   ]
  },
  {
   "cell_type": "code",
   "execution_count": 29,
   "id": "c7065e35-f6c9-467e-bd95-e0a0d49cc0a7",
   "metadata": {
    "execution": {
     "iopub.execute_input": "2023-09-05T08:34:15.508466Z",
     "iopub.status.busy": "2023-09-05T08:34:15.508091Z",
     "iopub.status.idle": "2023-09-05T08:34:15.852314Z",
     "shell.execute_reply": "2023-09-05T08:34:15.851302Z",
     "shell.execute_reply.started": "2023-09-05T08:34:15.508438Z"
    }
   },
   "outputs": [],
   "source": [
    "# Performance details\n",
    "classes_metrics = {\"train_scores\": train_scores_df, \n",
    "                   \"test_scores\":  test_scores_df}\n",
    "\n",
    "with open(os.path.join(LOG_PATH, LOG_METRICS_PKL), \"wb\") as output_file:\n",
    "    pickle.dump(classes_metrics, output_file)"
   ]
  },
  {
   "cell_type": "markdown",
   "id": "82dd185f-459f-4de3-8fd6-7d7caaaf1ec1",
   "metadata": {
    "tags": []
   },
   "source": [
    "<h5 id=\"heading\"><span font-family:Georgia\"><Strong>📑 2. Log </Strong></span></h5>\n"
   ]
  },
  {
   "cell_type": "code",
   "execution_count": 30,
   "id": "86d123d8-15c3-4a17-b73f-1f19daca2774",
   "metadata": {
    "execution": {
     "iopub.execute_input": "2023-09-05T08:34:15.854134Z",
     "iopub.status.busy": "2023-09-05T08:34:15.853690Z",
     "iopub.status.idle": "2023-09-05T08:34:16.011842Z",
     "shell.execute_reply": "2023-09-05T08:34:16.010502Z",
     "shell.execute_reply.started": "2023-09-05T08:34:15.854103Z"
    }
   },
   "outputs": [],
   "source": [
    "# Start a new run and track \n",
    "with mlflow.start_run(experiment_id=exp.experiment_id, run_name=model[\"model_description\"]):\n",
    "    # Log pickles \n",
    "    mlflow.log_artifacts(LOG_PATH)\n",
    "    \n",
    "    # Track metrics \n",
    "    for metric, score in mean_test_scores.items():\n",
    "        mlflow.log_metric(metric, score) \n",
    "    "
   ]
  },
  {
   "cell_type": "markdown",
   "id": "ccd3d8aa-b679-429f-9474-f2f74f4ee9d2",
   "metadata": {
    "tags": []
   },
   "source": [
    "***\n",
    "<h3 id=\"heading\"><span style=\"background-color:#F7CBFF; color:#581845 ; display:fill;border-radius:5px; font-family:Georgia\"><Strong>📦 3. Random Forest Classifier </Strong></span></h3>\n"
   ]
  },
  {
   "cell_type": "markdown",
   "id": "599fb06e-f8ba-4ef4-a09b-4c146fdd6c7b",
   "metadata": {
    "tags": []
   },
   "source": [
    "<h5 id=\"heading\"><span font-family:Georgia\"><Strong>🧑🏻‍⚖️ 1. Evaluate the training set </Strong></span></h5>\n"
   ]
  },
  {
   "cell_type": "code",
   "execution_count": 31,
   "id": "620f7528-0d05-4b4b-9261-585e405796a6",
   "metadata": {
    "execution": {
     "iopub.execute_input": "2023-09-05T08:34:16.014744Z",
     "iopub.status.busy": "2023-09-05T08:34:16.014251Z",
     "iopub.status.idle": "2023-09-05T08:35:23.129051Z",
     "shell.execute_reply": "2023-09-05T08:35:23.128147Z",
     "shell.execute_reply.started": "2023-09-05T08:34:16.014698Z"
    }
   },
   "outputs": [],
   "source": [
    "rf_clf = make_pipeline(RandomForestClassifier())\n",
    "\n",
    "rf_clf.fit(X_train, Y_train)\n",
    "rf_predictions_val =  pd.DataFrame(rf_clf.predict(X_val))"
   ]
  },
  {
   "cell_type": "code",
   "execution_count": 32,
   "id": "8346b540-cce8-4a23-961f-e416130318d0",
   "metadata": {
    "execution": {
     "iopub.execute_input": "2023-09-05T08:35:23.130695Z",
     "iopub.status.busy": "2023-09-05T08:35:23.130220Z",
     "iopub.status.idle": "2023-09-05T08:35:23.169724Z",
     "shell.execute_reply": "2023-09-05T08:35:23.168819Z",
     "shell.execute_reply.started": "2023-09-05T08:35:23.130656Z"
    }
   },
   "outputs": [
    {
     "name": "stdout",
     "output_type": "stream",
     "text": [
      "The confusion matrix is:\n",
      "  [[1944  102]\n",
      " [ 222 1892]]\n"
     ]
    },
    {
     "data": {
      "text/html": [
       "<div>\n",
       "<style scoped>\n",
       "    .dataframe tbody tr th:only-of-type {\n",
       "        vertical-align: middle;\n",
       "    }\n",
       "\n",
       "    .dataframe tbody tr th {\n",
       "        vertical-align: top;\n",
       "    }\n",
       "\n",
       "    .dataframe thead th {\n",
       "        text-align: right;\n",
       "    }\n",
       "</style>\n",
       "<table border=\"1\" class=\"dataframe\">\n",
       "  <thead>\n",
       "    <tr style=\"text-align: right;\">\n",
       "      <th></th>\n",
       "      <th>Validation Score</th>\n",
       "    </tr>\n",
       "  </thead>\n",
       "  <tbody>\n",
       "    <tr>\n",
       "      <th>accuracy_score</th>\n",
       "      <td>92.21</td>\n",
       "    </tr>\n",
       "    <tr>\n",
       "      <th>precision_score</th>\n",
       "      <td>94.88</td>\n",
       "    </tr>\n",
       "    <tr>\n",
       "      <th>recall_score</th>\n",
       "      <td>89.50</td>\n",
       "    </tr>\n",
       "    <tr>\n",
       "      <th>f1_score</th>\n",
       "      <td>92.11</td>\n",
       "    </tr>\n",
       "  </tbody>\n",
       "</table>\n",
       "</div>"
      ],
      "text/plain": [
       "                 Validation Score\n",
       "accuracy_score              92.21\n",
       "precision_score             94.88\n",
       "recall_score                89.50\n",
       "f1_score                    92.11"
      ]
     },
     "execution_count": 32,
     "metadata": {},
     "output_type": "execute_result"
    }
   ],
   "source": [
    "# Evaluate on validation set\n",
    "validation_scores = {score.__name__: calculate_quality(Y_val, rf_predictions_val[0], score) \n",
    "                     for score in [accuracy_score, precision_score, recall_score, f1_score]}\n",
    "\n",
    "# Create a DataFrame from the dictionary\n",
    "train_scores_df = pd.DataFrame.from_dict(validation_scores, orient='index', columns=['Validation Score']).T\n",
    "print('The confusion matrix is:\\n ',confusion_matrix(Y_val, rf_predictions_val))\n",
    "# Display the DataFrame\n",
    "train_scores_df"
   ]
  },
  {
   "cell_type": "markdown",
   "id": "55e25b13-2f79-4db6-8b6a-de42c4b77fe0",
   "metadata": {
    "tags": []
   },
   "source": [
    "<h5 id=\"heading\"><span font-family:Georgia\"><Strong>🧑🏻‍⚖️ 2. Evaluate the test set </Strong></span></h5>\n"
   ]
  },
  {
   "cell_type": "code",
   "execution_count": 33,
   "id": "724c9da8-b427-4084-9245-bdf5243f568c",
   "metadata": {
    "execution": {
     "iopub.execute_input": "2023-09-05T08:35:23.171090Z",
     "iopub.status.busy": "2023-09-05T08:35:23.170826Z",
     "iopub.status.idle": "2023-09-05T08:35:24.234618Z",
     "shell.execute_reply": "2023-09-05T08:35:24.233805Z",
     "shell.execute_reply.started": "2023-09-05T08:35:23.171067Z"
    }
   },
   "outputs": [],
   "source": [
    "rf_predictions_test = rf_clf.predict(X_test)"
   ]
  },
  {
   "cell_type": "code",
   "execution_count": 34,
   "id": "b51b4fae-b16c-463f-9749-c4d92552b29e",
   "metadata": {
    "execution": {
     "iopub.execute_input": "2023-09-05T08:35:24.235919Z",
     "iopub.status.busy": "2023-09-05T08:35:24.235602Z",
     "iopub.status.idle": "2023-09-05T08:35:24.263535Z",
     "shell.execute_reply": "2023-09-05T08:35:24.261956Z",
     "shell.execute_reply.started": "2023-09-05T08:35:24.235893Z"
    }
   },
   "outputs": [
    {
     "name": "stdout",
     "output_type": "stream",
     "text": [
      "The confusion matrix is:\n",
      "  [[1677  662]\n",
      " [1088 1773]]\n"
     ]
    },
    {
     "data": {
      "text/html": [
       "<div>\n",
       "<style scoped>\n",
       "    .dataframe tbody tr th:only-of-type {\n",
       "        vertical-align: middle;\n",
       "    }\n",
       "\n",
       "    .dataframe tbody tr th {\n",
       "        vertical-align: top;\n",
       "    }\n",
       "\n",
       "    .dataframe thead th {\n",
       "        text-align: right;\n",
       "    }\n",
       "</style>\n",
       "<table border=\"1\" class=\"dataframe\">\n",
       "  <thead>\n",
       "    <tr style=\"text-align: right;\">\n",
       "      <th></th>\n",
       "      <th>Validation Score</th>\n",
       "    </tr>\n",
       "  </thead>\n",
       "  <tbody>\n",
       "    <tr>\n",
       "      <th>accuracy_score</th>\n",
       "      <td>66.35</td>\n",
       "    </tr>\n",
       "    <tr>\n",
       "      <th>precision_score</th>\n",
       "      <td>72.81</td>\n",
       "    </tr>\n",
       "    <tr>\n",
       "      <th>recall_score</th>\n",
       "      <td>61.97</td>\n",
       "    </tr>\n",
       "    <tr>\n",
       "      <th>f1_score</th>\n",
       "      <td>66.96</td>\n",
       "    </tr>\n",
       "  </tbody>\n",
       "</table>\n",
       "</div>"
      ],
      "text/plain": [
       "                 Validation Score\n",
       "accuracy_score              66.35\n",
       "precision_score             72.81\n",
       "recall_score                61.97\n",
       "f1_score                    66.96"
      ]
     },
     "execution_count": 34,
     "metadata": {},
     "output_type": "execute_result"
    }
   ],
   "source": [
    "# Evaluate on validation set\n",
    "validation_scores = {score.__name__: calculate_quality(Y_test, rf_predictions_test, score) \n",
    "                     for score in [accuracy_score, precision_score, recall_score, f1_score]}\n",
    "\n",
    "# Create a DataFrame from the dictionary\n",
    "test_scores_df = pd.DataFrame.from_dict(validation_scores, orient='index', columns=['Validation Score']).T\n",
    "print('The confusion matrix is:\\n ',confusion_matrix(Y_test, rf_predictions_test))\n",
    "# Display the DataFrame\n",
    "test_scores_df"
   ]
  },
  {
   "cell_type": "code",
   "execution_count": 35,
   "id": "6ede592e-5444-4020-9b81-e06179384a72",
   "metadata": {
    "execution": {
     "iopub.execute_input": "2023-09-05T08:35:24.264874Z",
     "iopub.status.busy": "2023-09-05T08:35:24.264611Z",
     "iopub.status.idle": "2023-09-05T08:35:24.301053Z",
     "shell.execute_reply": "2023-09-05T08:35:24.299559Z",
     "shell.execute_reply.started": "2023-09-05T08:35:24.264851Z"
    }
   },
   "outputs": [
    {
     "data": {
      "text/plain": [
       "Validation Score    67.0225\n",
       "dtype: float64"
      ]
     },
     "execution_count": 35,
     "metadata": {},
     "output_type": "execute_result"
    }
   ],
   "source": [
    "mean_test_scores = test_scores_df.mean()\n",
    "mean_test_scores"
   ]
  },
  {
   "cell_type": "markdown",
   "id": "e2e28481-2026-4ed3-88bc-07a31be5118d",
   "metadata": {
    "tags": []
   },
   "source": [
    "<h4 id=\"heading\"><span style=\"background-color:#cefffb; color:#1b4946 ; display:fill;border-radius:5px; font-family:cursive\"> 🗃️ Log run </span></h4>"
   ]
  },
  {
   "cell_type": "markdown",
   "id": "ffc57a8d-ce81-4b5a-b7d8-1d64678c668d",
   "metadata": {
    "tags": []
   },
   "source": [
    "<h5 id=\"heading\"><span font-family:Georgia\"><Strong>📑 1. Prepare </Strong></span></h5>\n"
   ]
  },
  {
   "cell_type": "code",
   "execution_count": 36,
   "id": "0c176367-87dc-4c53-90bc-5df85b8c57eb",
   "metadata": {
    "execution": {
     "iopub.execute_input": "2023-09-05T08:35:24.304301Z",
     "iopub.status.busy": "2023-09-05T08:35:24.303188Z",
     "iopub.status.idle": "2023-09-05T08:35:24.394324Z",
     "shell.execute_reply": "2023-09-05T08:35:24.393500Z",
     "shell.execute_reply.started": "2023-09-05T08:35:24.304247Z"
    },
    "tags": []
   },
   "outputs": [],
   "source": [
    "# Data details\n",
    "data_details = {\"data_train_path\": TRAIN_PATH,\n",
    "                \"data_test_path\": TEST_PATH,\n",
    "                \"training_victorize\": X_train,\n",
    "                \"test_victorize\":     X_test\n",
    "               }\n",
    "\n",
    "with open(os.path.join(LOG_PATH, LOG_DATA_PKL), \"wb\") as output_file:\n",
    "    pickle.dump(data_details, output_file)"
   ]
  },
  {
   "cell_type": "code",
   "execution_count": 37,
   "id": "77cf94e9-b23e-44d1-a72e-01817216f392",
   "metadata": {
    "execution": {
     "iopub.execute_input": "2023-09-05T08:35:24.396042Z",
     "iopub.status.busy": "2023-09-05T08:35:24.395589Z",
     "iopub.status.idle": "2023-09-05T08:35:24.469214Z",
     "shell.execute_reply": "2023-09-05T08:35:24.467966Z",
     "shell.execute_reply.started": "2023-09-05T08:35:24.396007Z"
    }
   },
   "outputs": [],
   "source": [
    "# Model\n",
    "model = {\"model_description\": \"random Forest Classifier \",\n",
    "         \"model_details\": str(rf_clf),\n",
    "         \"model_object\": rf_clf} \n",
    "\n",
    "with open(os.path.join(LOG_PATH, LOG_MODEL_PKL), \"wb\") as output_file:\n",
    "    pickle.dump(model, output_file)"
   ]
  },
  {
   "cell_type": "code",
   "execution_count": 38,
   "id": "bad4a194-c49c-4682-8164-cb153fe0121f",
   "metadata": {
    "execution": {
     "iopub.execute_input": "2023-09-05T08:35:24.471337Z",
     "iopub.status.busy": "2023-09-05T08:35:24.470667Z",
     "iopub.status.idle": "2023-09-05T08:35:24.885713Z",
     "shell.execute_reply": "2023-09-05T08:35:24.884815Z",
     "shell.execute_reply.started": "2023-09-05T08:35:24.471295Z"
    }
   },
   "outputs": [],
   "source": [
    "# Performance details\n",
    "classes_metrics = {\"train_scores\": train_scores_df, \n",
    "                   \"test_scores\":  test_scores_df}\n",
    "\n",
    "with open(os.path.join(LOG_PATH, LOG_METRICS_PKL), \"wb\") as output_file:\n",
    "    pickle.dump(classes_metrics, output_file)"
   ]
  },
  {
   "cell_type": "markdown",
   "id": "471225a4-2fc8-49c7-97c8-056bcebd55fb",
   "metadata": {
    "tags": []
   },
   "source": [
    "<h5 id=\"heading\"><span font-family:Georgia\"><Strong>📑 2. Log </Strong></span></h5>\n"
   ]
  },
  {
   "cell_type": "code",
   "execution_count": 39,
   "id": "c5194f8f-1894-4bcd-9fa6-15617c78c454",
   "metadata": {
    "execution": {
     "iopub.execute_input": "2023-09-05T08:35:24.887704Z",
     "iopub.status.busy": "2023-09-05T08:35:24.887291Z",
     "iopub.status.idle": "2023-09-05T08:35:25.051270Z",
     "shell.execute_reply": "2023-09-05T08:35:25.050316Z",
     "shell.execute_reply.started": "2023-09-05T08:35:24.887679Z"
    }
   },
   "outputs": [],
   "source": [
    "# Start a new run and track \n",
    "with mlflow.start_run(experiment_id=exp.experiment_id, run_name=model[\"model_description\"]):\n",
    "    # Log pickles \n",
    "    mlflow.log_artifacts(LOG_PATH)\n",
    "    \n",
    "    # Track metrics \n",
    "    for metric, score in mean_test_scores.items():\n",
    "        mlflow.log_metric(metric, score) \n",
    "    "
   ]
  },
  {
   "cell_type": "markdown",
   "id": "3804fb65-8adc-4d37-b502-cb7f4b746675",
   "metadata": {
    "tags": []
   },
   "source": [
    "***\n",
    "<h3 id=\"heading\"><span style=\"background-color:#F7CBFF; color:#581845 ; display:fill;border-radius:5px; font-family:Georgia\"><Strong>📦 4. DecisionTreeClassifier </Strong></span></h3>\n"
   ]
  },
  {
   "cell_type": "markdown",
   "id": "015ec758-4e90-44f7-808f-8712f8a36982",
   "metadata": {
    "tags": []
   },
   "source": [
    "<h5 id=\"heading\"><span font-family:Georgia\"><Strong>🧑🏻‍⚖️ 1. Evaluate the training set </Strong></span></h5>\n"
   ]
  },
  {
   "cell_type": "code",
   "execution_count": 40,
   "id": "48cd77f7-cb8d-4cca-9991-f80ad78167bd",
   "metadata": {
    "execution": {
     "iopub.execute_input": "2023-09-05T08:35:25.053078Z",
     "iopub.status.busy": "2023-09-05T08:35:25.052699Z",
     "iopub.status.idle": "2023-09-05T08:36:02.647009Z",
     "shell.execute_reply": "2023-09-05T08:36:02.645911Z",
     "shell.execute_reply.started": "2023-09-05T08:35:25.053044Z"
    }
   },
   "outputs": [],
   "source": [
    "dt_clf = make_pipeline(DecisionTreeClassifier())\n",
    "\n",
    "dt_clf.fit(X_train, Y_train)\n",
    "dt_predictions_val =  pd.DataFrame(dt_clf.predict(X_val))"
   ]
  },
  {
   "cell_type": "code",
   "execution_count": 41,
   "id": "12fd6a1b-abaa-4509-9162-3304aed7b7e3",
   "metadata": {
    "execution": {
     "iopub.execute_input": "2023-09-05T08:36:02.649010Z",
     "iopub.status.busy": "2023-09-05T08:36:02.648304Z",
     "iopub.status.idle": "2023-09-05T08:36:02.692909Z",
     "shell.execute_reply": "2023-09-05T08:36:02.691986Z",
     "shell.execute_reply.started": "2023-09-05T08:36:02.648969Z"
    }
   },
   "outputs": [
    {
     "name": "stdout",
     "output_type": "stream",
     "text": [
      "The confusion matrix is:\n",
      "  [[1900  146]\n",
      " [ 119 1995]]\n"
     ]
    },
    {
     "data": {
      "text/html": [
       "<div>\n",
       "<style scoped>\n",
       "    .dataframe tbody tr th:only-of-type {\n",
       "        vertical-align: middle;\n",
       "    }\n",
       "\n",
       "    .dataframe tbody tr th {\n",
       "        vertical-align: top;\n",
       "    }\n",
       "\n",
       "    .dataframe thead th {\n",
       "        text-align: right;\n",
       "    }\n",
       "</style>\n",
       "<table border=\"1\" class=\"dataframe\">\n",
       "  <thead>\n",
       "    <tr style=\"text-align: right;\">\n",
       "      <th></th>\n",
       "      <th>Validation Score</th>\n",
       "    </tr>\n",
       "  </thead>\n",
       "  <tbody>\n",
       "    <tr>\n",
       "      <th>accuracy_score</th>\n",
       "      <td>93.63</td>\n",
       "    </tr>\n",
       "    <tr>\n",
       "      <th>precision_score</th>\n",
       "      <td>93.18</td>\n",
       "    </tr>\n",
       "    <tr>\n",
       "      <th>recall_score</th>\n",
       "      <td>94.37</td>\n",
       "    </tr>\n",
       "    <tr>\n",
       "      <th>f1_score</th>\n",
       "      <td>93.77</td>\n",
       "    </tr>\n",
       "  </tbody>\n",
       "</table>\n",
       "</div>"
      ],
      "text/plain": [
       "                 Validation Score\n",
       "accuracy_score              93.63\n",
       "precision_score             93.18\n",
       "recall_score                94.37\n",
       "f1_score                    93.77"
      ]
     },
     "execution_count": 41,
     "metadata": {},
     "output_type": "execute_result"
    }
   ],
   "source": [
    "# Evaluate on validation set\n",
    "validation_scores = {score.__name__: calculate_quality(Y_val, dt_predictions_val[0], score) \n",
    "                     for score in [accuracy_score, precision_score, recall_score, f1_score]}\n",
    "\n",
    "# Create a DataFrame from the dictionary\n",
    "train_scores_df = pd.DataFrame.from_dict(validation_scores, orient='index', columns=['Validation Score']).T\n",
    "print('The confusion matrix is:\\n ',confusion_matrix(Y_val, dt_predictions_val))\n",
    "# Display the DataFrame\n",
    "train_scores_df"
   ]
  },
  {
   "cell_type": "markdown",
   "id": "b4264aa9-70b8-4a8e-b9e5-daedb3e89f5b",
   "metadata": {
    "tags": []
   },
   "source": [
    "<h5 id=\"heading\"><span font-family:Georgia\"><Strong>🧑🏻‍⚖️ 2. Evaluate the test set </Strong></span></h5>\n"
   ]
  },
  {
   "cell_type": "code",
   "execution_count": 42,
   "id": "3830f2d4-17a3-4c0a-b7a1-b97eaf03e981",
   "metadata": {
    "execution": {
     "iopub.execute_input": "2023-09-05T08:36:02.694829Z",
     "iopub.status.busy": "2023-09-05T08:36:02.694429Z",
     "iopub.status.idle": "2023-09-05T08:36:02.850594Z",
     "shell.execute_reply": "2023-09-05T08:36:02.849636Z",
     "shell.execute_reply.started": "2023-09-05T08:36:02.694794Z"
    }
   },
   "outputs": [],
   "source": [
    "dt_predictions_test = dt_clf.predict(X_test)"
   ]
  },
  {
   "cell_type": "code",
   "execution_count": 43,
   "id": "2a26821a-3487-4dff-95a8-6dd83a0d7bc3",
   "metadata": {
    "execution": {
     "iopub.execute_input": "2023-09-05T08:36:02.852821Z",
     "iopub.status.busy": "2023-09-05T08:36:02.852065Z",
     "iopub.status.idle": "2023-09-05T08:36:02.987254Z",
     "shell.execute_reply": "2023-09-05T08:36:02.986261Z",
     "shell.execute_reply.started": "2023-09-05T08:36:02.852781Z"
    }
   },
   "outputs": [
    {
     "name": "stdout",
     "output_type": "stream",
     "text": [
      "The confusion matrix is:\n",
      "  [[1531  808]\n",
      " [1075 1786]]\n"
     ]
    },
    {
     "data": {
      "text/html": [
       "<div>\n",
       "<style scoped>\n",
       "    .dataframe tbody tr th:only-of-type {\n",
       "        vertical-align: middle;\n",
       "    }\n",
       "\n",
       "    .dataframe tbody tr th {\n",
       "        vertical-align: top;\n",
       "    }\n",
       "\n",
       "    .dataframe thead th {\n",
       "        text-align: right;\n",
       "    }\n",
       "</style>\n",
       "<table border=\"1\" class=\"dataframe\">\n",
       "  <thead>\n",
       "    <tr style=\"text-align: right;\">\n",
       "      <th></th>\n",
       "      <th>Validation Score</th>\n",
       "    </tr>\n",
       "  </thead>\n",
       "  <tbody>\n",
       "    <tr>\n",
       "      <th>accuracy_score</th>\n",
       "      <td>63.79</td>\n",
       "    </tr>\n",
       "    <tr>\n",
       "      <th>precision_score</th>\n",
       "      <td>68.85</td>\n",
       "    </tr>\n",
       "    <tr>\n",
       "      <th>recall_score</th>\n",
       "      <td>62.43</td>\n",
       "    </tr>\n",
       "    <tr>\n",
       "      <th>f1_score</th>\n",
       "      <td>65.48</td>\n",
       "    </tr>\n",
       "  </tbody>\n",
       "</table>\n",
       "</div>"
      ],
      "text/plain": [
       "                 Validation Score\n",
       "accuracy_score              63.79\n",
       "precision_score             68.85\n",
       "recall_score                62.43\n",
       "f1_score                    65.48"
      ]
     },
     "execution_count": 43,
     "metadata": {},
     "output_type": "execute_result"
    }
   ],
   "source": [
    "# Evaluate on validation set\n",
    "validation_scores = {score.__name__: calculate_quality(Y_test, dt_predictions_test, score) \n",
    "                     for score in [accuracy_score, precision_score, recall_score, f1_score]}\n",
    "\n",
    "# Create a DataFrame from the dictionary\n",
    "test_scores_df = pd.DataFrame.from_dict(validation_scores, orient='index', columns=['Validation Score']).T\n",
    "print('The confusion matrix is:\\n ',confusion_matrix(Y_test, dt_predictions_test))\n",
    "# Display the DataFrame\n",
    "test_scores_df"
   ]
  },
  {
   "cell_type": "code",
   "execution_count": 44,
   "id": "9c856382-9988-45ce-a490-9b64e9356733",
   "metadata": {
    "execution": {
     "iopub.execute_input": "2023-09-05T08:36:02.989826Z",
     "iopub.status.busy": "2023-09-05T08:36:02.988643Z",
     "iopub.status.idle": "2023-09-05T08:36:03.102047Z",
     "shell.execute_reply": "2023-09-05T08:36:03.100793Z",
     "shell.execute_reply.started": "2023-09-05T08:36:02.989784Z"
    }
   },
   "outputs": [
    {
     "data": {
      "text/plain": [
       "Validation Score    65.1375\n",
       "dtype: float64"
      ]
     },
     "execution_count": 44,
     "metadata": {},
     "output_type": "execute_result"
    }
   ],
   "source": [
    "mean_test_scores = test_scores_df.mean()\n",
    "mean_test_scores"
   ]
  },
  {
   "cell_type": "markdown",
   "id": "a9368e68-1517-494a-b4be-449fd2ebf6c7",
   "metadata": {
    "tags": []
   },
   "source": [
    "***\n",
    "<h4 id=\"heading\"><span style=\"background-color:#cefffb; color:#1b4946 ; display:fill;border-radius:5px; font-family:cursive\"> 🗃️ Log run </span></h4>"
   ]
  },
  {
   "cell_type": "markdown",
   "id": "481e79ba-8353-4500-b084-d0593238d25c",
   "metadata": {
    "tags": []
   },
   "source": [
    "<h5 id=\"heading\"><span font-family:Georgia\"><Strong>📑 1. Prepare </Strong></span></h5>\n"
   ]
  },
  {
   "cell_type": "code",
   "execution_count": 45,
   "id": "0e38477a-1927-4068-ad4c-0d8bae4bffdf",
   "metadata": {
    "execution": {
     "iopub.execute_input": "2023-09-05T08:36:03.104386Z",
     "iopub.status.busy": "2023-09-05T08:36:03.103762Z",
     "iopub.status.idle": "2023-09-05T08:36:03.289740Z",
     "shell.execute_reply": "2023-09-05T08:36:03.288470Z",
     "shell.execute_reply.started": "2023-09-05T08:36:03.104351Z"
    },
    "tags": []
   },
   "outputs": [],
   "source": [
    "# Data details\n",
    "data_details = {\"data_train_path\": TRAIN_PATH,\n",
    "                \"data_test_path\": TEST_PATH,\n",
    "                \"training_victorize\": X_train,\n",
    "                \"test_victorize\":     X_test\n",
    "               }\n",
    "\n",
    "with open(os.path.join(LOG_PATH, LOG_DATA_PKL), \"wb\") as output_file:\n",
    "    pickle.dump(data_details, output_file)"
   ]
  },
  {
   "cell_type": "code",
   "execution_count": 46,
   "id": "8a2ecfc5-5fbe-4936-89bd-d06d311dc411",
   "metadata": {
    "execution": {
     "iopub.execute_input": "2023-09-05T08:36:03.291374Z",
     "iopub.status.busy": "2023-09-05T08:36:03.290910Z",
     "iopub.status.idle": "2023-09-05T08:36:03.638784Z",
     "shell.execute_reply": "2023-09-05T08:36:03.637729Z",
     "shell.execute_reply.started": "2023-09-05T08:36:03.291343Z"
    }
   },
   "outputs": [],
   "source": [
    "# Model\n",
    "model = {\"model_description\": \"Decision Tree Classifier \",\n",
    "         \"model_details\": str(dt_clf),\n",
    "         \"model_object\": dt_clf} \n",
    "\n",
    "with open(os.path.join(LOG_PATH, LOG_MODEL_PKL), \"wb\") as output_file:\n",
    "    pickle.dump(model, output_file)"
   ]
  },
  {
   "cell_type": "code",
   "execution_count": 47,
   "id": "7852e3d2-8678-4548-adab-6d3f42ca9325",
   "metadata": {
    "execution": {
     "iopub.execute_input": "2023-09-05T08:36:03.641078Z",
     "iopub.status.busy": "2023-09-05T08:36:03.640399Z",
     "iopub.status.idle": "2023-09-05T08:36:03.759573Z",
     "shell.execute_reply": "2023-09-05T08:36:03.750917Z",
     "shell.execute_reply.started": "2023-09-05T08:36:03.641038Z"
    }
   },
   "outputs": [],
   "source": [
    "# Performance details\n",
    "classes_metrics = {\"train_scores\": train_scores_df, \n",
    "                   \"test_scores\":  test_scores_df}\n",
    "\n",
    "with open(os.path.join(LOG_PATH, LOG_METRICS_PKL), \"wb\") as output_file:\n",
    "    pickle.dump(classes_metrics, output_file)"
   ]
  },
  {
   "cell_type": "markdown",
   "id": "e9e85fd2-4338-4894-8099-1aabd8c6f597",
   "metadata": {
    "tags": []
   },
   "source": [
    "<h5 id=\"heading\"><span font-family:Georgia\"><Strong>📑 2. Log </Strong></span></h5>\n"
   ]
  },
  {
   "cell_type": "code",
   "execution_count": 48,
   "id": "bdeb29fd-50da-40c4-b90a-2e9d2af2e57b",
   "metadata": {
    "execution": {
     "iopub.execute_input": "2023-09-05T08:36:03.761145Z",
     "iopub.status.busy": "2023-09-05T08:36:03.760712Z",
     "iopub.status.idle": "2023-09-05T08:36:03.949211Z",
     "shell.execute_reply": "2023-09-05T08:36:03.948343Z",
     "shell.execute_reply.started": "2023-09-05T08:36:03.761106Z"
    }
   },
   "outputs": [],
   "source": [
    "# Start a new run and track \n",
    "with mlflow.start_run(experiment_id=exp.experiment_id, run_name=model[\"model_description\"]):\n",
    "    # Log pickles \n",
    "    mlflow.log_artifacts(LOG_PATH)\n",
    "    \n",
    "    # Track metrics \n",
    "    for metric, score in mean_test_scores.items():\n",
    "        mlflow.log_metric(metric, score) \n",
    "    "
   ]
  },
  {
   "cell_type": "markdown",
   "id": "1c05739c-b330-48ae-a30d-afcd5162b931",
   "metadata": {
    "tags": []
   },
   "source": [
    "***\n",
    "<h3 id=\"heading\"><span style=\"background-color:#F7CBFF; color:#581845 ; display:fill;border-radius:5px; font-family:Georgia\"><Strong>📦 5. XGboost Classifier </Strong></span></h3>\n"
   ]
  },
  {
   "cell_type": "markdown",
   "id": "2157b2bd-2424-479d-be7d-de66cd778af2",
   "metadata": {
    "tags": []
   },
   "source": [
    "<h5 id=\"heading\"><span font-family:Georgia\"><Strong>🧑🏻‍⚖️ 1. Evaluate the training set </Strong></span></h5>\n"
   ]
  },
  {
   "cell_type": "code",
   "execution_count": 49,
   "id": "0899f690-c338-48f3-a5eb-e516b8642cbf",
   "metadata": {
    "execution": {
     "iopub.execute_input": "2023-09-05T08:36:03.951500Z",
     "iopub.status.busy": "2023-09-05T08:36:03.950480Z",
     "iopub.status.idle": "2023-09-05T08:37:42.500523Z",
     "shell.execute_reply": "2023-09-05T08:37:42.499630Z",
     "shell.execute_reply.started": "2023-09-05T08:36:03.951456Z"
    }
   },
   "outputs": [],
   "source": [
    "xgb_clf = make_pipeline(xg.XGBClassifier())\n",
    "\n",
    "xgb_clf.fit(X_train, Y_train)\n",
    "xgb_predictions_val =  pd.DataFrame(xgb_clf.predict(X_val))"
   ]
  },
  {
   "cell_type": "code",
   "execution_count": 50,
   "id": "4006962d-af3c-4941-87bf-be2665d184c9",
   "metadata": {
    "execution": {
     "iopub.execute_input": "2023-09-05T08:37:42.502961Z",
     "iopub.status.busy": "2023-09-05T08:37:42.502014Z",
     "iopub.status.idle": "2023-09-05T08:37:42.578463Z",
     "shell.execute_reply": "2023-09-05T08:37:42.577107Z",
     "shell.execute_reply.started": "2023-09-05T08:37:42.502795Z"
    }
   },
   "outputs": [
    {
     "name": "stdout",
     "output_type": "stream",
     "text": [
      "The confusion matrix is:\n",
      "  [[1961   85]\n",
      " [  66 2048]]\n"
     ]
    },
    {
     "data": {
      "text/html": [
       "<div>\n",
       "<style scoped>\n",
       "    .dataframe tbody tr th:only-of-type {\n",
       "        vertical-align: middle;\n",
       "    }\n",
       "\n",
       "    .dataframe tbody tr th {\n",
       "        vertical-align: top;\n",
       "    }\n",
       "\n",
       "    .dataframe thead th {\n",
       "        text-align: right;\n",
       "    }\n",
       "</style>\n",
       "<table border=\"1\" class=\"dataframe\">\n",
       "  <thead>\n",
       "    <tr style=\"text-align: right;\">\n",
       "      <th></th>\n",
       "      <th>Validation Score</th>\n",
       "    </tr>\n",
       "  </thead>\n",
       "  <tbody>\n",
       "    <tr>\n",
       "      <th>accuracy_score</th>\n",
       "      <td>96.37</td>\n",
       "    </tr>\n",
       "    <tr>\n",
       "      <th>precision_score</th>\n",
       "      <td>96.02</td>\n",
       "    </tr>\n",
       "    <tr>\n",
       "      <th>recall_score</th>\n",
       "      <td>96.88</td>\n",
       "    </tr>\n",
       "    <tr>\n",
       "      <th>f1_score</th>\n",
       "      <td>96.44</td>\n",
       "    </tr>\n",
       "  </tbody>\n",
       "</table>\n",
       "</div>"
      ],
      "text/plain": [
       "                 Validation Score\n",
       "accuracy_score              96.37\n",
       "precision_score             96.02\n",
       "recall_score                96.88\n",
       "f1_score                    96.44"
      ]
     },
     "execution_count": 50,
     "metadata": {},
     "output_type": "execute_result"
    }
   ],
   "source": [
    "# Evaluate on validation set\n",
    "validation_scores = {score.__name__: calculate_quality(Y_val, xgb_predictions_val[0], score) \n",
    "                     for score in [accuracy_score, precision_score, recall_score, f1_score]}\n",
    "\n",
    "# Create a DataFrame from the dictionary\n",
    "train_scores_df = pd.DataFrame.from_dict(validation_scores, orient='index', columns=['Validation Score']).T\n",
    "print('The confusion matrix is:\\n ',confusion_matrix(Y_val, xgb_predictions_val))\n",
    "# Display the DataFrame\n",
    "train_scores_df"
   ]
  },
  {
   "cell_type": "markdown",
   "id": "58f4703e-f433-428f-8eae-fb4bd009fa18",
   "metadata": {
    "tags": []
   },
   "source": [
    "<h5 id=\"heading\"><span font-family:Georgia\"><Strong>🧑🏻‍⚖️ 2. Evaluate the test set </Strong></span></h5>\n"
   ]
  },
  {
   "cell_type": "code",
   "execution_count": 51,
   "id": "e0c6df6c-e7c1-4ee4-9b4e-9329a806caee",
   "metadata": {
    "execution": {
     "iopub.execute_input": "2023-09-05T08:37:42.589851Z",
     "iopub.status.busy": "2023-09-05T08:37:42.586266Z",
     "iopub.status.idle": "2023-09-05T08:37:42.704909Z",
     "shell.execute_reply": "2023-09-05T08:37:42.704021Z",
     "shell.execute_reply.started": "2023-09-05T08:37:42.589804Z"
    }
   },
   "outputs": [],
   "source": [
    "xgb_predictions_test = xgb_clf.predict(X_test)"
   ]
  },
  {
   "cell_type": "code",
   "execution_count": 52,
   "id": "9320e65a-8952-4d49-88e1-6ea8d17d4463",
   "metadata": {
    "execution": {
     "iopub.execute_input": "2023-09-05T08:37:42.711575Z",
     "iopub.status.busy": "2023-09-05T08:37:42.708745Z",
     "iopub.status.idle": "2023-09-05T08:37:42.783106Z",
     "shell.execute_reply": "2023-09-05T08:37:42.782233Z",
     "shell.execute_reply.started": "2023-09-05T08:37:42.711531Z"
    }
   },
   "outputs": [
    {
     "name": "stdout",
     "output_type": "stream",
     "text": [
      "The confusion matrix is:\n",
      "  [[1522  817]\n",
      " [1066 1795]]\n"
     ]
    },
    {
     "data": {
      "text/html": [
       "<div>\n",
       "<style scoped>\n",
       "    .dataframe tbody tr th:only-of-type {\n",
       "        vertical-align: middle;\n",
       "    }\n",
       "\n",
       "    .dataframe tbody tr th {\n",
       "        vertical-align: top;\n",
       "    }\n",
       "\n",
       "    .dataframe thead th {\n",
       "        text-align: right;\n",
       "    }\n",
       "</style>\n",
       "<table border=\"1\" class=\"dataframe\">\n",
       "  <thead>\n",
       "    <tr style=\"text-align: right;\">\n",
       "      <th></th>\n",
       "      <th>Validation Score</th>\n",
       "    </tr>\n",
       "  </thead>\n",
       "  <tbody>\n",
       "    <tr>\n",
       "      <th>accuracy_score</th>\n",
       "      <td>63.79</td>\n",
       "    </tr>\n",
       "    <tr>\n",
       "      <th>precision_score</th>\n",
       "      <td>68.72</td>\n",
       "    </tr>\n",
       "    <tr>\n",
       "      <th>recall_score</th>\n",
       "      <td>62.74</td>\n",
       "    </tr>\n",
       "    <tr>\n",
       "      <th>f1_score</th>\n",
       "      <td>65.59</td>\n",
       "    </tr>\n",
       "  </tbody>\n",
       "</table>\n",
       "</div>"
      ],
      "text/plain": [
       "                 Validation Score\n",
       "accuracy_score              63.79\n",
       "precision_score             68.72\n",
       "recall_score                62.74\n",
       "f1_score                    65.59"
      ]
     },
     "execution_count": 52,
     "metadata": {},
     "output_type": "execute_result"
    }
   ],
   "source": [
    "# Evaluate on validation set\n",
    "validation_scores = {score.__name__: calculate_quality(Y_test, xgb_predictions_test, score) \n",
    "                     for score in [accuracy_score, precision_score, recall_score, f1_score]}\n",
    "\n",
    "# Create a DataFrame from the dictionary\n",
    "test_scores_df = pd.DataFrame.from_dict(validation_scores, orient='index', columns=['Validation Score']).T\n",
    "print('The confusion matrix is:\\n ',confusion_matrix(Y_test, xgb_predictions_test))\n",
    "# Display the DataFrame\n",
    "test_scores_df"
   ]
  },
  {
   "cell_type": "code",
   "execution_count": 62,
   "id": "2975a86f-1174-431a-9e78-8e1f649be0f4",
   "metadata": {
    "execution": {
     "iopub.execute_input": "2023-09-05T08:47:03.878916Z",
     "iopub.status.busy": "2023-09-05T08:47:03.878489Z",
     "iopub.status.idle": "2023-09-05T08:47:03.883415Z",
     "shell.execute_reply": "2023-09-05T08:47:03.882576Z",
     "shell.execute_reply.started": "2023-09-05T08:47:03.878880Z"
    }
   },
   "outputs": [],
   "source": [
    "test_scores_df = test_scores_df.T"
   ]
  },
  {
   "cell_type": "code",
   "execution_count": 63,
   "id": "346ebc9b-17b8-4e2c-954c-9bee2dc3eedd",
   "metadata": {
    "execution": {
     "iopub.execute_input": "2023-09-05T08:47:09.946788Z",
     "iopub.status.busy": "2023-09-05T08:47:09.945866Z",
     "iopub.status.idle": "2023-09-05T08:47:09.960626Z",
     "shell.execute_reply": "2023-09-05T08:47:09.959465Z",
     "shell.execute_reply.started": "2023-09-05T08:47:09.946741Z"
    }
   },
   "outputs": [
    {
     "data": {
      "text/html": [
       "<div>\n",
       "<style scoped>\n",
       "    .dataframe tbody tr th:only-of-type {\n",
       "        vertical-align: middle;\n",
       "    }\n",
       "\n",
       "    .dataframe tbody tr th {\n",
       "        vertical-align: top;\n",
       "    }\n",
       "\n",
       "    .dataframe thead th {\n",
       "        text-align: right;\n",
       "    }\n",
       "</style>\n",
       "<table border=\"1\" class=\"dataframe\">\n",
       "  <thead>\n",
       "    <tr style=\"text-align: right;\">\n",
       "      <th></th>\n",
       "      <th>accuracy_score</th>\n",
       "      <th>precision_score</th>\n",
       "      <th>recall_score</th>\n",
       "      <th>f1_score</th>\n",
       "    </tr>\n",
       "  </thead>\n",
       "  <tbody>\n",
       "    <tr>\n",
       "      <th>Validation Score</th>\n",
       "      <td>63.79</td>\n",
       "      <td>68.72</td>\n",
       "      <td>62.74</td>\n",
       "      <td>65.59</td>\n",
       "    </tr>\n",
       "  </tbody>\n",
       "</table>\n",
       "</div>"
      ],
      "text/plain": [
       "                  accuracy_score  precision_score  recall_score  f1_score\n",
       "Validation Score           63.79            68.72         62.74     65.59"
      ]
     },
     "execution_count": 63,
     "metadata": {},
     "output_type": "execute_result"
    }
   ],
   "source": [
    "test_scores_df"
   ]
  },
  {
   "cell_type": "code",
   "execution_count": 69,
   "id": "8e0ffeb7-2290-4108-bc7a-1835dbaed02f",
   "metadata": {
    "execution": {
     "iopub.execute_input": "2023-09-05T08:51:05.408706Z",
     "iopub.status.busy": "2023-09-05T08:51:05.408147Z",
     "iopub.status.idle": "2023-09-05T08:51:05.418436Z",
     "shell.execute_reply": "2023-09-05T08:51:05.417242Z",
     "shell.execute_reply.started": "2023-09-05T08:51:05.408664Z"
    }
   },
   "outputs": [
    {
     "data": {
      "text/plain": [
       "accuracy_score     63.79\n",
       "precision_score    68.72\n",
       "recall_score       62.74\n",
       "f1_score           65.59\n",
       "dtype: float64"
      ]
     },
     "execution_count": 69,
     "metadata": {},
     "output_type": "execute_result"
    }
   ],
   "source": [
    "mean_test_scores = test_scores_df.mean()\n",
    "mean_test_scores"
   ]
  },
  {
   "cell_type": "markdown",
   "id": "69e75d44-a24f-428a-bf94-fa837d122ee9",
   "metadata": {
    "tags": []
   },
   "source": [
    "***\n",
    "<h4 id=\"heading\"><span style=\"background-color:#cefffb; color:#1b4946 ; display:fill;border-radius:5px; font-family:cursive\"> 🗃️ Log run </span></h4>"
   ]
  },
  {
   "cell_type": "markdown",
   "id": "f1e98889-e9ea-4b6b-aeff-90eed8354741",
   "metadata": {
    "tags": []
   },
   "source": [
    "<h5 id=\"heading\"><span font-family:Georgia\"><Strong>📑 1. Prepare </Strong></span></h5>\n"
   ]
  },
  {
   "cell_type": "code",
   "execution_count": 64,
   "id": "0c4d1151-565e-4829-8673-000afb8603b9",
   "metadata": {
    "execution": {
     "iopub.execute_input": "2023-09-05T08:47:26.441842Z",
     "iopub.status.busy": "2023-09-05T08:47:26.440866Z",
     "iopub.status.idle": "2023-09-05T08:47:26.542778Z",
     "shell.execute_reply": "2023-09-05T08:47:26.541279Z",
     "shell.execute_reply.started": "2023-09-05T08:47:26.441794Z"
    },
    "tags": []
   },
   "outputs": [],
   "source": [
    "# Data details\n",
    "data_details = {\"data_train_path\": TRAIN_PATH,\n",
    "                \"data_test_path\": TEST_PATH,\n",
    "                \"training_victorize\": X_train,\n",
    "                \"test_victorize\":     X_test\n",
    "               }\n",
    "\n",
    "with open(os.path.join(LOG_PATH, LOG_DATA_PKL), \"wb\") as output_file:\n",
    "    pickle.dump(data_details, output_file)"
   ]
  },
  {
   "cell_type": "code",
   "execution_count": 65,
   "id": "dac34a0c-657e-476f-a0b1-b04f4e4e269c",
   "metadata": {
    "execution": {
     "iopub.execute_input": "2023-09-05T08:47:26.815733Z",
     "iopub.status.busy": "2023-09-05T08:47:26.815055Z",
     "iopub.status.idle": "2023-09-05T08:47:26.843180Z",
     "shell.execute_reply": "2023-09-05T08:47:26.842075Z",
     "shell.execute_reply.started": "2023-09-05T08:47:26.815693Z"
    }
   },
   "outputs": [],
   "source": [
    "# Model\n",
    "model = {\"model_description\": \"XGboost Classifier \",\n",
    "         \"model_details\": str(xgb_clf),\n",
    "         \"model_object\": xgb_clf} \n",
    "\n",
    "with open(os.path.join(LOG_PATH, LOG_MODEL_PKL), \"wb\") as output_file:\n",
    "    pickle.dump(model, output_file)"
   ]
  },
  {
   "cell_type": "code",
   "execution_count": 66,
   "id": "ee01c4ef-d324-406e-bc6f-86c30d2e39be",
   "metadata": {
    "execution": {
     "iopub.execute_input": "2023-09-05T08:47:27.343497Z",
     "iopub.status.busy": "2023-09-05T08:47:27.343058Z",
     "iopub.status.idle": "2023-09-05T08:47:27.349406Z",
     "shell.execute_reply": "2023-09-05T08:47:27.348095Z",
     "shell.execute_reply.started": "2023-09-05T08:47:27.343467Z"
    }
   },
   "outputs": [],
   "source": [
    "# Performance details\n",
    "classes_metrics = {\"train_scores\": train_scores_df, \n",
    "                   \"test_scores\":  test_scores_df}\n",
    "\n",
    "with open(os.path.join(LOG_PATH, LOG_METRICS_PKL), \"wb\") as output_file:\n",
    "    pickle.dump(classes_metrics, output_file)"
   ]
  },
  {
   "cell_type": "markdown",
   "id": "a0ab8e08-9218-42d8-b28b-78910822af11",
   "metadata": {
    "tags": []
   },
   "source": [
    "<h5 id=\"heading\"><span font-family:Georgia\"><Strong>📑 2. Log </Strong></span></h5>\n"
   ]
  },
  {
   "cell_type": "code",
   "execution_count": 70,
   "id": "3e8b7169-c8c9-4e42-bcfa-1996110c9fa1",
   "metadata": {
    "execution": {
     "iopub.execute_input": "2023-09-05T08:51:08.710139Z",
     "iopub.status.busy": "2023-09-05T08:51:08.709185Z",
     "iopub.status.idle": "2023-09-05T08:51:08.792173Z",
     "shell.execute_reply": "2023-09-05T08:51:08.790566Z",
     "shell.execute_reply.started": "2023-09-05T08:51:08.710081Z"
    }
   },
   "outputs": [],
   "source": [
    "# Start a new run and track \n",
    "with mlflow.start_run(experiment_id=exp.experiment_id, run_name=model[\"model_description\"]):\n",
    "    # Log pickles \n",
    "    mlflow.log_artifacts(LOG_PATH)\n",
    "    \n",
    "    # Track metrics \n",
    "    for metric, score in mean_test_scores.items():\n",
    "        mlflow.log_metric(metric, score) \n",
    "    "
   ]
  },
  {
   "cell_type": "code",
   "execution_count": null,
   "id": "86b09069-0ded-4842-9225-a531dbc77c1f",
   "metadata": {},
   "outputs": [],
   "source": []
  }
 ],
 "metadata": {
  "kernelspec": {
   "display_name": "Python 3 (ipykernel)",
   "language": "python",
   "name": "python3"
  },
  "language_info": {
   "codemirror_mode": {
    "name": "ipython",
    "version": 3
   },
   "file_extension": ".py",
   "mimetype": "text/x-python",
   "name": "python",
   "nbconvert_exporter": "python",
   "pygments_lexer": "ipython3",
   "version": "3.11.4"
  }
 },
 "nbformat": 4,
 "nbformat_minor": 5
}
