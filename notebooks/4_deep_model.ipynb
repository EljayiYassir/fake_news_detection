{
 "cells": [
  {
   "cell_type": "code",
   "execution_count": null,
   "id": "afca6a63-98b8-48d4-b702-3f26922d430e",
   "metadata": {},
   "outputs": [],
   "source": []
  },
  {
   "cell_type": "markdown",
   "id": "7f2f48e5-c420-48e8-be61-f57d318dd74f",
   "metadata": {
    "tags": []
   },
   "source": [
    "***\n",
    "<h1 id=\"heading\"><center><span style=\"background-color:#5642C5; color:white ; display:fill;border-radius:5px; font-family:cursive\"> 4. Deep Learning modeling ⚙️🛠️ </span></center><a class=\"anchor-link\"></a></h1>\n",
    "<p><center style=\"color:#159364; font-family:cursive;\">The best way to make yourself extremely valuable in a team is to understand everything, but being a master of something.</center></p>\n",
    "\n",
    "***\n"
   ]
  },
  {
   "cell_type": "code",
   "execution_count": 1,
   "id": "ba23aaae-aa01-414e-8a82-d051760525ca",
   "metadata": {
    "execution": {
     "iopub.execute_input": "2023-09-05T10:35:19.022168Z",
     "iopub.status.busy": "2023-09-05T10:35:19.021722Z",
     "iopub.status.idle": "2023-09-05T10:35:19.027437Z",
     "shell.execute_reply": "2023-09-05T10:35:19.026363Z",
     "shell.execute_reply.started": "2023-09-05T10:35:19.022133Z"
    }
   },
   "outputs": [],
   "source": [
    "TRAIN_PATH = \"../data/processed/1_train_preprocessed_df.pkl\"\n",
    "TEST_PATH = \"../data/processed/1_test_preprocessed_df.pkl\"\n",
    "\n",
    "\n",
    "MLFLOW_TRACKING_URI = '../models/mlruns'\n",
    "MLFLOW_EXPERIMENT_NAME = \"fake_news_predection\"\n",
    "\n",
    "LOG_PATH = \"../models/temp/\"\n",
    "LOG_DATA_PKL    =  \"data.pkl\"\n",
    "LOG_MODEL_PKL   =  \"model.pkl\"\n",
    "LOG_METRICS_PKL =  \"metrics.pkl\""
   ]
  },
  {
   "cell_type": "markdown",
   "id": "079be678-5fcb-4b30-ac99-d560fa3b7cce",
   "metadata": {
    "jp-MarkdownHeadingCollapsed": true,
    "tags": []
   },
   "source": [
    "***\n",
    "<h3 id=\"heading\"><span style=\"background-color:#cefffb; color:#1b4946 ; display:fill;border-radius:5px; font-family:cursive\"> 📥 Import packages & data </span></h3>"
   ]
  },
  {
   "cell_type": "code",
   "execution_count": 2,
   "id": "ceb2a339-2220-4f15-a394-2c679ab04876",
   "metadata": {
    "execution": {
     "iopub.execute_input": "2023-09-05T10:35:19.780253Z",
     "iopub.status.busy": "2023-09-05T10:35:19.779511Z",
     "iopub.status.idle": "2023-09-05T10:35:27.662320Z",
     "shell.execute_reply": "2023-09-05T10:35:27.661339Z",
     "shell.execute_reply.started": "2023-09-05T10:35:19.780223Z"
    },
    "tags": []
   },
   "outputs": [
    {
     "name": "stderr",
     "output_type": "stream",
     "text": [
      "2023-09-05 11:35:22.790807: I tensorflow/tsl/cuda/cudart_stub.cc:28] Could not find cuda drivers on your machine, GPU will not be used.\n",
      "2023-09-05 11:35:23.407549: I tensorflow/tsl/cuda/cudart_stub.cc:28] Could not find cuda drivers on your machine, GPU will not be used.\n",
      "2023-09-05 11:35:23.410135: I tensorflow/core/platform/cpu_feature_guard.cc:182] This TensorFlow binary is optimized to use available CPU instructions in performance-critical operations.\n",
      "To enable the following instructions: AVX2 FMA, in other operations, rebuild TensorFlow with the appropriate compiler flags.\n",
      "2023-09-05 11:35:25.434621: W tensorflow/compiler/tf2tensorrt/utils/py_utils.cc:38] TF-TRT Warning: Could not find TensorRT\n"
     ]
    }
   ],
   "source": [
    "# Load packages\n",
    "import pandas as pd \n",
    "import numpy as np\n",
    "import logging\n",
    "import pickle\n",
    "import random\n",
    "import plotly \n",
    "import os\n",
    "from pathlib import Path\n",
    "# Load Mlflow experiment tracker\n",
    "# if MlFlow not working try \n",
    "# pip install pydantic==1.10.9\n",
    "import mlflow\n",
    "from mlflow.tracking import MlflowClient\n",
    "\n",
    "from sklearn.feature_extraction.text import TfidfVectorizer\n",
    "from sklearn.model_selection import train_test_split\n",
    "\n",
    "# Load metrics\n",
    "from sklearn import metrics\n",
    "from sklearn.metrics import auc, accuracy_score, confusion_matrix, f1_score, precision_score, recall_score, classification_report\n",
    "\n",
    "# Load ml models\n",
    "import tensorflow as tf\n",
    "from tensorflow.keras import Sequential\n",
    "from tensorflow.keras.layers import Embedding\n",
    "from tensorflow.keras.layers import Dense,LSTM\n",
    "from tensorflow.keras.preprocessing.sequence import pad_sequences\n",
    "from tensorflow.keras.preprocessing.text import one_hot\n",
    "\n",
    "\n",
    "from matplotlib import pyplot as plt\n",
    "\n",
    "import warnings\n",
    "warnings.filterwarnings(\"ignore\")"
   ]
  },
  {
   "cell_type": "code",
   "execution_count": 3,
   "id": "fcf2bb9c-92d8-4c47-9170-7c62f58719eb",
   "metadata": {
    "execution": {
     "iopub.execute_input": "2023-09-05T10:35:27.677779Z",
     "iopub.status.busy": "2023-09-05T10:35:27.677376Z",
     "iopub.status.idle": "2023-09-05T10:35:27.687045Z",
     "shell.execute_reply": "2023-09-05T10:35:27.685461Z",
     "shell.execute_reply.started": "2023-09-05T10:35:27.677746Z"
    }
   },
   "outputs": [],
   "source": [
    "def calculate_quality(ground_truth, predictions, metric_function):\n",
    "    quality_score = round(metric_function(ground_truth, predictions) * 100, 2)\n",
    "    return quality_score"
   ]
  },
  {
   "cell_type": "markdown",
   "id": "9f1e3d41-1262-43cc-b6d5-d3ec2114ec1c",
   "metadata": {
    "jp-MarkdownHeadingCollapsed": true,
    "tags": []
   },
   "source": [
    "***\n",
    "<h3 id=\"heading\"><span style=\"background-color:#cefffb; color:#1b4946 ; display:fill;border-radius:5px; font-family:cursive\"> 🗄️ Initialize </span></h3>"
   ]
  },
  {
   "cell_type": "markdown",
   "id": "4f58fcb8-b9e4-4f0a-86ad-e38ba720cb7f",
   "metadata": {
    "tags": []
   },
   "source": [
    "<h4 id=\"heading\"><span font-family:Georgia\"><Strong>📑 Create directories </Strong></span></h4>\n"
   ]
  },
  {
   "cell_type": "code",
   "execution_count": 4,
   "id": "2c76cf26-affa-454e-b0d4-4b42cad5f254",
   "metadata": {
    "collapsed": false,
    "execution": {
     "iopub.execute_input": "2023-09-05T10:35:27.690111Z",
     "iopub.status.busy": "2023-09-05T10:35:27.689415Z",
     "iopub.status.idle": "2023-09-05T10:35:27.718472Z",
     "shell.execute_reply": "2023-09-05T10:35:27.716674Z",
     "shell.execute_reply.started": "2023-09-05T10:35:27.690062Z"
    },
    "jupyter": {
     "outputs_hidden": false
    },
    "pycharm": {
     "name": "#%%\n"
    }
   },
   "outputs": [],
   "source": [
    "# Create directories if they don't exist\n",
    "Path(MLFLOW_TRACKING_URI).mkdir(parents=True, exist_ok=True)\n",
    "Path(LOG_PATH).mkdir(parents=True, exist_ok=True)"
   ]
  },
  {
   "cell_type": "markdown",
   "id": "8149aa7e-bdd2-4002-8f6d-28d425d6cd9d",
   "metadata": {
    "tags": []
   },
   "source": [
    "<h4 id=\"heading\"><span font-family:Georgia\"><Strong>📑 Read data </Strong></span></h4>\n"
   ]
  },
  {
   "cell_type": "code",
   "execution_count": 5,
   "id": "d20438b7-18a1-4ca9-91ac-8c8bf29513de",
   "metadata": {
    "collapsed": false,
    "execution": {
     "iopub.execute_input": "2023-09-05T10:35:28.947996Z",
     "iopub.status.busy": "2023-09-05T10:35:28.947613Z",
     "iopub.status.idle": "2023-09-05T10:35:29.091372Z",
     "shell.execute_reply": "2023-09-05T10:35:29.090341Z",
     "shell.execute_reply.started": "2023-09-05T10:35:28.947961Z"
    },
    "jupyter": {
     "outputs_hidden": false
    },
    "pycharm": {
     "name": "#%%\n"
    }
   },
   "outputs": [],
   "source": [
    "# Read Data\n",
    "train_df = pd.read_pickle(TRAIN_PATH)\n",
    "test_df = pd.read_pickle(TEST_PATH)"
   ]
  },
  {
   "cell_type": "code",
   "execution_count": 10,
   "id": "5ede3970-3a7a-4c68-a94e-ac593697aa19",
   "metadata": {
    "execution": {
     "iopub.execute_input": "2023-09-05T09:00:32.215182Z",
     "iopub.status.busy": "2023-09-05T09:00:32.214813Z",
     "iopub.status.idle": "2023-09-05T09:00:32.293440Z",
     "shell.execute_reply": "2023-09-05T09:00:32.291339Z",
     "shell.execute_reply.started": "2023-09-05T09:00:32.215147Z"
    }
   },
   "outputs": [],
   "source": [
    "X_train, X_val, Y_train, Y_val = train_test_split(X_train, Y_train , train_size=0.8, random_state=0)"
   ]
  },
  {
   "cell_type": "markdown",
   "id": "fdb8ae16-0f5b-41f4-aa46-05ca9dc9c7ac",
   "metadata": {
    "tags": []
   },
   "source": [
    "***\n",
    "<h2 id=\"heading\"><span style=\"background-color:#cefffb; color:#1b4946 ; display:fill;border-radius:5px; font-family:cursive\"> 🏋️‍♂️ Train models </span></h2>"
   ]
  },
  {
   "cell_type": "code",
   "execution_count": 11,
   "id": "b9138d39-b3d0-4757-a1c4-5b76483092a9",
   "metadata": {
    "execution": {
     "iopub.execute_input": "2023-09-05T09:00:32.296202Z",
     "iopub.status.busy": "2023-09-05T09:00:32.294959Z",
     "iopub.status.idle": "2023-09-05T09:00:32.323133Z",
     "shell.execute_reply": "2023-09-05T09:00:32.321285Z",
     "shell.execute_reply.started": "2023-09-05T09:00:32.296139Z"
    }
   },
   "outputs": [],
   "source": [
    "# Initialize client and experiment\n",
    "mlflow.set_tracking_uri(MLFLOW_TRACKING_URI)\n",
    "client = mlflow.MlflowClient()\n",
    "mlflow.get_experiment_by_name(MLFLOW_EXPERIMENT_NAME)\n",
    "exp = mlflow.set_experiment(MLFLOW_EXPERIMENT_NAME)"
   ]
  },
  {
   "cell_type": "code",
   "execution_count": 12,
   "id": "9d8f3e13-4f77-412e-a40d-69cbc7355ac4",
   "metadata": {
    "execution": {
     "iopub.execute_input": "2023-09-05T09:00:32.325379Z",
     "iopub.status.busy": "2023-09-05T09:00:32.324821Z",
     "iopub.status.idle": "2023-09-05T09:00:32.341119Z",
     "shell.execute_reply": "2023-09-05T09:00:32.338592Z",
     "shell.execute_reply.started": "2023-09-05T09:00:32.325334Z"
    }
   },
   "outputs": [
    {
     "data": {
      "text/plain": [
       "<bound method MlflowClient.get_experiment_by_name of <mlflow.tracking.client.MlflowClient object at 0x7f229474d650>>"
      ]
     },
     "execution_count": 12,
     "metadata": {},
     "output_type": "execute_result"
    }
   ],
   "source": [
    "client.get_experiment_by_name"
   ]
  },
  {
   "cell_type": "markdown",
   "id": "558b085a-09cd-412e-a9c0-a4d7cdb4159f",
   "metadata": {
    "jp-MarkdownHeadingCollapsed": true,
    "tags": []
   },
   "source": [
    "***\n",
    "<h3 id=\"heading\"><span style=\"background-color:#FCF3AD; color:#1b4946 ; display:fill;border-radius:5px; font-family:cursive\"> 🧠 1. LSTM </span></h3>"
   ]
  },
  {
   "cell_type": "markdown",
   "id": "f42bebf5-3adb-44de-ad3d-9b7801108b25",
   "metadata": {
    "jp-MarkdownHeadingCollapsed": true,
    "tags": []
   },
   "source": [
    "***\n",
    "<h4 id=\"heading\"><span style=\"background-color:#F8D7FB; color:#1b4946 ; display:fill;border-radius:5px; font-family:cursive\"> 🗃️ training </span></h4>"
   ]
  },
  {
   "cell_type": "code",
   "execution_count": 6,
   "id": "46c2c128-bba6-4371-ac8e-84c8ab2a61bb",
   "metadata": {
    "execution": {
     "iopub.execute_input": "2023-09-05T10:35:34.829750Z",
     "iopub.status.busy": "2023-09-05T10:35:34.829304Z",
     "iopub.status.idle": "2023-09-05T10:42:01.619619Z",
     "shell.execute_reply": "2023-09-05T10:42:01.618599Z",
     "shell.execute_reply.started": "2023-09-05T10:35:34.829714Z"
    }
   },
   "outputs": [
    {
     "name": "stdout",
     "output_type": "stream",
     "text": [
      "Epoch 1/5\n",
      "260/260 [==============================] - 76s 280ms/step - loss: 0.2901 - accuracy: 0.8761 - val_loss: 0.2181 - val_accuracy: 0.9178\n",
      "Epoch 2/5\n",
      "260/260 [==============================] - 88s 338ms/step - loss: 0.1265 - accuracy: 0.9528 - val_loss: 0.1949 - val_accuracy: 0.9236\n",
      "Epoch 3/5\n",
      "260/260 [==============================] - 74s 283ms/step - loss: 0.0757 - accuracy: 0.9737 - val_loss: 0.2432 - val_accuracy: 0.9245\n",
      "Epoch 4/5\n",
      "260/260 [==============================] - 73s 281ms/step - loss: 0.0416 - accuracy: 0.9863 - val_loss: 0.2818 - val_accuracy: 0.9257\n",
      "Epoch 5/5\n",
      "260/260 [==============================] - 54s 207ms/step - loss: 0.0315 - accuracy: 0.9900 - val_loss: 0.3282 - val_accuracy: 0.9238\n",
      "163/163 [==============================] - 8s 43ms/step\n"
     ]
    }
   ],
   "source": [
    "import tensorflow as tf\n",
    "from tensorflow.keras.preprocessing.text import Tokenizer\n",
    "from tensorflow.keras.preprocessing.sequence import pad_sequences\n",
    "from tensorflow.keras.models import Sequential\n",
    "from tensorflow.keras.layers import Embedding, LSTM, Dense\n",
    "from sklearn.model_selection import train_test_split\n",
    "\n",
    "# Prepare the data\n",
    "tokenizer = Tokenizer(num_words=5000)  # You can adjust the vocabulary size\n",
    "tokenizer.fit_on_texts(train_df['content'])\n",
    "X = tokenizer.texts_to_sequences(train_df['content'])\n",
    "X = pad_sequences(X, maxlen=100)  # Adjust maxlen as needed\n",
    "\n",
    "Y = train_df['label'].values\n",
    "\n",
    "X_train, X_val, Y_train, Y_val = train_test_split(X, Y, train_size=0.8, random_state=0)\n",
    "\n",
    "# Create the model\n",
    "model = Sequential()\n",
    "model.add(Embedding(input_dim=5000, output_dim=128, input_length=100))\n",
    "model.add(LSTM(128))\n",
    "model.add(Dense(1, activation='sigmoid'))\n",
    "\n",
    "# Compile the model\n",
    "model.compile(loss='binary_crossentropy', optimizer='adam', metrics=['accuracy'])\n",
    "\n",
    "# Train the model\n",
    "model.fit(X_train, Y_train, validation_data=(X_val, Y_val), epochs=5, batch_size=64)\n",
    "\n",
    "# Test the model on the test set\n",
    "test_sequences = tokenizer.texts_to_sequences(test_df['content'])\n",
    "X_test = pad_sequences(test_sequences, maxlen=100)\n",
    "\n",
    "predictions = model.predict(X_test)"
   ]
  },
  {
   "cell_type": "code",
   "execution_count": 8,
   "id": "9fb2b438-83de-4b93-a82a-910c51661ba3",
   "metadata": {
    "execution": {
     "iopub.execute_input": "2023-09-05T10:43:45.657538Z",
     "iopub.status.busy": "2023-09-05T10:43:45.656980Z",
     "iopub.status.idle": "2023-09-05T10:43:45.663052Z",
     "shell.execute_reply": "2023-09-05T10:43:45.661771Z",
     "shell.execute_reply.started": "2023-09-05T10:43:45.657496Z"
    }
   },
   "outputs": [],
   "source": [
    "class_labels = (predictions > 0.5).astype(int)"
   ]
  },
  {
   "cell_type": "code",
   "execution_count": 13,
   "id": "5fdea651-4f17-4668-a29f-45f0fa220dce",
   "metadata": {
    "execution": {
     "iopub.execute_input": "2023-09-05T10:46:49.513107Z",
     "iopub.status.busy": "2023-09-05T10:46:49.512671Z",
     "iopub.status.idle": "2023-09-05T10:46:49.579266Z",
     "shell.execute_reply": "2023-09-05T10:46:49.576929Z",
     "shell.execute_reply.started": "2023-09-05T10:46:49.513079Z"
    }
   },
   "outputs": [
    {
     "name": "stdout",
     "output_type": "stream",
     "text": [
      "The confusion matrix is:\n",
      "  [[1414  925]\n",
      " [1086 1775]]\n"
     ]
    },
    {
     "data": {
      "text/html": [
       "<div>\n",
       "<style scoped>\n",
       "    .dataframe tbody tr th:only-of-type {\n",
       "        vertical-align: middle;\n",
       "    }\n",
       "\n",
       "    .dataframe tbody tr th {\n",
       "        vertical-align: top;\n",
       "    }\n",
       "\n",
       "    .dataframe thead th {\n",
       "        text-align: right;\n",
       "    }\n",
       "</style>\n",
       "<table border=\"1\" class=\"dataframe\">\n",
       "  <thead>\n",
       "    <tr style=\"text-align: right;\">\n",
       "      <th></th>\n",
       "      <th>accuracy_score</th>\n",
       "      <th>precision_score</th>\n",
       "      <th>recall_score</th>\n",
       "      <th>f1_score</th>\n",
       "    </tr>\n",
       "  </thead>\n",
       "  <tbody>\n",
       "    <tr>\n",
       "      <th>Validation Score</th>\n",
       "      <td>61.33</td>\n",
       "      <td>65.74</td>\n",
       "      <td>62.04</td>\n",
       "      <td>63.84</td>\n",
       "    </tr>\n",
       "  </tbody>\n",
       "</table>\n",
       "</div>"
      ],
      "text/plain": [
       "                  accuracy_score  precision_score  recall_score  f1_score\n",
       "Validation Score           61.33            65.74         62.04     63.84"
      ]
     },
     "execution_count": 13,
     "metadata": {},
     "output_type": "execute_result"
    }
   ],
   "source": [
    "# Evaluate on validation set\n",
    "validation_scores = {score.__name__: calculate_quality(test_df['label'], class_labels, score) \n",
    "                     for score in [accuracy_score, precision_score, recall_score, f1_score]}\n",
    "\n",
    "# Create a DataFrame from the dictionary\n",
    "test_scores_df = pd.DataFrame.from_dict(validation_scores, orient='index', columns=['Validation Score']).T\n",
    "print('The confusion matrix is:\\n ',confusion_matrix(test_df['label'], class_labels))\n",
    "# Display the DataFrame\n",
    "test_scores_df"
   ]
  },
  {
   "cell_type": "markdown",
   "id": "00e809ec-bc35-421a-8ceb-d8aeb0d91efb",
   "metadata": {
    "tags": []
   },
   "source": [
    "***\n",
    "<h4 id=\"heading\"><span style=\"background-color:#F8D7FB; color:#1b4946 ; display:fill;border-radius:5px; font-family:cursive\"> 🗃️ Log run </span></h4>"
   ]
  },
  {
   "cell_type": "markdown",
   "id": "db1ea3b3-f9d1-4850-b742-df2051c779c0",
   "metadata": {
    "tags": []
   },
   "source": [
    "<h5 id=\"heading\"><span font-family:Georgia\"><Strong>📑 1. Prepare </Strong></span></h5>\n"
   ]
  },
  {
   "cell_type": "code",
   "execution_count": 14,
   "id": "ace194c9-5dcb-4a6f-ae78-019ea7664e0c",
   "metadata": {
    "execution": {
     "iopub.execute_input": "2023-09-05T11:22:39.447343Z",
     "iopub.status.busy": "2023-09-05T11:22:39.446879Z",
     "iopub.status.idle": "2023-09-05T11:22:39.464471Z",
     "shell.execute_reply": "2023-09-05T11:22:39.463405Z",
     "shell.execute_reply.started": "2023-09-05T11:22:39.447303Z"
    },
    "tags": []
   },
   "outputs": [],
   "source": [
    "# Data details\n",
    "data_details = {\"data_train_path\": TRAIN_PATH,\n",
    "                \"data_test_path\": TEST_PATH,\n",
    "                \"training_victorize\": X_train,\n",
    "                \"test_victorize\":     X_test\n",
    "               }\n",
    "\n",
    "with open(os.path.join(LOG_PATH, LOG_DATA_PKL), \"wb\") as output_file:\n",
    "    pickle.dump(data_details, output_file)"
   ]
  },
  {
   "cell_type": "code",
   "execution_count": 15,
   "id": "35ce7d65-aec8-4452-aa16-7b896277e5b8",
   "metadata": {
    "execution": {
     "iopub.execute_input": "2023-09-05T11:22:40.193063Z",
     "iopub.status.busy": "2023-09-05T11:22:40.192707Z",
     "iopub.status.idle": "2023-09-05T11:22:40.675699Z",
     "shell.execute_reply": "2023-09-05T11:22:40.674414Z",
     "shell.execute_reply.started": "2023-09-05T11:22:40.193036Z"
    }
   },
   "outputs": [],
   "source": [
    "# Model\n",
    "model = {\"model_description\": \"tensorFlow LSTM\",\n",
    "         \"model_details\": str(model),\n",
    "         \"model_object\": model} \n",
    "\n",
    "with open(os.path.join(LOG_PATH, LOG_MODEL_PKL), \"wb\") as output_file:\n",
    "    pickle.dump(model, output_file)"
   ]
  },
  {
   "cell_type": "code",
   "execution_count": 16,
   "id": "8dd12c28-551b-4825-a233-7e19a9950917",
   "metadata": {
    "execution": {
     "iopub.execute_input": "2023-09-05T11:22:41.275038Z",
     "iopub.status.busy": "2023-09-05T11:22:41.274311Z",
     "iopub.status.idle": "2023-09-05T11:22:41.284493Z",
     "shell.execute_reply": "2023-09-05T11:22:41.283120Z",
     "shell.execute_reply.started": "2023-09-05T11:22:41.274985Z"
    },
    "tags": []
   },
   "outputs": [],
   "source": [
    "# Hyperparametres\n",
    "param = {\"num_words\": 5000,\n",
    "         \"Tokenizer\" :'tf.Tokenizer()',\n",
    "         \"loss\": 'binary_crossentropy',\n",
    "         \"optimizer\": 'adam'\n",
    "               }\n",
    "\n",
    "with open(os.path.join(LOG_PATH, LOG_DATA_PKL), \"wb\") as output_file:\n",
    "    pickle.dump(param, output_file)"
   ]
  },
  {
   "cell_type": "code",
   "execution_count": 17,
   "id": "02f3fb8c-d61c-4b42-a6f0-ffe87b02d997",
   "metadata": {
    "execution": {
     "iopub.execute_input": "2023-09-05T11:22:41.288191Z",
     "iopub.status.busy": "2023-09-05T11:22:41.287603Z",
     "iopub.status.idle": "2023-09-05T11:22:41.310568Z",
     "shell.execute_reply": "2023-09-05T11:22:41.309277Z",
     "shell.execute_reply.started": "2023-09-05T11:22:41.288139Z"
    }
   },
   "outputs": [],
   "source": [
    "# Performance details\n",
    "classes_metrics = {\"test_scores\":  test_scores_df}\n",
    "\n",
    "with open(os.path.join(LOG_PATH, LOG_METRICS_PKL), \"wb\") as output_file:\n",
    "    pickle.dump(classes_metrics, output_file)"
   ]
  },
  {
   "cell_type": "markdown",
   "id": "964cdf08-7fc6-4530-aea1-f6a70d921bf9",
   "metadata": {
    "tags": []
   },
   "source": [
    "<h5 id=\"heading\"><span font-family:Georgia\"><Strong>📑 2. Log </Strong></span></h5>\n"
   ]
  },
  {
   "cell_type": "code",
   "execution_count": 21,
   "id": "a7d45ff2-5d11-49cc-bd42-f6d0c1d63dca",
   "metadata": {
    "execution": {
     "iopub.execute_input": "2023-09-05T09:00:36.383744Z",
     "iopub.status.busy": "2023-09-05T09:00:36.383095Z",
     "iopub.status.idle": "2023-09-05T09:00:36.559419Z",
     "shell.execute_reply": "2023-09-05T09:00:36.558398Z",
     "shell.execute_reply.started": "2023-09-05T09:00:36.383683Z"
    }
   },
   "outputs": [],
   "source": [
    "# Start a new run and track \n",
    "with mlflow.start_run(experiment_id=exp.experiment_id, run_name=model[\"model_description\"]):\n",
    "    # Log pickles \n",
    "    mlflow.log_artifacts(LOG_PATH)\n",
    "    \n",
    "    # Log parametres \n",
    "    mlflow.log_param(LOG_PATH)\n",
    "    \n",
    "    # Track metrics \n",
    "    for metric, score in test_scores_df.items():\n",
    "        mlflow.log_metric(metric, score) \n",
    "    "
   ]
  },
  {
   "cell_type": "markdown",
   "id": "2d893b4b-dd8c-4b13-9da2-84d60a7fa2fd",
   "metadata": {
    "jp-MarkdownHeadingCollapsed": true,
    "tags": []
   },
   "source": [
    "***\n",
    "<h3 id=\"heading\"><span style=\"background-color:#FCF3AD; color:#1b4946 ; display:fill;border-radius:5px; font-family:cursive\"> 🧠 2. expRNN </span></h3>"
   ]
  },
  {
   "cell_type": "markdown",
   "id": "c6901959-2bb6-4503-85c8-794fdc5fcc94",
   "metadata": {
    "tags": []
   },
   "source": [
    "***\n",
    "<h4 id=\"heading\"><span style=\"background-color:#F8D7FB; color:#1b4946 ; display:fill;border-radius:5px; font-family:cursive\"> 🗃️ training </span></h4>"
   ]
  },
  {
   "cell_type": "code",
   "execution_count": 6,
   "id": "049dce81-7e3c-4074-afe5-01ebed8869e0",
   "metadata": {
    "execution": {
     "iopub.execute_input": "2023-09-05T10:35:34.829750Z",
     "iopub.status.busy": "2023-09-05T10:35:34.829304Z",
     "iopub.status.idle": "2023-09-05T10:42:01.619619Z",
     "shell.execute_reply": "2023-09-05T10:42:01.618599Z",
     "shell.execute_reply.started": "2023-09-05T10:35:34.829714Z"
    }
   },
   "outputs": [
    {
     "name": "stdout",
     "output_type": "stream",
     "text": [
      "Epoch 1/5\n",
      "260/260 [==============================] - 76s 280ms/step - loss: 0.2901 - accuracy: 0.8761 - val_loss: 0.2181 - val_accuracy: 0.9178\n",
      "Epoch 2/5\n",
      "260/260 [==============================] - 88s 338ms/step - loss: 0.1265 - accuracy: 0.9528 - val_loss: 0.1949 - val_accuracy: 0.9236\n",
      "Epoch 3/5\n",
      "260/260 [==============================] - 74s 283ms/step - loss: 0.0757 - accuracy: 0.9737 - val_loss: 0.2432 - val_accuracy: 0.9245\n",
      "Epoch 4/5\n",
      "260/260 [==============================] - 73s 281ms/step - loss: 0.0416 - accuracy: 0.9863 - val_loss: 0.2818 - val_accuracy: 0.9257\n",
      "Epoch 5/5\n",
      "260/260 [==============================] - 54s 207ms/step - loss: 0.0315 - accuracy: 0.9900 - val_loss: 0.3282 - val_accuracy: 0.9238\n",
      "163/163 [==============================] - 8s 43ms/step\n"
     ]
    }
   ],
   "source": [
    "import tensorflow as tf\n",
    "from tensorflow.keras.preprocessing.text import Tokenizer\n",
    "from tensorflow.keras.preprocessing.sequence import pad_sequences\n",
    "from tensorflow.keras.models import Sequential\n",
    "from tensorflow.keras.layers import Embedding, LSTM, Dense\n",
    "from sklearn.model_selection import train_test_split\n",
    "\n",
    "# Prepare the data\n",
    "tokenizer = Tokenizer(num_words=5000)  # You can adjust the vocabulary size\n",
    "tokenizer.fit_on_texts(train_df['content'])\n",
    "X = tokenizer.texts_to_sequences(train_df['content'])\n",
    "X = pad_sequences(X, maxlen=100)  # Adjust maxlen as needed\n",
    "\n",
    "Y = train_df['label'].values\n",
    "\n",
    "X_train, X_val, Y_train, Y_val = train_test_split(X, Y, train_size=0.8, random_state=0)\n",
    "\n",
    "# Create the model\n",
    "model = Sequential()\n",
    "model.add(Embedding(input_dim=5000, output_dim=128, input_length=100))\n",
    "model.add(LSTM(128))\n",
    "model.add(Dense(1, activation='sigmoid'))\n",
    "\n",
    "# Compile the model\n",
    "model.compile(loss='binary_crossentropy', optimizer='adam', metrics=['accuracy'])\n",
    "\n",
    "# Train the model\n",
    "model.fit(X_train, Y_train, validation_data=(X_val, Y_val), epochs=5, batch_size=64)\n",
    "\n",
    "# Test the model on the test set\n",
    "test_sequences = tokenizer.texts_to_sequences(test_df['content'])\n",
    "X_test = pad_sequences(test_sequences, maxlen=100)\n",
    "\n",
    "predictions = model.predict(X_test)"
   ]
  },
  {
   "cell_type": "code",
   "execution_count": 8,
   "id": "972a8645-e554-46b0-8da5-151d3a100d3f",
   "metadata": {
    "execution": {
     "iopub.execute_input": "2023-09-05T10:43:45.657538Z",
     "iopub.status.busy": "2023-09-05T10:43:45.656980Z",
     "iopub.status.idle": "2023-09-05T10:43:45.663052Z",
     "shell.execute_reply": "2023-09-05T10:43:45.661771Z",
     "shell.execute_reply.started": "2023-09-05T10:43:45.657496Z"
    }
   },
   "outputs": [],
   "source": [
    "class_labels = (predictions > 0.5).astype(int)"
   ]
  },
  {
   "cell_type": "code",
   "execution_count": 13,
   "id": "f564d932-209f-4adc-9bb2-a541b9d176dd",
   "metadata": {
    "execution": {
     "iopub.execute_input": "2023-09-05T10:46:49.513107Z",
     "iopub.status.busy": "2023-09-05T10:46:49.512671Z",
     "iopub.status.idle": "2023-09-05T10:46:49.579266Z",
     "shell.execute_reply": "2023-09-05T10:46:49.576929Z",
     "shell.execute_reply.started": "2023-09-05T10:46:49.513079Z"
    }
   },
   "outputs": [
    {
     "name": "stdout",
     "output_type": "stream",
     "text": [
      "The confusion matrix is:\n",
      "  [[1414  925]\n",
      " [1086 1775]]\n"
     ]
    },
    {
     "data": {
      "text/html": [
       "<div>\n",
       "<style scoped>\n",
       "    .dataframe tbody tr th:only-of-type {\n",
       "        vertical-align: middle;\n",
       "    }\n",
       "\n",
       "    .dataframe tbody tr th {\n",
       "        vertical-align: top;\n",
       "    }\n",
       "\n",
       "    .dataframe thead th {\n",
       "        text-align: right;\n",
       "    }\n",
       "</style>\n",
       "<table border=\"1\" class=\"dataframe\">\n",
       "  <thead>\n",
       "    <tr style=\"text-align: right;\">\n",
       "      <th></th>\n",
       "      <th>accuracy_score</th>\n",
       "      <th>precision_score</th>\n",
       "      <th>recall_score</th>\n",
       "      <th>f1_score</th>\n",
       "    </tr>\n",
       "  </thead>\n",
       "  <tbody>\n",
       "    <tr>\n",
       "      <th>Validation Score</th>\n",
       "      <td>61.33</td>\n",
       "      <td>65.74</td>\n",
       "      <td>62.04</td>\n",
       "      <td>63.84</td>\n",
       "    </tr>\n",
       "  </tbody>\n",
       "</table>\n",
       "</div>"
      ],
      "text/plain": [
       "                  accuracy_score  precision_score  recall_score  f1_score\n",
       "Validation Score           61.33            65.74         62.04     63.84"
      ]
     },
     "execution_count": 13,
     "metadata": {},
     "output_type": "execute_result"
    }
   ],
   "source": [
    "# Evaluate on validation set\n",
    "validation_scores = {score.__name__: calculate_quality(test_df['label'], class_labels, score) \n",
    "                     for score in [accuracy_score, precision_score, recall_score, f1_score]}\n",
    "\n",
    "# Create a DataFrame from the dictionary\n",
    "test_scores_df = pd.DataFrame.from_dict(validation_scores, orient='index', columns=['Validation Score']).T\n",
    "print('The confusion matrix is:\\n ',confusion_matrix(test_df['label'], class_labels))\n",
    "# Display the DataFrame\n",
    "test_scores_df"
   ]
  },
  {
   "cell_type": "markdown",
   "id": "3aef58ac-2936-4ce8-9348-ce67eeb0ddfd",
   "metadata": {
    "tags": []
   },
   "source": [
    "***\n",
    "<h4 id=\"heading\"><span style=\"background-color:#F8D7FB; color:#1b4946 ; display:fill;border-radius:5px; font-family:cursive\"> 🗃️ Log run </span></h4>"
   ]
  },
  {
   "cell_type": "markdown",
   "id": "b2b9fb23-40a1-4008-9448-00f47c29d206",
   "metadata": {
    "tags": []
   },
   "source": [
    "<h5 id=\"heading\"><span font-family:Georgia\"><Strong>📑 1. Prepare </Strong></span></h5>\n"
   ]
  },
  {
   "cell_type": "code",
   "execution_count": 14,
   "id": "5b5b0c33-2609-4c1d-a0ec-6441bf3a9841",
   "metadata": {
    "execution": {
     "iopub.execute_input": "2023-09-05T11:22:39.447343Z",
     "iopub.status.busy": "2023-09-05T11:22:39.446879Z",
     "iopub.status.idle": "2023-09-05T11:22:39.464471Z",
     "shell.execute_reply": "2023-09-05T11:22:39.463405Z",
     "shell.execute_reply.started": "2023-09-05T11:22:39.447303Z"
    },
    "tags": []
   },
   "outputs": [],
   "source": [
    "# Data details\n",
    "data_details = {\"data_train_path\": TRAIN_PATH,\n",
    "                \"data_test_path\": TEST_PATH,\n",
    "                \"training_victorize\": X_train,\n",
    "                \"test_victorize\":     X_test\n",
    "               }\n",
    "\n",
    "with open(os.path.join(LOG_PATH, LOG_DATA_PKL), \"wb\") as output_file:\n",
    "    pickle.dump(data_details, output_file)"
   ]
  },
  {
   "cell_type": "code",
   "execution_count": 15,
   "id": "90516b87-db66-4b60-8737-ba7a2d1cca0c",
   "metadata": {
    "execution": {
     "iopub.execute_input": "2023-09-05T11:22:40.193063Z",
     "iopub.status.busy": "2023-09-05T11:22:40.192707Z",
     "iopub.status.idle": "2023-09-05T11:22:40.675699Z",
     "shell.execute_reply": "2023-09-05T11:22:40.674414Z",
     "shell.execute_reply.started": "2023-09-05T11:22:40.193036Z"
    }
   },
   "outputs": [],
   "source": [
    "# Model\n",
    "model = {\"model_description\": \"tensorFlow LSTM\",\n",
    "         \"model_details\": str(model),\n",
    "         \"model_object\": model} \n",
    "\n",
    "with open(os.path.join(LOG_PATH, LOG_MODEL_PKL), \"wb\") as output_file:\n",
    "    pickle.dump(model, output_file)"
   ]
  },
  {
   "cell_type": "code",
   "execution_count": 16,
   "id": "b720b40f-3167-47db-8b3c-3009cdab33b9",
   "metadata": {
    "execution": {
     "iopub.execute_input": "2023-09-05T11:22:41.275038Z",
     "iopub.status.busy": "2023-09-05T11:22:41.274311Z",
     "iopub.status.idle": "2023-09-05T11:22:41.284493Z",
     "shell.execute_reply": "2023-09-05T11:22:41.283120Z",
     "shell.execute_reply.started": "2023-09-05T11:22:41.274985Z"
    },
    "tags": []
   },
   "outputs": [],
   "source": [
    "# Hyperparametres\n",
    "param = {\"num_words\": 5000,\n",
    "         \"Tokenizer\" :'tf.Tokenizer()',\n",
    "         \"loss\": 'binary_crossentropy',\n",
    "         \"optimizer\": 'adam'\n",
    "               }\n",
    "\n",
    "with open(os.path.join(LOG_PATH, LOG_DATA_PKL), \"wb\") as output_file:\n",
    "    pickle.dump(param, output_file)"
   ]
  },
  {
   "cell_type": "code",
   "execution_count": 17,
   "id": "6a25c21c-644c-4d10-9da4-1bb599a145d7",
   "metadata": {
    "execution": {
     "iopub.execute_input": "2023-09-05T11:22:41.288191Z",
     "iopub.status.busy": "2023-09-05T11:22:41.287603Z",
     "iopub.status.idle": "2023-09-05T11:22:41.310568Z",
     "shell.execute_reply": "2023-09-05T11:22:41.309277Z",
     "shell.execute_reply.started": "2023-09-05T11:22:41.288139Z"
    }
   },
   "outputs": [],
   "source": [
    "# Performance details\n",
    "classes_metrics = {\"test_scores\":  test_scores_df}\n",
    "\n",
    "with open(os.path.join(LOG_PATH, LOG_METRICS_PKL), \"wb\") as output_file:\n",
    "    pickle.dump(classes_metrics, output_file)"
   ]
  },
  {
   "cell_type": "markdown",
   "id": "b030c59d-17ce-49a7-8f05-a67cbf24daf0",
   "metadata": {
    "tags": []
   },
   "source": [
    "<h5 id=\"heading\"><span font-family:Georgia\"><Strong>📑 2. Log </Strong></span></h5>\n"
   ]
  },
  {
   "cell_type": "code",
   "execution_count": 21,
   "id": "93b41f7c-d4f2-4571-b257-c34651183454",
   "metadata": {
    "execution": {
     "iopub.execute_input": "2023-09-05T09:00:36.383744Z",
     "iopub.status.busy": "2023-09-05T09:00:36.383095Z",
     "iopub.status.idle": "2023-09-05T09:00:36.559419Z",
     "shell.execute_reply": "2023-09-05T09:00:36.558398Z",
     "shell.execute_reply.started": "2023-09-05T09:00:36.383683Z"
    }
   },
   "outputs": [],
   "source": [
    "# Start a new run and track \n",
    "with mlflow.start_run(experiment_id=exp.experiment_id, run_name=model[\"model_description\"]):\n",
    "    # Log pickles \n",
    "    mlflow.log_artifacts(LOG_PATH)\n",
    "    \n",
    "    # Log parametres \n",
    "    mlflow.log_param(LOG_PATH)\n",
    "    \n",
    "    # Track metrics \n",
    "    for metric, score in test_scores_df.items():\n",
    "        mlflow.log_metric(metric, score) \n",
    "    "
   ]
  },
  {
   "cell_type": "markdown",
   "id": "64a736a2-cd87-4503-905a-31228de0df3b",
   "metadata": {
    "jp-MarkdownHeadingCollapsed": true,
    "tags": []
   },
   "source": [
    "***\n",
    "<h3 id=\"heading\"><span style=\"background-color:#FCF3AD; color:#1b4946 ; display:fill;border-radius:5px; font-family:cursive\"> 🧠 3. Transformers </span></h3>"
   ]
  },
  {
   "cell_type": "markdown",
   "id": "04113f5e-dfcf-492d-8ba2-7e0dc3fc6be2",
   "metadata": {
    "tags": []
   },
   "source": [
    "***\n",
    "<h4 id=\"heading\"><span style=\"background-color:#F8D7FB; color:#1b4946 ; display:fill;border-radius:5px; font-family:cursive\"> 🗃️ training </span></h4>"
   ]
  },
  {
   "cell_type": "code",
   "execution_count": 6,
   "id": "c89fc463-abc8-4548-8ec9-74ed124f359c",
   "metadata": {
    "execution": {
     "iopub.execute_input": "2023-09-05T10:35:34.829750Z",
     "iopub.status.busy": "2023-09-05T10:35:34.829304Z",
     "iopub.status.idle": "2023-09-05T10:42:01.619619Z",
     "shell.execute_reply": "2023-09-05T10:42:01.618599Z",
     "shell.execute_reply.started": "2023-09-05T10:35:34.829714Z"
    }
   },
   "outputs": [
    {
     "name": "stdout",
     "output_type": "stream",
     "text": [
      "Epoch 1/5\n",
      "260/260 [==============================] - 76s 280ms/step - loss: 0.2901 - accuracy: 0.8761 - val_loss: 0.2181 - val_accuracy: 0.9178\n",
      "Epoch 2/5\n",
      "260/260 [==============================] - 88s 338ms/step - loss: 0.1265 - accuracy: 0.9528 - val_loss: 0.1949 - val_accuracy: 0.9236\n",
      "Epoch 3/5\n",
      "260/260 [==============================] - 74s 283ms/step - loss: 0.0757 - accuracy: 0.9737 - val_loss: 0.2432 - val_accuracy: 0.9245\n",
      "Epoch 4/5\n",
      "260/260 [==============================] - 73s 281ms/step - loss: 0.0416 - accuracy: 0.9863 - val_loss: 0.2818 - val_accuracy: 0.9257\n",
      "Epoch 5/5\n",
      "260/260 [==============================] - 54s 207ms/step - loss: 0.0315 - accuracy: 0.9900 - val_loss: 0.3282 - val_accuracy: 0.9238\n",
      "163/163 [==============================] - 8s 43ms/step\n"
     ]
    }
   ],
   "source": [
    "import tensorflow as tf\n",
    "from tensorflow.keras.preprocessing.text import Tokenizer\n",
    "from tensorflow.keras.preprocessing.sequence import pad_sequences\n",
    "from tensorflow.keras.models import Sequential\n",
    "from tensorflow.keras.layers import Embedding, LSTM, Dense\n",
    "from sklearn.model_selection import train_test_split\n",
    "\n",
    "# Prepare the data\n",
    "tokenizer = Tokenizer(num_words=5000)  # You can adjust the vocabulary size\n",
    "tokenizer.fit_on_texts(train_df['content'])\n",
    "X = tokenizer.texts_to_sequences(train_df['content'])\n",
    "X = pad_sequences(X, maxlen=100)  # Adjust maxlen as needed\n",
    "\n",
    "Y = train_df['label'].values\n",
    "\n",
    "X_train, X_val, Y_train, Y_val = train_test_split(X, Y, train_size=0.8, random_state=0)\n",
    "\n",
    "# Create the model\n",
    "model = Sequential()\n",
    "model.add(Embedding(input_dim=5000, output_dim=128, input_length=100))\n",
    "model.add(LSTM(128))\n",
    "model.add(Dense(1, activation='sigmoid'))\n",
    "\n",
    "# Compile the model\n",
    "model.compile(loss='binary_crossentropy', optimizer='adam', metrics=['accuracy'])\n",
    "\n",
    "# Train the model\n",
    "model.fit(X_train, Y_train, validation_data=(X_val, Y_val), epochs=5, batch_size=64)\n",
    "\n",
    "# Test the model on the test set\n",
    "test_sequences = tokenizer.texts_to_sequences(test_df['content'])\n",
    "X_test = pad_sequences(test_sequences, maxlen=100)\n",
    "\n",
    "predictions = model.predict(X_test)"
   ]
  },
  {
   "cell_type": "code",
   "execution_count": 8,
   "id": "0b0120ec-ca0e-4c36-a3f8-66a351cdf00e",
   "metadata": {
    "execution": {
     "iopub.execute_input": "2023-09-05T10:43:45.657538Z",
     "iopub.status.busy": "2023-09-05T10:43:45.656980Z",
     "iopub.status.idle": "2023-09-05T10:43:45.663052Z",
     "shell.execute_reply": "2023-09-05T10:43:45.661771Z",
     "shell.execute_reply.started": "2023-09-05T10:43:45.657496Z"
    }
   },
   "outputs": [],
   "source": [
    "class_labels = (predictions > 0.5).astype(int)"
   ]
  },
  {
   "cell_type": "code",
   "execution_count": 13,
   "id": "8039b01a-3d77-4f20-a179-31d06905bbb0",
   "metadata": {
    "execution": {
     "iopub.execute_input": "2023-09-05T10:46:49.513107Z",
     "iopub.status.busy": "2023-09-05T10:46:49.512671Z",
     "iopub.status.idle": "2023-09-05T10:46:49.579266Z",
     "shell.execute_reply": "2023-09-05T10:46:49.576929Z",
     "shell.execute_reply.started": "2023-09-05T10:46:49.513079Z"
    }
   },
   "outputs": [
    {
     "name": "stdout",
     "output_type": "stream",
     "text": [
      "The confusion matrix is:\n",
      "  [[1414  925]\n",
      " [1086 1775]]\n"
     ]
    },
    {
     "data": {
      "text/html": [
       "<div>\n",
       "<style scoped>\n",
       "    .dataframe tbody tr th:only-of-type {\n",
       "        vertical-align: middle;\n",
       "    }\n",
       "\n",
       "    .dataframe tbody tr th {\n",
       "        vertical-align: top;\n",
       "    }\n",
       "\n",
       "    .dataframe thead th {\n",
       "        text-align: right;\n",
       "    }\n",
       "</style>\n",
       "<table border=\"1\" class=\"dataframe\">\n",
       "  <thead>\n",
       "    <tr style=\"text-align: right;\">\n",
       "      <th></th>\n",
       "      <th>accuracy_score</th>\n",
       "      <th>precision_score</th>\n",
       "      <th>recall_score</th>\n",
       "      <th>f1_score</th>\n",
       "    </tr>\n",
       "  </thead>\n",
       "  <tbody>\n",
       "    <tr>\n",
       "      <th>Validation Score</th>\n",
       "      <td>61.33</td>\n",
       "      <td>65.74</td>\n",
       "      <td>62.04</td>\n",
       "      <td>63.84</td>\n",
       "    </tr>\n",
       "  </tbody>\n",
       "</table>\n",
       "</div>"
      ],
      "text/plain": [
       "                  accuracy_score  precision_score  recall_score  f1_score\n",
       "Validation Score           61.33            65.74         62.04     63.84"
      ]
     },
     "execution_count": 13,
     "metadata": {},
     "output_type": "execute_result"
    }
   ],
   "source": [
    "# Evaluate on validation set\n",
    "validation_scores = {score.__name__: calculate_quality(test_df['label'], class_labels, score) \n",
    "                     for score in [accuracy_score, precision_score, recall_score, f1_score]}\n",
    "\n",
    "# Create a DataFrame from the dictionary\n",
    "test_scores_df = pd.DataFrame.from_dict(validation_scores, orient='index', columns=['Validation Score']).T\n",
    "print('The confusion matrix is:\\n ',confusion_matrix(test_df['label'], class_labels))\n",
    "# Display the DataFrame\n",
    "test_scores_df"
   ]
  },
  {
   "cell_type": "markdown",
   "id": "89ad6d76-7b0b-4a72-a5ec-e0fc8626764f",
   "metadata": {
    "tags": []
   },
   "source": [
    "***\n",
    "<h4 id=\"heading\"><span style=\"background-color:#F8D7FB; color:#1b4946 ; display:fill;border-radius:5px; font-family:cursive\"> 🗃️ Log run </span></h4>"
   ]
  },
  {
   "cell_type": "markdown",
   "id": "203b8160-4aaa-4681-bc82-c44051d76f7e",
   "metadata": {
    "tags": []
   },
   "source": [
    "<h5 id=\"heading\"><span font-family:Georgia\"><Strong>📑 1. Prepare </Strong></span></h5>\n"
   ]
  },
  {
   "cell_type": "code",
   "execution_count": 14,
   "id": "d802c705-abe9-455e-9940-188431b8813e",
   "metadata": {
    "execution": {
     "iopub.execute_input": "2023-09-05T11:22:39.447343Z",
     "iopub.status.busy": "2023-09-05T11:22:39.446879Z",
     "iopub.status.idle": "2023-09-05T11:22:39.464471Z",
     "shell.execute_reply": "2023-09-05T11:22:39.463405Z",
     "shell.execute_reply.started": "2023-09-05T11:22:39.447303Z"
    },
    "tags": []
   },
   "outputs": [],
   "source": [
    "# Data details\n",
    "data_details = {\"data_train_path\": TRAIN_PATH,\n",
    "                \"data_test_path\": TEST_PATH,\n",
    "                \"training_victorize\": X_train,\n",
    "                \"test_victorize\":     X_test\n",
    "               }\n",
    "\n",
    "with open(os.path.join(LOG_PATH, LOG_DATA_PKL), \"wb\") as output_file:\n",
    "    pickle.dump(data_details, output_file)"
   ]
  },
  {
   "cell_type": "code",
   "execution_count": 15,
   "id": "7eaf603f-0a73-4796-afcf-cb5d63e69c34",
   "metadata": {
    "execution": {
     "iopub.execute_input": "2023-09-05T11:22:40.193063Z",
     "iopub.status.busy": "2023-09-05T11:22:40.192707Z",
     "iopub.status.idle": "2023-09-05T11:22:40.675699Z",
     "shell.execute_reply": "2023-09-05T11:22:40.674414Z",
     "shell.execute_reply.started": "2023-09-05T11:22:40.193036Z"
    }
   },
   "outputs": [],
   "source": [
    "# Model\n",
    "model = {\"model_description\": \"tensorFlow LSTM\",\n",
    "         \"model_details\": str(model),\n",
    "         \"model_object\": model} \n",
    "\n",
    "with open(os.path.join(LOG_PATH, LOG_MODEL_PKL), \"wb\") as output_file:\n",
    "    pickle.dump(model, output_file)"
   ]
  },
  {
   "cell_type": "code",
   "execution_count": 16,
   "id": "a4c7c356-e861-4133-9c91-55b1edb36232",
   "metadata": {
    "execution": {
     "iopub.execute_input": "2023-09-05T11:22:41.275038Z",
     "iopub.status.busy": "2023-09-05T11:22:41.274311Z",
     "iopub.status.idle": "2023-09-05T11:22:41.284493Z",
     "shell.execute_reply": "2023-09-05T11:22:41.283120Z",
     "shell.execute_reply.started": "2023-09-05T11:22:41.274985Z"
    },
    "tags": []
   },
   "outputs": [],
   "source": [
    "# Hyperparametres\n",
    "param = {\"num_words\": 5000,\n",
    "         \"Tokenizer\" :'tf.Tokenizer()',\n",
    "         \"loss\": 'binary_crossentropy',\n",
    "         \"optimizer\": 'adam'\n",
    "               }\n",
    "\n",
    "with open(os.path.join(LOG_PATH, LOG_DATA_PKL), \"wb\") as output_file:\n",
    "    pickle.dump(param, output_file)"
   ]
  },
  {
   "cell_type": "code",
   "execution_count": 17,
   "id": "3fb65096-112b-4c24-a192-6cd532973851",
   "metadata": {
    "execution": {
     "iopub.execute_input": "2023-09-05T11:22:41.288191Z",
     "iopub.status.busy": "2023-09-05T11:22:41.287603Z",
     "iopub.status.idle": "2023-09-05T11:22:41.310568Z",
     "shell.execute_reply": "2023-09-05T11:22:41.309277Z",
     "shell.execute_reply.started": "2023-09-05T11:22:41.288139Z"
    }
   },
   "outputs": [],
   "source": [
    "# Performance details\n",
    "classes_metrics = {\"test_scores\":  test_scores_df}\n",
    "\n",
    "with open(os.path.join(LOG_PATH, LOG_METRICS_PKL), \"wb\") as output_file:\n",
    "    pickle.dump(classes_metrics, output_file)"
   ]
  },
  {
   "cell_type": "markdown",
   "id": "8ba28c7b-fe24-4744-8881-cec977bbe36e",
   "metadata": {
    "tags": []
   },
   "source": [
    "<h5 id=\"heading\"><span font-family:Georgia\"><Strong>📑 2. Log </Strong></span></h5>\n"
   ]
  },
  {
   "cell_type": "code",
   "execution_count": 21,
   "id": "25ea0221-96a2-41b2-ae72-f0422d105515",
   "metadata": {
    "execution": {
     "iopub.execute_input": "2023-09-05T09:00:36.383744Z",
     "iopub.status.busy": "2023-09-05T09:00:36.383095Z",
     "iopub.status.idle": "2023-09-05T09:00:36.559419Z",
     "shell.execute_reply": "2023-09-05T09:00:36.558398Z",
     "shell.execute_reply.started": "2023-09-05T09:00:36.383683Z"
    }
   },
   "outputs": [],
   "source": [
    "# Start a new run and track \n",
    "with mlflow.start_run(experiment_id=exp.experiment_id, run_name=model[\"model_description\"]):\n",
    "    # Log pickles \n",
    "    mlflow.log_artifacts(LOG_PATH)\n",
    "    \n",
    "    # Log parametres \n",
    "    mlflow.log_param(LOG_PATH)\n",
    "    \n",
    "    # Track metrics \n",
    "    for metric, score in test_scores_df.items():\n",
    "        mlflow.log_metric(metric, score) \n",
    "    "
   ]
  }
 ],
 "metadata": {
  "kernelspec": {
   "display_name": "Python 3 (ipykernel)",
   "language": "python",
   "name": "python3"
  },
  "language_info": {
   "codemirror_mode": {
    "name": "ipython",
    "version": 3
   },
   "file_extension": ".py",
   "mimetype": "text/x-python",
   "name": "python",
   "nbconvert_exporter": "python",
   "pygments_lexer": "ipython3",
   "version": "3.11.4"
  }
 },
 "nbformat": 4,
 "nbformat_minor": 5
}
