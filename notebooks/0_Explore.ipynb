{
 "cells": [
  {
   "cell_type": "markdown",
   "id": "df93d4d2-fb06-4526-afee-78b568c13458",
   "metadata": {
    "tags": []
   },
   "source": [
    "***\n",
    "<h1 id=\"heading\"><center><span style=\"background-color:#5642C5; color:white ; display:fill;border-radius:5px; font-family:cursive\"> 0. Exploration 📊🔬</span></center><a class=\"anchor-link\"></a></h1>\n",
    "<p><center style=\"color:#159364; font-family:cursive;\">The best way to make yourself extremely valuable in a team is to understand everything, but being a master of something.</center></p>\n",
    "\n",
    "***\n"
   ]
  },
  {
   "cell_type": "markdown",
   "id": "b0818d88-440f-4bab-b636-fa1b2d9f7949",
   "metadata": {},
   "source": [
    "<blockquote><p style=\"font-size:16px; color:#159364; font-family:verdana;\">💬 From the start, I would like to take this opportunity to remind everyone to be <code>kind</code>, <code>just</code> and <code>mindful</code>😃</p></blockquote>"
   ]
  },
  {
   "cell_type": "markdown",
   "id": "22bf797e-92a7-413d-a921-af8b3ed6d102",
   "metadata": {
    "tags": []
   },
   "source": [
    "<h3 id=\"heading\"><span style=\"background-color:#cefffb; color:#1b4946; display:fill;border-radius:5px; font-family:cursive\"> 👨‍💻 Description of the Problem</span></h3>"
   ]
  },
  {
   "cell_type": "markdown",
   "id": "8b10d202-912c-4b87-86f5-9f817cab651f",
   "metadata": {},
   "source": [
    "__Citation__: William Lifferth. (2018). Fake News. Kaggle. https://kaggle.com/competitions/fake-news\n",
    "\n",
    "__DATASET__: https://www.kaggle.com/competitions/fake-news/data?select=test.csv\n",
    "\n",
    "The dataset is split into 3 part training set, testing set, and submission set\n",
    "- train.csv: A full training dataset with the following attributes:\n",
    "    * id: unique id for a news article\n",
    "    * title: the title of a news article\n",
    "    * author: author of the news article\n",
    "    * text: the text of the article; could be incomplete\n",
    "    * label: a label that marks the article as potentially unreliable\n",
    "        - \"1\": unreliable\n",
    "        - \"0\": reliable\n",
    "- test.csv: A testing training dataset with all the same attributes at train.csv without the label.\n",
    "\n",
    "- submit.csv: A sample submission that you can\n",
    "\n",
    "__Objective__: Develop a machine learning program to identify when an article might be fake news. Run by the UTK Machine Learning Club."
   ]
  },
  {
   "cell_type": "markdown",
   "id": "2b87ea31-d1fd-4767-aae9-6f05bc1143e4",
   "metadata": {
    "tags": []
   },
   "source": [
    "<h3 id=\"heading\"><span style=\"background-color:#cefffb; color:#1b4946 ; display:fill;border-radius:5px; font-family:cursive\"> 📥 Import packages & data </span></h3>"
   ]
  },
  {
   "cell_type": "code",
   "execution_count": 1,
   "id": "2700748d-2919-40b7-94f4-2bfa9226907d",
   "metadata": {
    "execution": {
     "iopub.execute_input": "2023-09-08T11:34:17.068320Z",
     "iopub.status.busy": "2023-09-08T11:34:17.067009Z",
     "iopub.status.idle": "2023-09-08T11:34:17.074671Z",
     "shell.execute_reply": "2023-09-08T11:34:17.073120Z",
     "shell.execute_reply.started": "2023-09-08T11:34:17.068249Z"
    }
   },
   "outputs": [],
   "source": [
    "TRAIN_DATA_PATH = '../data/raw/train.csv'\n",
    "TEST_DATA_PATH = '../data/raw/test.csv' \n",
    "SUBM_DATA_PATH = '../data/raw/submit.csv' "
   ]
  },
  {
   "cell_type": "code",
   "execution_count": 2,
   "id": "356afdab-573b-4427-a0c6-0679e8f7b6fc",
   "metadata": {
    "execution": {
     "iopub.execute_input": "2023-09-08T11:34:18.216338Z",
     "iopub.status.busy": "2023-09-08T11:34:18.215193Z",
     "iopub.status.idle": "2023-09-08T11:34:19.245369Z",
     "shell.execute_reply": "2023-09-08T11:34:19.244293Z",
     "shell.execute_reply.started": "2023-09-08T11:34:18.216227Z"
    }
   },
   "outputs": [],
   "source": [
    "import pandas as pd\n",
    "import numpy as np\n",
    "# The below options is useful for displaying multiple line \n",
    "pd.options.display.max_rows = 50000"
   ]
  },
  {
   "cell_type": "code",
   "execution_count": 3,
   "id": "aec407cf-113d-4239-a968-d1157bd891db",
   "metadata": {
    "execution": {
     "iopub.execute_input": "2023-09-08T11:34:19.459698Z",
     "iopub.status.busy": "2023-09-08T11:34:19.459291Z",
     "iopub.status.idle": "2023-09-08T11:34:21.327825Z",
     "shell.execute_reply": "2023-09-08T11:34:21.326758Z",
     "shell.execute_reply.started": "2023-09-08T11:34:19.459664Z"
    }
   },
   "outputs": [],
   "source": [
    "raw_train_df = pd.read_csv(TRAIN_DATA_PATH)\n",
    "raw_test_df = pd.read_csv(TEST_DATA_PATH)\n",
    "raw_subm_df = pd.read_csv(SUBM_DATA_PATH)"
   ]
  },
  {
   "cell_type": "markdown",
   "id": "fe425506-706c-467b-acd0-ce5eae5e7200",
   "metadata": {
    "tags": []
   },
   "source": [
    "<h3 id=\"heading\"><span style=\"background-color:#cefffb; color:#1b4946 ; display:fill;border-radius:5px; font-family:cursive\"> 🔬 Explore Overall data </span></h3>"
   ]
  },
  {
   "cell_type": "markdown",
   "id": "84c14d11-1bb6-4801-a13e-daaf8dfa5305",
   "metadata": {
    "tags": []
   },
   "source": [
    "<h4 id=\"heading\"><span style=\"background-color:#fcf3b9; color:#3d3710 ; display:fill;border-radius:5px; font-family:Georgia\">🔭 Viewing the data </span></h4>\n"
   ]
  },
  {
   "cell_type": "code",
   "execution_count": 5,
   "id": "d09d6eae-9852-44f2-acc4-3ffdf425c9b6",
   "metadata": {
    "execution": {
     "iopub.execute_input": "2023-09-04T06:22:57.107225Z",
     "iopub.status.busy": "2023-09-04T06:22:57.106765Z",
     "iopub.status.idle": "2023-09-04T06:22:57.113926Z",
     "shell.execute_reply": "2023-09-04T06:22:57.112859Z",
     "shell.execute_reply.started": "2023-09-04T06:22:57.107183Z"
    },
    "tags": []
   },
   "outputs": [
    {
     "name": "stdout",
     "output_type": "stream",
     "text": [
      "Train data set shape:  (20800, 5)\n",
      "Test data set shape:  (5200, 4)\n",
      "Submission data set shape:  (5200, 2)\n"
     ]
    }
   ],
   "source": [
    "# What is the shape of the data\n",
    "print('Train data set shape: ',raw_train_df.shape)\n",
    "print('Test data set shape: ',raw_test_df.shape)\n",
    "print('Submission data set shape: ',raw_subm_df.shape)"
   ]
  },
  {
   "cell_type": "markdown",
   "id": "0937c0d2-396c-4fdb-b2d8-6ec7704b69db",
   "metadata": {
    "tags": []
   },
   "source": [
    "<h4 id=\"heading\"><span font-family:Georgia\"><Strong>📑 Train data </Strong></span></h4>\n"
   ]
  },
  {
   "cell_type": "code",
   "execution_count": 6,
   "id": "e9a02a2e-0cf4-4823-91d8-acc9d61f6447",
   "metadata": {
    "execution": {
     "iopub.execute_input": "2023-09-04T06:23:27.550051Z",
     "iopub.status.busy": "2023-09-04T06:23:27.548458Z",
     "iopub.status.idle": "2023-09-04T06:23:27.599447Z",
     "shell.execute_reply": "2023-09-04T06:23:27.597286Z",
     "shell.execute_reply.started": "2023-09-04T06:23:27.549976Z"
    },
    "tags": []
   },
   "outputs": [
    {
     "name": "stdout",
     "output_type": "stream",
     "text": [
      "<class 'pandas.core.frame.DataFrame'>\n",
      "RangeIndex: 20800 entries, 0 to 20799\n",
      "Data columns (total 5 columns):\n",
      " #   Column  Non-Null Count  Dtype \n",
      "---  ------  --------------  ----- \n",
      " 0   id      20800 non-null  int64 \n",
      " 1   title   20242 non-null  object\n",
      " 2   author  18843 non-null  object\n",
      " 3   text    20761 non-null  object\n",
      " 4   label   20800 non-null  int64 \n",
      "dtypes: int64(2), object(3)\n",
      "memory usage: 812.6+ KB\n"
     ]
    }
   ],
   "source": [
    "# what is the info of the train data\n",
    "raw_train_df.info()"
   ]
  },
  {
   "cell_type": "markdown",
   "id": "d5b2b58c-b489-4ef0-b77d-523625b8fcdb",
   "metadata": {
    "tags": []
   },
   "source": [
    "<p style=\"padding: 6px;\n",
    "          color:#aa0c0c;\">\n",
    "📌 Train data seems that have sum missing value.\n",
    "</p>\n"
   ]
  },
  {
   "cell_type": "code",
   "execution_count": 8,
   "id": "5b5000b8-fd2a-4be6-b8d5-5c5703de1f1a",
   "metadata": {
    "execution": {
     "iopub.execute_input": "2023-09-04T06:27:50.283621Z",
     "iopub.status.busy": "2023-09-04T06:27:50.282729Z",
     "iopub.status.idle": "2023-09-04T06:27:50.295801Z",
     "shell.execute_reply": "2023-09-04T06:27:50.294886Z",
     "shell.execute_reply.started": "2023-09-04T06:27:50.283578Z"
    },
    "tags": []
   },
   "outputs": [
    {
     "data": {
      "text/html": [
       "<div>\n",
       "<style scoped>\n",
       "    .dataframe tbody tr th:only-of-type {\n",
       "        vertical-align: middle;\n",
       "    }\n",
       "\n",
       "    .dataframe tbody tr th {\n",
       "        vertical-align: top;\n",
       "    }\n",
       "\n",
       "    .dataframe thead th {\n",
       "        text-align: right;\n",
       "    }\n",
       "</style>\n",
       "<table border=\"1\" class=\"dataframe\">\n",
       "  <thead>\n",
       "    <tr style=\"text-align: right;\">\n",
       "      <th></th>\n",
       "      <th>id</th>\n",
       "      <th>title</th>\n",
       "      <th>author</th>\n",
       "      <th>text</th>\n",
       "      <th>label</th>\n",
       "    </tr>\n",
       "  </thead>\n",
       "  <tbody>\n",
       "    <tr>\n",
       "      <th>0</th>\n",
       "      <td>0</td>\n",
       "      <td>House Dem Aide: We Didn’t Even See Comey’s Let...</td>\n",
       "      <td>Darrell Lucus</td>\n",
       "      <td>House Dem Aide: We Didn’t Even See Comey’s Let...</td>\n",
       "      <td>1</td>\n",
       "    </tr>\n",
       "    <tr>\n",
       "      <th>1</th>\n",
       "      <td>1</td>\n",
       "      <td>FLYNN: Hillary Clinton, Big Woman on Campus - ...</td>\n",
       "      <td>Daniel J. Flynn</td>\n",
       "      <td>Ever get the feeling your life circles the rou...</td>\n",
       "      <td>0</td>\n",
       "    </tr>\n",
       "    <tr>\n",
       "      <th>2</th>\n",
       "      <td>2</td>\n",
       "      <td>Why the Truth Might Get You Fired</td>\n",
       "      <td>Consortiumnews.com</td>\n",
       "      <td>Why the Truth Might Get You Fired October 29, ...</td>\n",
       "      <td>1</td>\n",
       "    </tr>\n",
       "    <tr>\n",
       "      <th>3</th>\n",
       "      <td>3</td>\n",
       "      <td>15 Civilians Killed In Single US Airstrike Hav...</td>\n",
       "      <td>Jessica Purkiss</td>\n",
       "      <td>Videos 15 Civilians Killed In Single US Airstr...</td>\n",
       "      <td>1</td>\n",
       "    </tr>\n",
       "    <tr>\n",
       "      <th>4</th>\n",
       "      <td>4</td>\n",
       "      <td>Iranian woman jailed for fictional unpublished...</td>\n",
       "      <td>Howard Portnoy</td>\n",
       "      <td>Print \\nAn Iranian woman has been sentenced to...</td>\n",
       "      <td>1</td>\n",
       "    </tr>\n",
       "  </tbody>\n",
       "</table>\n",
       "</div>"
      ],
      "text/plain": [
       "   id                                              title              author  \\\n",
       "0   0  House Dem Aide: We Didn’t Even See Comey’s Let...       Darrell Lucus   \n",
       "1   1  FLYNN: Hillary Clinton, Big Woman on Campus - ...     Daniel J. Flynn   \n",
       "2   2                  Why the Truth Might Get You Fired  Consortiumnews.com   \n",
       "3   3  15 Civilians Killed In Single US Airstrike Hav...     Jessica Purkiss   \n",
       "4   4  Iranian woman jailed for fictional unpublished...      Howard Portnoy   \n",
       "\n",
       "                                                text  label  \n",
       "0  House Dem Aide: We Didn’t Even See Comey’s Let...      1  \n",
       "1  Ever get the feeling your life circles the rou...      0  \n",
       "2  Why the Truth Might Get You Fired October 29, ...      1  \n",
       "3  Videos 15 Civilians Killed In Single US Airstr...      1  \n",
       "4  Print \\nAn Iranian woman has been sentenced to...      1  "
      ]
     },
     "execution_count": 8,
     "metadata": {},
     "output_type": "execute_result"
    }
   ],
   "source": [
    "# How the rows of the train data look like \n",
    "raw_train_df.head(10)"
   ]
  },
  {
   "cell_type": "code",
   "execution_count": 9,
   "id": "fce19ad5-db23-4104-9a39-419700e2c921",
   "metadata": {
    "execution": {
     "iopub.execute_input": "2023-09-04T06:27:54.784791Z",
     "iopub.status.busy": "2023-09-04T06:27:54.784385Z",
     "iopub.status.idle": "2023-09-04T06:27:54.800958Z",
     "shell.execute_reply": "2023-09-04T06:27:54.799909Z",
     "shell.execute_reply.started": "2023-09-04T06:27:54.784763Z"
    },
    "tags": []
   },
   "outputs": [
    {
     "data": {
      "text/plain": [
       "id                                                     3664\n",
       "title     Kejriwal in talks with Dr Manmohan Singh to be...\n",
       "author                                          C S Krishna\n",
       "text      Kejriwal in talks with Dr Manmohan Singh to be...\n",
       "label                                                     1\n",
       "Name: 3664, dtype: object"
      ]
     },
     "execution_count": 9,
     "metadata": {},
     "output_type": "execute_result"
    }
   ],
   "source": [
    "# Let see how random simple value look like\n",
    "raw_train_df.sample(1).iloc[0]"
   ]
  },
  {
   "cell_type": "markdown",
   "id": "9a2dc9c9-5aa3-4e0e-aa94-421bcf98cd4d",
   "metadata": {
    "jp-MarkdownHeadingCollapsed": true,
    "tags": []
   },
   "source": [
    "***\n",
    "<h4 id=\"heading\"><span font-family:Georgia\"><Strong>📑 Test data </Strong></span></h4>\n"
   ]
  },
  {
   "cell_type": "code",
   "execution_count": 10,
   "id": "a6c0cb50-2cd4-42c1-abda-afd4b1cf5eac",
   "metadata": {
    "execution": {
     "iopub.execute_input": "2023-09-04T06:33:23.388305Z",
     "iopub.status.busy": "2023-09-04T06:33:23.386106Z",
     "iopub.status.idle": "2023-09-04T06:33:23.415432Z",
     "shell.execute_reply": "2023-09-04T06:33:23.414338Z",
     "shell.execute_reply.started": "2023-09-04T06:33:23.388205Z"
    },
    "tags": []
   },
   "outputs": [
    {
     "name": "stdout",
     "output_type": "stream",
     "text": [
      "<class 'pandas.core.frame.DataFrame'>\n",
      "RangeIndex: 5200 entries, 0 to 5199\n",
      "Data columns (total 4 columns):\n",
      " #   Column  Non-Null Count  Dtype \n",
      "---  ------  --------------  ----- \n",
      " 0   id      5200 non-null   int64 \n",
      " 1   title   5078 non-null   object\n",
      " 2   author  4697 non-null   object\n",
      " 3   text    5193 non-null   object\n",
      "dtypes: int64(1), object(3)\n",
      "memory usage: 162.6+ KB\n"
     ]
    }
   ],
   "source": [
    "# what is the info of the train data\n",
    "raw_test_df.info()"
   ]
  },
  {
   "cell_type": "markdown",
   "id": "8e8ef101-1420-47b3-8831-168ed4ed626b",
   "metadata": {
    "tags": []
   },
   "source": [
    "<p style=\"padding: 6px;\n",
    "          color:#aa0c0c;\">\n",
    "📌 Also, test data seems that have some missing values.\n",
    "</p>\n"
   ]
  },
  {
   "cell_type": "code",
   "execution_count": 11,
   "id": "beac297b-2abb-4e1e-a79a-99a6788d586b",
   "metadata": {
    "execution": {
     "iopub.execute_input": "2023-09-04T06:33:24.420130Z",
     "iopub.status.busy": "2023-09-04T06:33:24.418114Z",
     "iopub.status.idle": "2023-09-04T06:33:24.444528Z",
     "shell.execute_reply": "2023-09-04T06:33:24.443007Z",
     "shell.execute_reply.started": "2023-09-04T06:33:24.420034Z"
    },
    "tags": []
   },
   "outputs": [
    {
     "data": {
      "text/html": [
       "<div>\n",
       "<style scoped>\n",
       "    .dataframe tbody tr th:only-of-type {\n",
       "        vertical-align: middle;\n",
       "    }\n",
       "\n",
       "    .dataframe tbody tr th {\n",
       "        vertical-align: top;\n",
       "    }\n",
       "\n",
       "    .dataframe thead th {\n",
       "        text-align: right;\n",
       "    }\n",
       "</style>\n",
       "<table border=\"1\" class=\"dataframe\">\n",
       "  <thead>\n",
       "    <tr style=\"text-align: right;\">\n",
       "      <th></th>\n",
       "      <th>id</th>\n",
       "      <th>title</th>\n",
       "      <th>author</th>\n",
       "      <th>text</th>\n",
       "    </tr>\n",
       "  </thead>\n",
       "  <tbody>\n",
       "    <tr>\n",
       "      <th>0</th>\n",
       "      <td>20800</td>\n",
       "      <td>Specter of Trump Loosens Tongues, if Not Purse...</td>\n",
       "      <td>David Streitfeld</td>\n",
       "      <td>PALO ALTO, Calif.  —   After years of scorning...</td>\n",
       "    </tr>\n",
       "    <tr>\n",
       "      <th>1</th>\n",
       "      <td>20801</td>\n",
       "      <td>Russian warships ready to strike terrorists ne...</td>\n",
       "      <td>NaN</td>\n",
       "      <td>Russian warships ready to strike terrorists ne...</td>\n",
       "    </tr>\n",
       "    <tr>\n",
       "      <th>2</th>\n",
       "      <td>20802</td>\n",
       "      <td>#NoDAPL: Native American Leaders Vow to Stay A...</td>\n",
       "      <td>Common Dreams</td>\n",
       "      <td>Videos #NoDAPL: Native American Leaders Vow to...</td>\n",
       "    </tr>\n",
       "    <tr>\n",
       "      <th>3</th>\n",
       "      <td>20803</td>\n",
       "      <td>Tim Tebow Will Attempt Another Comeback, This ...</td>\n",
       "      <td>Daniel Victor</td>\n",
       "      <td>If at first you don’t succeed, try a different...</td>\n",
       "    </tr>\n",
       "    <tr>\n",
       "      <th>4</th>\n",
       "      <td>20804</td>\n",
       "      <td>Keiser Report: Meme Wars (E995)</td>\n",
       "      <td>Truth Broadcast Network</td>\n",
       "      <td>42 mins ago 1 Views 0 Comments 0 Likes 'For th...</td>\n",
       "    </tr>\n",
       "  </tbody>\n",
       "</table>\n",
       "</div>"
      ],
      "text/plain": [
       "      id                                              title  \\\n",
       "0  20800  Specter of Trump Loosens Tongues, if Not Purse...   \n",
       "1  20801  Russian warships ready to strike terrorists ne...   \n",
       "2  20802  #NoDAPL: Native American Leaders Vow to Stay A...   \n",
       "3  20803  Tim Tebow Will Attempt Another Comeback, This ...   \n",
       "4  20804                    Keiser Report: Meme Wars (E995)   \n",
       "\n",
       "                    author                                               text  \n",
       "0         David Streitfeld  PALO ALTO, Calif.  —   After years of scorning...  \n",
       "1                      NaN  Russian warships ready to strike terrorists ne...  \n",
       "2            Common Dreams  Videos #NoDAPL: Native American Leaders Vow to...  \n",
       "3            Daniel Victor  If at first you don’t succeed, try a different...  \n",
       "4  Truth Broadcast Network  42 mins ago 1 Views 0 Comments 0 Likes 'For th...  "
      ]
     },
     "execution_count": 11,
     "metadata": {},
     "output_type": "execute_result"
    }
   ],
   "source": [
    "# How the rows of the train data look like \n",
    "raw_test_df.head(10)"
   ]
  },
  {
   "cell_type": "code",
   "execution_count": 12,
   "id": "0ba77d28-6be1-4678-ae99-c1cec9bfe1d0",
   "metadata": {
    "execution": {
     "iopub.execute_input": "2023-09-04T06:33:24.635219Z",
     "iopub.status.busy": "2023-09-04T06:33:24.634201Z",
     "iopub.status.idle": "2023-09-04T06:33:24.642307Z",
     "shell.execute_reply": "2023-09-04T06:33:24.641468Z",
     "shell.execute_reply.started": "2023-09-04T06:33:24.635181Z"
    },
    "tags": []
   },
   "outputs": [
    {
     "data": {
      "text/plain": [
       "id                                                    24652\n",
       "title     Washington's Embargo on Cuba Not Effective, Is...\n",
       "author                                                  NaN\n",
       "text      Get short URL 0 43 0 0 The White House spokesp...\n",
       "Name: 3852, dtype: object"
      ]
     },
     "execution_count": 12,
     "metadata": {},
     "output_type": "execute_result"
    }
   ],
   "source": [
    "# Let see how random simple value look like\n",
    "raw_test_df.sample(1).iloc[0]"
   ]
  },
  {
   "cell_type": "markdown",
   "id": "8ce5def0-2289-438c-8609-517db2187cee",
   "metadata": {
    "jp-MarkdownHeadingCollapsed": true,
    "tags": []
   },
   "source": [
    "***\n",
    "<h4 id=\"heading\"><span font-family:Georgia\"><Strong>📑 Submission data </Strong></span></h4>"
   ]
  },
  {
   "cell_type": "code",
   "execution_count": 13,
   "id": "f282dc1b-f053-40fe-ae38-49238b60189b",
   "metadata": {
    "execution": {
     "iopub.execute_input": "2023-09-04T06:33:25.226423Z",
     "iopub.status.busy": "2023-09-04T06:33:25.225912Z",
     "iopub.status.idle": "2023-09-04T06:33:25.239990Z",
     "shell.execute_reply": "2023-09-04T06:33:25.238818Z",
     "shell.execute_reply.started": "2023-09-04T06:33:25.226384Z"
    },
    "tags": []
   },
   "outputs": [
    {
     "name": "stdout",
     "output_type": "stream",
     "text": [
      "<class 'pandas.core.frame.DataFrame'>\n",
      "RangeIndex: 5200 entries, 0 to 5199\n",
      "Data columns (total 2 columns):\n",
      " #   Column  Non-Null Count  Dtype\n",
      "---  ------  --------------  -----\n",
      " 0   id      5200 non-null   int64\n",
      " 1   label   5200 non-null   int64\n",
      "dtypes: int64(2)\n",
      "memory usage: 81.4 KB\n"
     ]
    }
   ],
   "source": [
    "# what is the info of the train data\n",
    "raw_subm_df.info()"
   ]
  },
  {
   "cell_type": "code",
   "execution_count": 14,
   "id": "0954145a-5aa6-4884-a917-ed45dda98800",
   "metadata": {
    "execution": {
     "iopub.execute_input": "2023-09-04T06:33:26.918387Z",
     "iopub.status.busy": "2023-09-04T06:33:26.917402Z",
     "iopub.status.idle": "2023-09-04T06:33:26.942259Z",
     "shell.execute_reply": "2023-09-04T06:33:26.940114Z",
     "shell.execute_reply.started": "2023-09-04T06:33:26.918294Z"
    },
    "tags": []
   },
   "outputs": [
    {
     "data": {
      "text/html": [
       "<div>\n",
       "<style scoped>\n",
       "    .dataframe tbody tr th:only-of-type {\n",
       "        vertical-align: middle;\n",
       "    }\n",
       "\n",
       "    .dataframe tbody tr th {\n",
       "        vertical-align: top;\n",
       "    }\n",
       "\n",
       "    .dataframe thead th {\n",
       "        text-align: right;\n",
       "    }\n",
       "</style>\n",
       "<table border=\"1\" class=\"dataframe\">\n",
       "  <thead>\n",
       "    <tr style=\"text-align: right;\">\n",
       "      <th></th>\n",
       "      <th>id</th>\n",
       "      <th>label</th>\n",
       "    </tr>\n",
       "  </thead>\n",
       "  <tbody>\n",
       "    <tr>\n",
       "      <th>0</th>\n",
       "      <td>20800</td>\n",
       "      <td>0</td>\n",
       "    </tr>\n",
       "    <tr>\n",
       "      <th>1</th>\n",
       "      <td>20801</td>\n",
       "      <td>1</td>\n",
       "    </tr>\n",
       "    <tr>\n",
       "      <th>2</th>\n",
       "      <td>20802</td>\n",
       "      <td>0</td>\n",
       "    </tr>\n",
       "    <tr>\n",
       "      <th>3</th>\n",
       "      <td>20803</td>\n",
       "      <td>1</td>\n",
       "    </tr>\n",
       "    <tr>\n",
       "      <th>4</th>\n",
       "      <td>20804</td>\n",
       "      <td>1</td>\n",
       "    </tr>\n",
       "  </tbody>\n",
       "</table>\n",
       "</div>"
      ],
      "text/plain": [
       "      id  label\n",
       "0  20800      0\n",
       "1  20801      1\n",
       "2  20802      0\n",
       "3  20803      1\n",
       "4  20804      1"
      ]
     },
     "execution_count": 14,
     "metadata": {},
     "output_type": "execute_result"
    }
   ],
   "source": [
    "# How the rows of the train data look like \n",
    "raw_subm_df.head(10)"
   ]
  },
  {
   "cell_type": "code",
   "execution_count": 15,
   "id": "a127a73a-228b-4b02-9104-3da244231257",
   "metadata": {
    "execution": {
     "iopub.execute_input": "2023-09-04T06:33:27.624139Z",
     "iopub.status.busy": "2023-09-04T06:33:27.622520Z",
     "iopub.status.idle": "2023-09-04T06:33:27.637748Z",
     "shell.execute_reply": "2023-09-04T06:33:27.635948Z",
     "shell.execute_reply.started": "2023-09-04T06:33:27.624036Z"
    },
    "tags": []
   },
   "outputs": [
    {
     "data": {
      "text/plain": [
       "id       21806\n",
       "label        1\n",
       "Name: 1006, dtype: int64"
      ]
     },
     "execution_count": 15,
     "metadata": {},
     "output_type": "execute_result"
    }
   ],
   "source": [
    "# Let see how random simple value look like\n",
    "raw_subm_df.sample(1).iloc[0]"
   ]
  },
  {
   "cell_type": "markdown",
   "id": "eeea1c17-caef-467d-a457-c706b1e02032",
   "metadata": {},
   "source": [
    "<div style=\"display:fill;\n",
    "           border-radius:5px;\n",
    "           background-color:#FFE39A;;\n",
    "           font-family:Georgia;\">\n",
    "\n",
    "<p style=\"padding: 6px;\n",
    "          color:#5E4913;\">\n",
    "📌 The test and submission set are the data that we must test our trained model using the test as input and submission set as real output and evaluate the predicted output with submit value.\n",
    "</p>\n",
    "</div>"
   ]
  },
  {
   "cell_type": "markdown",
   "id": "ff3cda6e-3960-4d4e-9502-8a2bcfbe7e5a",
   "metadata": {
    "jp-MarkdownHeadingCollapsed": true,
    "tags": []
   },
   "source": [
    "***\n",
    "<h4 id=\"heading\"><span font-family:Georgia\"><Strong>🦄 Unique values</Strong></span></h4>"
   ]
  },
  {
   "cell_type": "code",
   "execution_count": 24,
   "id": "b9c41868-2631-4dab-a59e-01068a629bb7",
   "metadata": {
    "execution": {
     "iopub.execute_input": "2023-09-04T06:53:35.756510Z",
     "iopub.status.busy": "2023-09-04T06:53:35.755581Z",
     "iopub.status.idle": "2023-09-04T06:53:35.763934Z",
     "shell.execute_reply": "2023-09-04T06:53:35.762684Z",
     "shell.execute_reply.started": "2023-09-04T06:53:35.756465Z"
    }
   },
   "outputs": [
    {
     "data": {
      "text/plain": [
       "Index(['id', 'title', 'author', 'text', 'label'], dtype='object')"
      ]
     },
     "execution_count": 24,
     "metadata": {},
     "output_type": "execute_result"
    }
   ],
   "source": [
    "raw_train_df.columns"
   ]
  },
  {
   "cell_type": "code",
   "execution_count": 36,
   "id": "16dadbd1-ffa2-4647-8a89-519df74f5b84",
   "metadata": {
    "execution": {
     "iopub.execute_input": "2023-09-04T06:58:42.345364Z",
     "iopub.status.busy": "2023-09-04T06:58:42.344451Z",
     "iopub.status.idle": "2023-09-04T06:58:42.353924Z",
     "shell.execute_reply": "2023-09-04T06:58:42.352997Z",
     "shell.execute_reply.started": "2023-09-04T06:58:42.345314Z"
    },
    "tags": []
   },
   "outputs": [
    {
     "name": "stdout",
     "output_type": "stream",
     "text": [
      "Number of author in our data is:  4202\n"
     ]
    }
   ],
   "source": [
    "# How many author in this data\n",
    "print('Number of author in our data is: ',len(raw_train_df['author'].unique().tolist()))\n",
    "\n",
    "# Display the names of authors\n",
    "# raw_train_df['author'].unique().tolist()"
   ]
  },
  {
   "cell_type": "markdown",
   "id": "5efea583-04ef-493d-89e3-b7f922e9d375",
   "metadata": {
    "tags": []
   },
   "source": [
    "<h4 id=\"heading\"><span style=\"background-color:#fcf3b9; color:#3d3710 ; display:fill;border-radius:5px; font-family:Georgia\">🏁 Conclusion of Exploration </span></h4>\n"
   ]
  },
  {
   "cell_type": "markdown",
   "id": "e4599e37-bbea-4fdd-b505-56f4a059c835",
   "metadata": {
    "tags": []
   },
   "source": [
    "<span style=\"font-family:cursive;\n",
    "             color:#ff9d91\">From the info above, we can see the two major problems:👨‍💻</span>\n",
    "- [x] We have many missing values from 'title', 'author', and 'text' columns.\n",
    "- [x] We have different language (Arabic, English)."
   ]
  },
  {
   "cell_type": "code",
   "execution_count": null,
   "id": "4ace126f-41e3-4a12-8f0a-3c6aef20ffff",
   "metadata": {},
   "outputs": [],
   "source": []
  }
 ],
 "metadata": {
  "kernelspec": {
   "display_name": "Python 3 (ipykernel)",
   "language": "python",
   "name": "python3"
  },
  "language_info": {
   "codemirror_mode": {
    "name": "ipython",
    "version": 3
   },
   "file_extension": ".py",
   "mimetype": "text/x-python",
   "name": "python",
   "nbconvert_exporter": "python",
   "pygments_lexer": "ipython3",
   "version": "3.11.4"
  }
 },
 "nbformat": 4,
 "nbformat_minor": 5
}
