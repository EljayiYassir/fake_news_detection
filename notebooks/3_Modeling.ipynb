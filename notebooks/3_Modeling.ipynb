{
 "cells": [
  {
   "cell_type": "markdown",
   "id": "ee83dac7-0a56-4224-b5ea-43cac944aa71",
   "metadata": {
    "tags": []
   },
   "source": [
    "***\n",
    "<h1 id=\"heading\"><center><span style=\"background-color:#5642C5; color:white ; display:fill;border-radius:5px; font-family:cursive\"> 3. Modeling ⚙️🛠️ </span></center><a class=\"anchor-link\"></a></h1>\n",
    "<p><center style=\"color:#159364; font-family:cursive;\">The best way to make yourself extremely valuable in a team is to understand everything, but being a master of something.</center></p>\n",
    "\n",
    "***\n"
   ]
  },
  {
   "cell_type": "code",
   "execution_count": 1,
   "id": "41f30138-3df8-43af-88d9-89b2531927e1",
   "metadata": {
    "execution": {
     "iopub.execute_input": "2023-09-08T08:23:16.621570Z",
     "iopub.status.busy": "2023-09-08T08:23:16.620738Z",
     "iopub.status.idle": "2023-09-08T08:23:16.627088Z",
     "shell.execute_reply": "2023-09-08T08:23:16.625888Z",
     "shell.execute_reply.started": "2023-09-08T08:23:16.621518Z"
    }
   },
   "outputs": [],
   "source": [
    "DF_PATH = \"../data/processed/\"\n",
    "TRAIN_PATH = \"../data/processed/1_train_preprocessed_df.pkl\"\n",
    "TEST_PATH = \"../data/processed/1_test_preprocessed_df.pkl\"\n",
    "\n",
    "MLFLOW_TRACKING_URI = '../models/mlruns'\n",
    "MLFLOW_EXPERIMENT_NAME = \"fake_news_predection\"\n",
    "\n",
    "LOG_PATH = \"../models/temp/\"\n",
    "LOG_VECT_PKL    =  \"tfidf_vectorizer.pkl\"\n",
    "LOG_DATA_PKL    =  \"data.pkl\"\n",
    "LOG_MODEL_PKL   =  \"model.pkl\"\n",
    "LOG_METRICS_PKL =  \"metrics.pkl\""
   ]
  },
  {
   "cell_type": "markdown",
   "id": "8b60ba1a-7402-4880-be83-56be3056b2b8",
   "metadata": {
    "tags": []
   },
   "source": [
    "***\n",
    "<h3 id=\"heading\"><span style=\"background-color:#cefffb; color:#1b4946 ; display:fill;border-radius:5px; font-family:cursive\"> 📥 Import packages & data </span></h3>"
   ]
  },
  {
   "cell_type": "code",
   "execution_count": 2,
   "id": "276b3c57-89d9-4021-a499-dbc42529f819",
   "metadata": {
    "execution": {
     "iopub.execute_input": "2023-09-08T08:23:17.493551Z",
     "iopub.status.busy": "2023-09-08T08:23:17.492703Z",
     "iopub.status.idle": "2023-09-08T08:23:21.901946Z",
     "shell.execute_reply": "2023-09-08T08:23:21.901108Z",
     "shell.execute_reply.started": "2023-09-08T08:23:17.493498Z"
    },
    "tags": []
   },
   "outputs": [],
   "source": [
    "# Load packages\n",
    "import pandas as pd \n",
    "import numpy as np\n",
    "import logging\n",
    "import pickle\n",
    "import random\n",
    "import plotly \n",
    "import os\n",
    "from pathlib import Path\n",
    "# Load Mlflow experiment tracker\n",
    "# if MlFlow not working try \n",
    "# pip install pydantic==1.10.9\n",
    "import mlflow\n",
    "from mlflow.tracking import MlflowClient\n",
    "\n",
    "from sklearn.pipeline import make_pipeline, FeatureUnion\n",
    "from sklearn.feature_extraction.text import CountVectorizer, TfidfVectorizer\n",
    "from sklearn.model_selection import train_test_split\n",
    "from sklearn.model_selection import GridSearchCV\n",
    "\n",
    "# Load metrics\n",
    "from sklearn import metrics\n",
    "from sklearn.metrics import auc, accuracy_score, confusion_matrix, f1_score, precision_score, recall_score, classification_report\n",
    "\n",
    "# Load ml models\n",
    "import xgboost as xg\n",
    "from sklearn.naive_bayes import MultinomialNB\n",
    "from sklearn.linear_model import LogisticRegression\n",
    "from sklearn.svm import SVC\n",
    "from sklearn.neighbors import KNeighborsClassifier\n",
    "from sklearn.ensemble import RandomForestClassifier\n",
    "from sklearn.tree import DecisionTreeClassifier\n",
    "\n",
    "# visualization library\n",
    "from wordcloud import WordCloud\n",
    "from matplotlib import pyplot as plt\n",
    "\n",
    "import warnings\n",
    "warnings.filterwarnings(\"ignore\")"
   ]
  },
  {
   "cell_type": "code",
   "execution_count": 3,
   "id": "1c2b0d7f-9185-4158-a012-bd76c4d8cea1",
   "metadata": {
    "execution": {
     "iopub.execute_input": "2023-09-08T08:23:21.911483Z",
     "iopub.status.busy": "2023-09-08T08:23:21.911183Z",
     "iopub.status.idle": "2023-09-08T08:23:21.915715Z",
     "shell.execute_reply": "2023-09-08T08:23:21.914850Z",
     "shell.execute_reply.started": "2023-09-08T08:23:21.911458Z"
    }
   },
   "outputs": [],
   "source": [
    "def calculate_quality(ground_truth, predictions, metric_function):\n",
    "    quality_score = round(metric_function(ground_truth, predictions) * 100, 2)\n",
    "    return quality_score"
   ]
  },
  {
   "cell_type": "markdown",
   "id": "9aa9c09b-6d68-46c4-aea7-a5d89a50364c",
   "metadata": {},
   "source": [
    "_________"
   ]
  },
  {
   "cell_type": "markdown",
   "id": "13576d00-f2e7-4073-aa22-72e5c5d425c5",
   "metadata": {
    "tags": []
   },
   "source": [
    "***\n",
    "<h3 id=\"heading\"><span style=\"background-color:#cefffb; color:#1b4946 ; display:fill;border-radius:5px; font-family:cursive\"> 🗄️ Initialize </span></h3>"
   ]
  },
  {
   "cell_type": "markdown",
   "id": "4d8f5a74-ff52-48a6-9cbe-756d1494797f",
   "metadata": {
    "tags": []
   },
   "source": [
    "<h4 id=\"heading\"><span font-family:Georgia\"><Strong>📑 Create directories </Strong></span></h4>\n"
   ]
  },
  {
   "cell_type": "code",
   "execution_count": 4,
   "id": "fccda0ba-3490-4283-83fe-f74ac8d14118",
   "metadata": {
    "collapsed": false,
    "execution": {
     "iopub.execute_input": "2023-09-08T08:23:23.325053Z",
     "iopub.status.busy": "2023-09-08T08:23:23.323999Z",
     "iopub.status.idle": "2023-09-08T08:23:23.332172Z",
     "shell.execute_reply": "2023-09-08T08:23:23.330003Z",
     "shell.execute_reply.started": "2023-09-08T08:23:23.325006Z"
    },
    "jupyter": {
     "outputs_hidden": false
    },
    "pycharm": {
     "name": "#%%\n"
    }
   },
   "outputs": [],
   "source": [
    "# Create directories if they don't exist\n",
    "Path(MLFLOW_TRACKING_URI).mkdir(parents=True, exist_ok=True)\n",
    "Path(LOG_PATH).mkdir(parents=True, exist_ok=True)"
   ]
  },
  {
   "cell_type": "markdown",
   "id": "c8ad16e8-523c-44bb-b0b7-6315250d5854",
   "metadata": {
    "tags": []
   },
   "source": [
    "<h4 id=\"heading\"><span font-family:Georgia\"><Strong>📑 Read data </Strong></span></h4>\n"
   ]
  },
  {
   "cell_type": "code",
   "execution_count": 5,
   "id": "40a89b4c-1a33-4020-9e98-6d4d60ee04dc",
   "metadata": {
    "collapsed": false,
    "execution": {
     "iopub.execute_input": "2023-09-08T08:23:23.972984Z",
     "iopub.status.busy": "2023-09-08T08:23:23.971363Z",
     "iopub.status.idle": "2023-09-08T08:23:24.270865Z",
     "shell.execute_reply": "2023-09-08T08:23:24.270047Z",
     "shell.execute_reply.started": "2023-09-08T08:23:23.972915Z"
    },
    "jupyter": {
     "outputs_hidden": false
    },
    "pycharm": {
     "name": "#%%\n"
    }
   },
   "outputs": [],
   "source": [
    "# Read Data\n",
    "train_df = pd.read_pickle(TRAIN_PATH)\n",
    "test_df = pd.read_pickle(TEST_PATH)"
   ]
  },
  {
   "cell_type": "code",
   "execution_count": 6,
   "id": "ef51d447-2548-4b3f-bce2-52084d488817",
   "metadata": {
    "execution": {
     "iopub.execute_input": "2023-09-08T08:23:24.806483Z",
     "iopub.status.busy": "2023-09-08T08:23:24.805837Z",
     "iopub.status.idle": "2023-09-08T08:23:24.829766Z",
     "shell.execute_reply": "2023-09-08T08:23:24.828571Z",
     "shell.execute_reply.started": "2023-09-08T08:23:24.806438Z"
    }
   },
   "outputs": [
    {
     "data": {
      "text/html": [
       "<div>\n",
       "<style scoped>\n",
       "    .dataframe tbody tr th:only-of-type {\n",
       "        vertical-align: middle;\n",
       "    }\n",
       "\n",
       "    .dataframe tbody tr th {\n",
       "        vertical-align: top;\n",
       "    }\n",
       "\n",
       "    .dataframe thead th {\n",
       "        text-align: right;\n",
       "    }\n",
       "</style>\n",
       "<table border=\"1\" class=\"dataframe\">\n",
       "  <thead>\n",
       "    <tr style=\"text-align: right;\">\n",
       "      <th></th>\n",
       "      <th>content</th>\n",
       "      <th>label</th>\n",
       "    </tr>\n",
       "  </thead>\n",
       "  <tbody>\n",
       "    <tr>\n",
       "      <th>0</th>\n",
       "      <td>david streitfeld specter trump loosen tongu pu...</td>\n",
       "      <td>0</td>\n",
       "    </tr>\n",
       "    <tr>\n",
       "      <th>1</th>\n",
       "      <td>russian warship readi strike terrorist near al...</td>\n",
       "      <td>1</td>\n",
       "    </tr>\n",
       "    <tr>\n",
       "      <th>2</th>\n",
       "      <td>common dream nodapl nativ american leader vow ...</td>\n",
       "      <td>0</td>\n",
       "    </tr>\n",
       "    <tr>\n",
       "      <th>3</th>\n",
       "      <td>daniel victor tim tebow attempt anoth comeback...</td>\n",
       "      <td>1</td>\n",
       "    </tr>\n",
       "    <tr>\n",
       "      <th>4</th>\n",
       "      <td>truth broadcast network keiser report meme war...</td>\n",
       "      <td>1</td>\n",
       "    </tr>\n",
       "  </tbody>\n",
       "</table>\n",
       "</div>"
      ],
      "text/plain": [
       "                                             content  label\n",
       "0  david streitfeld specter trump loosen tongu pu...      0\n",
       "1  russian warship readi strike terrorist near al...      1\n",
       "2  common dream nodapl nativ american leader vow ...      0\n",
       "3  daniel victor tim tebow attempt anoth comeback...      1\n",
       "4  truth broadcast network keiser report meme war...      1"
      ]
     },
     "execution_count": 6,
     "metadata": {},
     "output_type": "execute_result"
    }
   ],
   "source": [
    "test_df.head()"
   ]
  },
  {
   "cell_type": "markdown",
   "id": "168f02c5-c630-4852-b152-94775ad0e4a7",
   "metadata": {
    "tags": []
   },
   "source": [
    "<h4 id=\"heading\"><span font-family:Georgia\"><Strong>✂️ Victorization </Strong></span></h4>\n"
   ]
  },
  {
   "cell_type": "markdown",
   "id": "bfe72325-d7b3-4d22-b1fb-92f821e1dc93",
   "metadata": {
    "tags": []
   },
   "source": [
    "<h5 id=\"heading\"><span style=\"background-color:#000639; color:#F6FEFF ; display:fill;border-radius:6px; font-family:Georgia\"><Strong>🔵  TfidfVectorizer()   </Strong></span></h5>\n"
   ]
  },
  {
   "cell_type": "code",
   "execution_count": 7,
   "id": "65ee3a11-3d30-4353-a359-d9840ee21ab9",
   "metadata": {
    "execution": {
     "iopub.execute_input": "2023-09-08T08:23:29.014583Z",
     "iopub.status.busy": "2023-09-08T08:23:29.013165Z",
     "iopub.status.idle": "2023-09-08T08:23:35.795045Z",
     "shell.execute_reply": "2023-09-08T08:23:35.794041Z",
     "shell.execute_reply.started": "2023-09-08T08:23:29.014515Z"
    }
   },
   "outputs": [
    {
     "data": {
      "text/html": [
       "<style>#sk-container-id-1 {color: black;}#sk-container-id-1 pre{padding: 0;}#sk-container-id-1 div.sk-toggleable {background-color: white;}#sk-container-id-1 label.sk-toggleable__label {cursor: pointer;display: block;width: 100%;margin-bottom: 0;padding: 0.3em;box-sizing: border-box;text-align: center;}#sk-container-id-1 label.sk-toggleable__label-arrow:before {content: \"▸\";float: left;margin-right: 0.25em;color: #696969;}#sk-container-id-1 label.sk-toggleable__label-arrow:hover:before {color: black;}#sk-container-id-1 div.sk-estimator:hover label.sk-toggleable__label-arrow:before {color: black;}#sk-container-id-1 div.sk-toggleable__content {max-height: 0;max-width: 0;overflow: hidden;text-align: left;background-color: #f0f8ff;}#sk-container-id-1 div.sk-toggleable__content pre {margin: 0.2em;color: black;border-radius: 0.25em;background-color: #f0f8ff;}#sk-container-id-1 input.sk-toggleable__control:checked~div.sk-toggleable__content {max-height: 200px;max-width: 100%;overflow: auto;}#sk-container-id-1 input.sk-toggleable__control:checked~label.sk-toggleable__label-arrow:before {content: \"▾\";}#sk-container-id-1 div.sk-estimator input.sk-toggleable__control:checked~label.sk-toggleable__label {background-color: #d4ebff;}#sk-container-id-1 div.sk-label input.sk-toggleable__control:checked~label.sk-toggleable__label {background-color: #d4ebff;}#sk-container-id-1 input.sk-hidden--visually {border: 0;clip: rect(1px 1px 1px 1px);clip: rect(1px, 1px, 1px, 1px);height: 1px;margin: -1px;overflow: hidden;padding: 0;position: absolute;width: 1px;}#sk-container-id-1 div.sk-estimator {font-family: monospace;background-color: #f0f8ff;border: 1px dotted black;border-radius: 0.25em;box-sizing: border-box;margin-bottom: 0.5em;}#sk-container-id-1 div.sk-estimator:hover {background-color: #d4ebff;}#sk-container-id-1 div.sk-parallel-item::after {content: \"\";width: 100%;border-bottom: 1px solid gray;flex-grow: 1;}#sk-container-id-1 div.sk-label:hover label.sk-toggleable__label {background-color: #d4ebff;}#sk-container-id-1 div.sk-serial::before {content: \"\";position: absolute;border-left: 1px solid gray;box-sizing: border-box;top: 0;bottom: 0;left: 50%;z-index: 0;}#sk-container-id-1 div.sk-serial {display: flex;flex-direction: column;align-items: center;background-color: white;padding-right: 0.2em;padding-left: 0.2em;position: relative;}#sk-container-id-1 div.sk-item {position: relative;z-index: 1;}#sk-container-id-1 div.sk-parallel {display: flex;align-items: stretch;justify-content: center;background-color: white;position: relative;}#sk-container-id-1 div.sk-item::before, #sk-container-id-1 div.sk-parallel-item::before {content: \"\";position: absolute;border-left: 1px solid gray;box-sizing: border-box;top: 0;bottom: 0;left: 50%;z-index: -1;}#sk-container-id-1 div.sk-parallel-item {display: flex;flex-direction: column;z-index: 1;position: relative;background-color: white;}#sk-container-id-1 div.sk-parallel-item:first-child::after {align-self: flex-end;width: 50%;}#sk-container-id-1 div.sk-parallel-item:last-child::after {align-self: flex-start;width: 50%;}#sk-container-id-1 div.sk-parallel-item:only-child::after {width: 0;}#sk-container-id-1 div.sk-dashed-wrapped {border: 1px dashed gray;margin: 0 0.4em 0.5em 0.4em;box-sizing: border-box;padding-bottom: 0.4em;background-color: white;}#sk-container-id-1 div.sk-label label {font-family: monospace;font-weight: bold;display: inline-block;line-height: 1.2em;}#sk-container-id-1 div.sk-label-container {text-align: center;}#sk-container-id-1 div.sk-container {/* jupyter's `normalize.less` sets `[hidden] { display: none; }` but bootstrap.min.css set `[hidden] { display: none !important; }` so we also need the `!important` here to be able to override the default hidden behavior on the sphinx rendered scikit-learn.org. See: https://github.com/scikit-learn/scikit-learn/issues/21755 */display: inline-block !important;position: relative;}#sk-container-id-1 div.sk-text-repr-fallback {display: none;}</style><div id=\"sk-container-id-1\" class=\"sk-top-container\"><div class=\"sk-text-repr-fallback\"><pre>TfidfVectorizer()</pre><b>In a Jupyter environment, please rerun this cell to show the HTML representation or trust the notebook. <br />On GitHub, the HTML representation is unable to render, please try loading this page with nbviewer.org.</b></div><div class=\"sk-container\" hidden><div class=\"sk-item\"><div class=\"sk-estimator sk-toggleable\"><input class=\"sk-toggleable__control sk-hidden--visually\" id=\"sk-estimator-id-1\" type=\"checkbox\" checked><label for=\"sk-estimator-id-1\" class=\"sk-toggleable__label sk-toggleable__label-arrow\">TfidfVectorizer</label><div class=\"sk-toggleable__content\"><pre>TfidfVectorizer()</pre></div></div></div></div></div>"
      ],
      "text/plain": [
       "TfidfVectorizer()"
      ]
     },
     "execution_count": 7,
     "metadata": {},
     "output_type": "execute_result"
    }
   ],
   "source": [
    "# Fit the TF-IDF vectorizer on the training data\n",
    "vectorizer = TfidfVectorizer()\n",
    "vectorizer.fit(train_df['content'].values)"
   ]
  },
  {
   "cell_type": "code",
   "execution_count": 8,
   "id": "1ea4e4be-716b-4b79-849c-e8f94b8bf5a9",
   "metadata": {
    "execution": {
     "iopub.execute_input": "2023-09-08T08:23:35.808196Z",
     "iopub.status.busy": "2023-09-08T08:23:35.807912Z",
     "iopub.status.idle": "2023-09-08T08:23:42.593589Z",
     "shell.execute_reply": "2023-09-08T08:23:42.592485Z",
     "shell.execute_reply.started": "2023-09-08T08:23:35.808168Z"
    },
    "scrolled": true
   },
   "outputs": [],
   "source": [
    "# Transform the training data\n",
    "X_train = vectorizer.transform(train_df['content'].values)\n",
    "Y_train = train_df['label'].values"
   ]
  },
  {
   "cell_type": "code",
   "execution_count": 13,
   "id": "a46378dc-e2aa-4fdb-8816-b241a4bb1811",
   "metadata": {
    "execution": {
     "iopub.execute_input": "2023-09-06T16:27:48.185092Z",
     "iopub.status.busy": "2023-09-06T16:27:48.184325Z",
     "iopub.status.idle": "2023-09-06T16:27:50.280602Z",
     "shell.execute_reply": "2023-09-06T16:27:50.279577Z",
     "shell.execute_reply.started": "2023-09-06T16:27:48.185044Z"
    }
   },
   "outputs": [],
   "source": [
    "# Transform the test data using the same vectorizer\n",
    "X_test = vectorizer.transform(test_df['content'].values)\n",
    "Y_test = test_df['label'].values"
   ]
  },
  {
   "cell_type": "code",
   "execution_count": 11,
   "id": "e38b5903-ea0b-4fb3-84df-290c926d4c37",
   "metadata": {
    "execution": {
     "iopub.execute_input": "2023-09-06T15:43:06.388693Z",
     "iopub.status.busy": "2023-09-06T15:43:06.387197Z",
     "iopub.status.idle": "2023-09-06T15:43:06.453037Z",
     "shell.execute_reply": "2023-09-06T15:43:06.449372Z",
     "shell.execute_reply.started": "2023-09-06T15:43:06.388618Z"
    }
   },
   "outputs": [],
   "source": [
    "# Save the vectorizer to a file using pickle\n",
    "with open(os.path.join(LOG_PATH, LOG_VECT_PKL), \"wb\") as vectorizer_file:\n",
    "    pickle.dump(vectorizer, vectorizer_file)"
   ]
  },
  {
   "cell_type": "markdown",
   "id": "63af968e-20ab-4757-a0fa-79860d8f21d1",
   "metadata": {
    "jp-MarkdownHeadingCollapsed": true,
    "tags": []
   },
   "source": [
    "<h5 id=\"heading\"><span style=\"background-color:#000639; color:#F6FEFF ; display:fill;border-radius:6px; font-family:Georgia\"><Strong>🔵  CountVectorizer()   </Strong></span></h5>\n"
   ]
  },
  {
   "cell_type": "markdown",
   "id": "3bc6b397-4951-496a-961d-cd870a5ff894",
   "metadata": {},
   "source": [
    "~~~\n",
    "cv=CountVectorizer(ngram_range=(1,3),max_features=7000)\n",
    "xtrain=cv.fit_transform(xtrain)\n",
    "xval=cv.transform(xval)\n",
    "~~~"
   ]
  },
  {
   "cell_type": "markdown",
   "id": "92772f8b-bb13-4ed6-ab46-b5e825f3bf5f",
   "metadata": {
    "jp-MarkdownHeadingCollapsed": true,
    "tags": []
   },
   "source": [
    "***\n",
    "<h4 id=\"heading\"><span style=\"background-color:#cefffb; color:#1b4946; display:fill;border-radius:5px; font-family:cursive\"> 📤 Exporting Pickle </span></h4>"
   ]
  },
  {
   "cell_type": "markdown",
   "id": "abc4e587-3aaf-4a08-ad73-2b44d87fd4ac",
   "metadata": {
    "jp-MarkdownHeadingCollapsed": true,
    "tags": []
   },
   "source": [
    "<h5 id=\"heading\"><span font-family:Georgia\"><Strong>📑 Train preprocess </Strong></span></h5>\n"
   ]
  },
  {
   "cell_type": "code",
   "execution_count": 61,
   "id": "47761cc7-b4ae-4017-9dda-e7e27409c994",
   "metadata": {
    "execution": {
     "iopub.execute_input": "2023-09-05T10:26:26.298494Z",
     "iopub.status.busy": "2023-09-05T10:26:26.297844Z",
     "iopub.status.idle": "2023-09-05T10:26:26.339092Z",
     "shell.execute_reply": "2023-09-05T10:26:26.338232Z",
     "shell.execute_reply.started": "2023-09-05T10:26:26.298465Z"
    }
   },
   "outputs": [],
   "source": [
    "with open(DF_PATH+'X_train_preprocessed_df.pkl', 'wb') as f:\n",
    "    pickle.dump(X_train, f)\n",
    "with open(DF_PATH+'Y_train_preprocessed_df.pkl', 'wb') as f:\n",
    "    pickle.dump(Y_train, f)\n",
    "# We can also use: $ df.to_pickle(EXPORT_PATH)"
   ]
  },
  {
   "cell_type": "markdown",
   "id": "f4c2ff59-5292-4982-b78c-34b9e1ae608d",
   "metadata": {
    "jp-MarkdownHeadingCollapsed": true,
    "tags": []
   },
   "source": [
    "<h5 id=\"heading\"><span font-family:Georgia\"><Strong>📑 Test preprocess </Strong></span></h5>\n"
   ]
  },
  {
   "cell_type": "code",
   "execution_count": 62,
   "id": "fb7204ae-2f30-4c99-8674-f7976b09c237",
   "metadata": {
    "execution": {
     "iopub.execute_input": "2023-09-05T10:26:27.433353Z",
     "iopub.status.busy": "2023-09-05T10:26:27.432674Z",
     "iopub.status.idle": "2023-09-05T10:26:27.450361Z",
     "shell.execute_reply": "2023-09-05T10:26:27.449306Z",
     "shell.execute_reply.started": "2023-09-05T10:26:27.433320Z"
    }
   },
   "outputs": [],
   "source": [
    "with open(DF_PATH+'X_test_preprocessed_df.pkl', 'wb') as f:\n",
    "    pickle.dump(X_test, f)\n",
    "with open(DF_PATH+'Y_test_preprocessed_df.pkl', 'wb') as f:\n",
    "    pickle.dump(Y_test, f)\n",
    "# We can also use: $ df.to_pickle(EXPORT_PATH)"
   ]
  },
  {
   "cell_type": "markdown",
   "id": "5c0e1d0a-42fd-47cb-b9fe-0696978f1918",
   "metadata": {
    "tags": []
   },
   "source": [
    "<h4 id=\"heading\"><span font-family:Georgia\"><Strong>🗃️ Split data </Strong></span></h4>\n"
   ]
  },
  {
   "cell_type": "code",
   "execution_count": 14,
   "id": "c8da5a1c-76ff-4d59-8156-3b465b59959b",
   "metadata": {
    "execution": {
     "iopub.execute_input": "2023-09-06T16:28:10.162972Z",
     "iopub.status.busy": "2023-09-06T16:28:10.160586Z",
     "iopub.status.idle": "2023-09-06T16:28:10.253649Z",
     "shell.execute_reply": "2023-09-06T16:28:10.252351Z",
     "shell.execute_reply.started": "2023-09-06T16:28:10.162911Z"
    }
   },
   "outputs": [],
   "source": [
    "X_train, X_val, Y_train, Y_val = train_test_split(X_train, Y_train , train_size=0.8, random_state=0)"
   ]
  },
  {
   "cell_type": "markdown",
   "id": "6942ab01-c8e2-4693-bf24-801a192b9506",
   "metadata": {
    "tags": []
   },
   "source": [
    "***\n",
    "<h2 id=\"heading\"><span style=\"background-color:#cefffb; color:#1b4946 ; display:fill;border-radius:5px; font-family:cursive\"> 🏋️‍♂️ Train models </span></h2>"
   ]
  },
  {
   "cell_type": "markdown",
   "id": "d6c36fdd-6fe7-42ca-a82c-3f0e42552e7b",
   "metadata": {
    "tags": []
   },
   "source": [
    "<h3 id=\"heading\"><span font-family:Georgia\"><Strong>📑 Initialize MLflow </Strong></span></h3>\n"
   ]
  },
  {
   "cell_type": "code",
   "execution_count": 15,
   "id": "f5fab1f0-230f-4580-abeb-a85550ec0c4d",
   "metadata": {
    "execution": {
     "iopub.execute_input": "2023-09-06T16:28:21.366518Z",
     "iopub.status.busy": "2023-09-06T16:28:21.365502Z",
     "iopub.status.idle": "2023-09-06T16:28:21.401813Z",
     "shell.execute_reply": "2023-09-06T16:28:21.400948Z",
     "shell.execute_reply.started": "2023-09-06T16:28:21.366467Z"
    }
   },
   "outputs": [],
   "source": [
    "# Initialize client and experiment\n",
    "mlflow.set_tracking_uri(MLFLOW_TRACKING_URI)\n",
    "client = mlflow.MlflowClient()\n",
    "mlflow.get_experiment_by_name(MLFLOW_EXPERIMENT_NAME)\n",
    "exp = mlflow.set_experiment(MLFLOW_EXPERIMENT_NAME)"
   ]
  },
  {
   "cell_type": "code",
   "execution_count": 16,
   "id": "fc5a1a9f-0fde-4543-8883-4c2714e6edce",
   "metadata": {
    "execution": {
     "iopub.execute_input": "2023-09-06T16:28:21.843039Z",
     "iopub.status.busy": "2023-09-06T16:28:21.842044Z",
     "iopub.status.idle": "2023-09-06T16:28:21.850383Z",
     "shell.execute_reply": "2023-09-06T16:28:21.849186Z",
     "shell.execute_reply.started": "2023-09-06T16:28:21.842994Z"
    }
   },
   "outputs": [
    {
     "data": {
      "text/plain": [
       "<bound method MlflowClient.get_experiment_by_name of <mlflow.tracking.client.MlflowClient object at 0x7f297ac0b550>>"
      ]
     },
     "execution_count": 16,
     "metadata": {},
     "output_type": "execute_result"
    }
   ],
   "source": [
    "client.get_experiment_by_name"
   ]
  },
  {
   "cell_type": "markdown",
   "id": "7498e3fd-4634-4048-a0f3-409450ab35c3",
   "metadata": {
    "jp-MarkdownHeadingCollapsed": true,
    "tags": []
   },
   "source": [
    "***\n",
    "<h3 id=\"heading\"><span style=\"background-color:#F7CBFF; color:#581845 ; display:fill;border-radius:5px;font-family:Georgia\"><Strong>📦 1. Logistic regression </Strong></span></h3>\n"
   ]
  },
  {
   "cell_type": "markdown",
   "id": "1d5cfa07-95bd-4e7b-ad22-84ab558524d3",
   "metadata": {
    "tags": []
   },
   "source": [
    "<h5 id=\"heading\"><span font-family:Georgia\"><Strong>🧑🏻‍⚖️ 1. Evaluate the training set </Strong></span></h5>\n"
   ]
  },
  {
   "cell_type": "code",
   "execution_count": 13,
   "id": "b41b911c-0879-455b-8098-67c652888163",
   "metadata": {
    "execution": {
     "iopub.execute_input": "2023-09-05T09:00:32.346097Z",
     "iopub.status.busy": "2023-09-05T09:00:32.344177Z",
     "iopub.status.idle": "2023-09-05T09:00:35.891877Z",
     "shell.execute_reply": "2023-09-05T09:00:35.891075Z",
     "shell.execute_reply.started": "2023-09-05T09:00:32.346021Z"
    }
   },
   "outputs": [],
   "source": [
    "clf = make_pipeline(LogisticRegression())\n",
    "\n",
    "clf.fit(X_train, Y_train)\n",
    "lg_predictions_val =  pd.DataFrame(clf.predict(X_val))"
   ]
  },
  {
   "cell_type": "code",
   "execution_count": 14,
   "id": "9d892ac5-1422-4c71-9b37-b185ef875730",
   "metadata": {
    "execution": {
     "iopub.execute_input": "2023-09-05T09:00:35.893731Z",
     "iopub.status.busy": "2023-09-05T09:00:35.893110Z",
     "iopub.status.idle": "2023-09-05T09:00:35.953930Z",
     "shell.execute_reply": "2023-09-05T09:00:35.951139Z",
     "shell.execute_reply.started": "2023-09-05T09:00:35.893695Z"
    }
   },
   "outputs": [
    {
     "name": "stdout",
     "output_type": "stream",
     "text": [
      "The confusion matrix is:\n",
      "  [[1925  121]\n",
      " [  95 2019]]\n"
     ]
    },
    {
     "data": {
      "text/html": [
       "<div>\n",
       "<style scoped>\n",
       "    .dataframe tbody tr th:only-of-type {\n",
       "        vertical-align: middle;\n",
       "    }\n",
       "\n",
       "    .dataframe tbody tr th {\n",
       "        vertical-align: top;\n",
       "    }\n",
       "\n",
       "    .dataframe thead th {\n",
       "        text-align: right;\n",
       "    }\n",
       "</style>\n",
       "<table border=\"1\" class=\"dataframe\">\n",
       "  <thead>\n",
       "    <tr style=\"text-align: right;\">\n",
       "      <th></th>\n",
       "      <th>accuracy_score</th>\n",
       "      <th>precision_score</th>\n",
       "      <th>recall_score</th>\n",
       "      <th>f1_score</th>\n",
       "    </tr>\n",
       "  </thead>\n",
       "  <tbody>\n",
       "    <tr>\n",
       "      <th>Validation Score</th>\n",
       "      <td>94.81</td>\n",
       "      <td>94.35</td>\n",
       "      <td>95.51</td>\n",
       "      <td>94.92</td>\n",
       "    </tr>\n",
       "  </tbody>\n",
       "</table>\n",
       "</div>"
      ],
      "text/plain": [
       "                  accuracy_score  precision_score  recall_score  f1_score\n",
       "Validation Score           94.81            94.35         95.51     94.92"
      ]
     },
     "execution_count": 14,
     "metadata": {},
     "output_type": "execute_result"
    }
   ],
   "source": [
    "# Evaluate on validation set\n",
    "validation_scores = {score.__name__: calculate_quality(Y_val, lg_predictions_val[0], score) \n",
    "                     for score in [accuracy_score, precision_score, recall_score, f1_score]}\n",
    "\n",
    "# Create a DataFrame from the dictionary\n",
    "train_scores_df = pd.DataFrame.from_dict(validation_scores, orient='index', columns=['Validation Score']).T\n",
    "print('The confusion matrix is:\\n ',confusion_matrix(Y_val, lg_predictions_val))\n",
    "# Display the DataFrame\n",
    "train_scores_df"
   ]
  },
  {
   "cell_type": "markdown",
   "id": "57a316df-40a3-4d0d-99c9-61bd915697ca",
   "metadata": {
    "tags": []
   },
   "source": [
    "<h5 id=\"heading\"><span font-family:Georgia\"><Strong>🧑🏻‍⚖️ 2. Evaluate the test set </Strong></span></h5>\n"
   ]
  },
  {
   "cell_type": "code",
   "execution_count": 15,
   "id": "5dd6621d-6d37-42dc-8f20-1093336a7848",
   "metadata": {
    "execution": {
     "iopub.execute_input": "2023-09-05T09:00:35.956367Z",
     "iopub.status.busy": "2023-09-05T09:00:35.955762Z",
     "iopub.status.idle": "2023-09-05T09:00:35.977764Z",
     "shell.execute_reply": "2023-09-05T09:00:35.976244Z",
     "shell.execute_reply.started": "2023-09-05T09:00:35.956312Z"
    }
   },
   "outputs": [],
   "source": [
    "lg_predictions_test = clf.predict(X_test)"
   ]
  },
  {
   "cell_type": "code",
   "execution_count": 16,
   "id": "a2eb8be0-3d9e-4fb9-b241-1cb861fa2a86",
   "metadata": {
    "execution": {
     "iopub.execute_input": "2023-09-05T09:00:35.985904Z",
     "iopub.status.busy": "2023-09-05T09:00:35.985288Z",
     "iopub.status.idle": "2023-09-05T09:00:36.045450Z",
     "shell.execute_reply": "2023-09-05T09:00:36.043963Z",
     "shell.execute_reply.started": "2023-09-05T09:00:35.985861Z"
    }
   },
   "outputs": [
    {
     "name": "stdout",
     "output_type": "stream",
     "text": [
      "The confusion matrix is:\n",
      "  [[1502  837]\n",
      " [1075 1786]]\n"
     ]
    },
    {
     "data": {
      "text/html": [
       "<div>\n",
       "<style scoped>\n",
       "    .dataframe tbody tr th:only-of-type {\n",
       "        vertical-align: middle;\n",
       "    }\n",
       "\n",
       "    .dataframe tbody tr th {\n",
       "        vertical-align: top;\n",
       "    }\n",
       "\n",
       "    .dataframe thead th {\n",
       "        text-align: right;\n",
       "    }\n",
       "</style>\n",
       "<table border=\"1\" class=\"dataframe\">\n",
       "  <thead>\n",
       "    <tr style=\"text-align: right;\">\n",
       "      <th></th>\n",
       "      <th>accuracy_score</th>\n",
       "      <th>precision_score</th>\n",
       "      <th>recall_score</th>\n",
       "      <th>f1_score</th>\n",
       "    </tr>\n",
       "  </thead>\n",
       "  <tbody>\n",
       "    <tr>\n",
       "      <th>Validation Score</th>\n",
       "      <td>63.23</td>\n",
       "      <td>68.09</td>\n",
       "      <td>62.43</td>\n",
       "      <td>65.13</td>\n",
       "    </tr>\n",
       "  </tbody>\n",
       "</table>\n",
       "</div>"
      ],
      "text/plain": [
       "                  accuracy_score  precision_score  recall_score  f1_score\n",
       "Validation Score           63.23            68.09         62.43     65.13"
      ]
     },
     "execution_count": 16,
     "metadata": {},
     "output_type": "execute_result"
    }
   ],
   "source": [
    "# Evaluate on validation set\n",
    "validation_scores = {score.__name__: calculate_quality(Y_test, lg_predictions_test, score) \n",
    "                     for score in [accuracy_score, precision_score, recall_score, f1_score]}\n",
    "\n",
    "# Create a DataFrame from the dictionary\n",
    "test_scores_df = pd.DataFrame.from_dict(validation_scores, orient='index', columns=['Validation Score']).T\n",
    "print('The confusion matrix is:\\n ',confusion_matrix(Y_test, lg_predictions_test))\n",
    "# Display the DataFrame\n",
    "test_scores_df"
   ]
  },
  {
   "cell_type": "code",
   "execution_count": 17,
   "id": "70d69c2d-6c7f-4631-9b9f-2d7aa8ae4e47",
   "metadata": {
    "execution": {
     "iopub.execute_input": "2023-09-05T09:00:36.048189Z",
     "iopub.status.busy": "2023-09-05T09:00:36.047201Z",
     "iopub.status.idle": "2023-09-05T09:00:36.065565Z",
     "shell.execute_reply": "2023-09-05T09:00:36.063683Z",
     "shell.execute_reply.started": "2023-09-05T09:00:36.048143Z"
    }
   },
   "outputs": [
    {
     "data": {
      "text/plain": [
       "accuracy_score     63.23\n",
       "precision_score    68.09\n",
       "recall_score       62.43\n",
       "f1_score           65.13\n",
       "dtype: float64"
      ]
     },
     "execution_count": 17,
     "metadata": {},
     "output_type": "execute_result"
    }
   ],
   "source": [
    "mean_test_scores = test_scores_df.mean()\n",
    "mean_test_scores"
   ]
  },
  {
   "cell_type": "markdown",
   "id": "8c7bbcd4-8104-48f5-b6c1-d28633fe6e61",
   "metadata": {
    "tags": []
   },
   "source": [
    "***\n",
    "<h4 id=\"heading\"><span style=\"background-color:#cefffb; color:#1b4946 ; display:fill;border-radius:5px; font-family:cursive\"> 🗃️ Log run </span></h4>"
   ]
  },
  {
   "cell_type": "markdown",
   "id": "ca362fbb-bef8-49bb-9839-59abde377379",
   "metadata": {
    "tags": []
   },
   "source": [
    "<h5 id=\"heading\"><span font-family:Georgia\"><Strong>📑 1. Prepare </Strong></span></h5>\n"
   ]
  },
  {
   "cell_type": "code",
   "execution_count": 18,
   "id": "0b00b23a-cf15-4795-8115-9b06485844b6",
   "metadata": {
    "execution": {
     "iopub.execute_input": "2023-09-05T09:00:36.069391Z",
     "iopub.status.busy": "2023-09-05T09:00:36.067018Z",
     "iopub.status.idle": "2023-09-05T09:00:36.179932Z",
     "shell.execute_reply": "2023-09-05T09:00:36.177625Z",
     "shell.execute_reply.started": "2023-09-05T09:00:36.069337Z"
    },
    "tags": []
   },
   "outputs": [],
   "source": [
    "# Data details\n",
    "data_details = {\"data_train_path\": TRAIN_PATH,\n",
    "                \"data_test_path\": TEST_PATH,\n",
    "                \"training_victorize\": X_train,\n",
    "                \"test_victorize\":     X_test\n",
    "               }\n",
    "\n",
    "with open(os.path.join(LOG_PATH, LOG_DATA_PKL), \"wb\") as output_file:\n",
    "    pickle.dump(data_details, output_file)"
   ]
  },
  {
   "cell_type": "code",
   "execution_count": 19,
   "id": "4004af42-9691-47c3-b3be-45d10cfbdeb2",
   "metadata": {
    "execution": {
     "iopub.execute_input": "2023-09-05T09:00:36.187563Z",
     "iopub.status.busy": "2023-09-05T09:00:36.183183Z",
     "iopub.status.idle": "2023-09-05T09:00:36.206244Z",
     "shell.execute_reply": "2023-09-05T09:00:36.204970Z",
     "shell.execute_reply.started": "2023-09-05T09:00:36.187509Z"
    }
   },
   "outputs": [],
   "source": [
    "# Model\n",
    "model = {\"model_description\": \"Baseline model: Logistic Regression \",\n",
    "         \"model_details\": str(clf),\n",
    "         \"model_object\": clf} \n",
    "\n",
    "with open(os.path.join(LOG_PATH, LOG_MODEL_PKL), \"wb\") as output_file:\n",
    "    pickle.dump(model, output_file)"
   ]
  },
  {
   "cell_type": "code",
   "execution_count": 20,
   "id": "c03d8e07-2f14-4c66-bbba-02cf7c080363",
   "metadata": {
    "execution": {
     "iopub.execute_input": "2023-09-05T09:00:36.209153Z",
     "iopub.status.busy": "2023-09-05T09:00:36.208288Z",
     "iopub.status.idle": "2023-09-05T09:00:36.379760Z",
     "shell.execute_reply": "2023-09-05T09:00:36.378448Z",
     "shell.execute_reply.started": "2023-09-05T09:00:36.209108Z"
    }
   },
   "outputs": [],
   "source": [
    "# Performance details\n",
    "classes_metrics = {\"train_scores\": train_scores_df, \n",
    "                   \"test_scores\":  test_scores_df}\n",
    "\n",
    "with open(os.path.join(LOG_PATH, LOG_METRICS_PKL), \"wb\") as output_file:\n",
    "    pickle.dump(classes_metrics, output_file)"
   ]
  },
  {
   "cell_type": "markdown",
   "id": "9de9bf19-8ade-4688-bdaf-34d79135abe2",
   "metadata": {
    "tags": []
   },
   "source": [
    "<h5 id=\"heading\"><span font-family:Georgia\"><Strong>📑 2. Log </Strong></span></h5>\n"
   ]
  },
  {
   "cell_type": "code",
   "execution_count": 21,
   "id": "9ae5dc72-3145-491c-a8c3-90609af1ef3d",
   "metadata": {
    "execution": {
     "iopub.execute_input": "2023-09-05T09:00:36.383744Z",
     "iopub.status.busy": "2023-09-05T09:00:36.383095Z",
     "iopub.status.idle": "2023-09-05T09:00:36.559419Z",
     "shell.execute_reply": "2023-09-05T09:00:36.558398Z",
     "shell.execute_reply.started": "2023-09-05T09:00:36.383683Z"
    }
   },
   "outputs": [],
   "source": [
    "# Start a new run and track \n",
    "with mlflow.start_run(experiment_id=exp.experiment_id, run_name=model[\"model_description\"]):\n",
    "    # Log pickles \n",
    "    mlflow.log_artifacts(LOG_PATH)\n",
    "    \n",
    "    # Track metrics \n",
    "    for metric, score in mean_test_scores.items():\n",
    "        mlflow.log_metric(metric, score) \n",
    "    "
   ]
  },
  {
   "cell_type": "markdown",
   "id": "2bd1b30e-5f3b-4c69-b7e1-1df8dd8a0984",
   "metadata": {
    "jp-MarkdownHeadingCollapsed": true,
    "tags": []
   },
   "source": [
    "***\n",
    "<h3 id=\"heading\"><span style=\"background-color:#F7CBFF; color:#581845 ; display:fill;border-radius:5px; font-family:Georgia\"><Strong>📦 2. Support Vector Classifier (SVM) </Strong></span></h3>\n"
   ]
  },
  {
   "cell_type": "markdown",
   "id": "2cd732d3-6bda-46e2-ab17-5793bef03457",
   "metadata": {
    "tags": []
   },
   "source": [
    "<h5 id=\"heading\"><span font-family:Georgia\"><Strong>🧑🏻‍⚖️ 1. Evaluate the training set </Strong></span></h5>\n"
   ]
  },
  {
   "cell_type": "code",
   "execution_count": 22,
   "id": "aef42495-88ba-410b-971e-ba23634030e1",
   "metadata": {
    "execution": {
     "iopub.execute_input": "2023-09-05T09:00:36.561223Z",
     "iopub.status.busy": "2023-09-05T09:00:36.560767Z",
     "iopub.status.idle": "2023-09-05T09:16:09.699139Z",
     "shell.execute_reply": "2023-09-05T09:16:09.698078Z",
     "shell.execute_reply.started": "2023-09-05T09:00:36.561179Z"
    }
   },
   "outputs": [],
   "source": [
    "svm_clf =  SVC()\n",
    "svm_clf.fit(X_train, Y_train)\n",
    "svm_predictions_val =  pd.DataFrame(svm_clf.predict(X_val))"
   ]
  },
  {
   "cell_type": "code",
   "execution_count": 23,
   "id": "cd8db5cd-72b9-4a1e-8c38-43f6a4a2d64f",
   "metadata": {
    "execution": {
     "iopub.execute_input": "2023-09-05T09:16:09.700839Z",
     "iopub.status.busy": "2023-09-05T09:16:09.700527Z",
     "iopub.status.idle": "2023-09-05T09:16:09.730549Z",
     "shell.execute_reply": "2023-09-05T09:16:09.729757Z",
     "shell.execute_reply.started": "2023-09-05T09:16:09.700811Z"
    }
   },
   "outputs": [
    {
     "name": "stdout",
     "output_type": "stream",
     "text": [
      "The confusion matrix is:\n",
      "  [[1959   87]\n",
      " [  61 2053]]\n"
     ]
    },
    {
     "data": {
      "text/html": [
       "<div>\n",
       "<style scoped>\n",
       "    .dataframe tbody tr th:only-of-type {\n",
       "        vertical-align: middle;\n",
       "    }\n",
       "\n",
       "    .dataframe tbody tr th {\n",
       "        vertical-align: top;\n",
       "    }\n",
       "\n",
       "    .dataframe thead th {\n",
       "        text-align: right;\n",
       "    }\n",
       "</style>\n",
       "<table border=\"1\" class=\"dataframe\">\n",
       "  <thead>\n",
       "    <tr style=\"text-align: right;\">\n",
       "      <th></th>\n",
       "      <th>accuracy_score</th>\n",
       "      <th>precision_score</th>\n",
       "      <th>recall_score</th>\n",
       "      <th>f1_score</th>\n",
       "    </tr>\n",
       "  </thead>\n",
       "  <tbody>\n",
       "    <tr>\n",
       "      <th>Validation Score</th>\n",
       "      <td>96.44</td>\n",
       "      <td>95.93</td>\n",
       "      <td>97.11</td>\n",
       "      <td>96.52</td>\n",
       "    </tr>\n",
       "  </tbody>\n",
       "</table>\n",
       "</div>"
      ],
      "text/plain": [
       "                  accuracy_score  precision_score  recall_score  f1_score\n",
       "Validation Score           96.44            95.93         97.11     96.52"
      ]
     },
     "execution_count": 23,
     "metadata": {},
     "output_type": "execute_result"
    }
   ],
   "source": [
    "# Evaluate on validation set\n",
    "validation_scores = {score.__name__: calculate_quality(Y_val, svm_predictions_val[0], score) \n",
    "                     for score in [accuracy_score, precision_score, recall_score, f1_score]}\n",
    "\n",
    "# Create a DataFrame from the dictionary\n",
    "train_scores_df = pd.DataFrame.from_dict(validation_scores, orient='index', columns=['Validation Score']).T\n",
    "print('The confusion matrix is:\\n ',confusion_matrix(Y_val, svm_predictions_val))\n",
    "# Display the DataFrame\n",
    "train_scores_df"
   ]
  },
  {
   "cell_type": "markdown",
   "id": "77cc43c7-b91b-4b4e-abc7-912bc3dce036",
   "metadata": {
    "tags": []
   },
   "source": [
    "<h5 id=\"heading\"><span font-family:Georgia\"><Strong>🧑🏻‍⚖️ 2. Evaluate the test set </Strong></span></h5>\n"
   ]
  },
  {
   "cell_type": "code",
   "execution_count": 24,
   "id": "b851dbdb-bd15-46b6-b5c2-8f30a180a5ce",
   "metadata": {
    "execution": {
     "iopub.execute_input": "2023-09-05T09:16:09.732540Z",
     "iopub.status.busy": "2023-09-05T09:16:09.731762Z",
     "iopub.status.idle": "2023-09-05T09:17:37.382348Z",
     "shell.execute_reply": "2023-09-05T09:17:37.381195Z",
     "shell.execute_reply.started": "2023-09-05T09:16:09.732504Z"
    }
   },
   "outputs": [],
   "source": [
    "svm_predictions_test = svm_clf.predict(X_test)"
   ]
  },
  {
   "cell_type": "code",
   "execution_count": 25,
   "id": "f16a7a74-dbbc-4eef-a28a-224eaa71e70b",
   "metadata": {
    "execution": {
     "iopub.execute_input": "2023-09-05T09:17:37.383918Z",
     "iopub.status.busy": "2023-09-05T09:17:37.383607Z",
     "iopub.status.idle": "2023-09-05T09:17:37.409901Z",
     "shell.execute_reply": "2023-09-05T09:17:37.409156Z",
     "shell.execute_reply.started": "2023-09-05T09:17:37.383890Z"
    }
   },
   "outputs": [
    {
     "name": "stdout",
     "output_type": "stream",
     "text": [
      "The confusion matrix is:\n",
      "  [[1516  823]\n",
      " [1075 1786]]\n"
     ]
    },
    {
     "data": {
      "text/html": [
       "<div>\n",
       "<style scoped>\n",
       "    .dataframe tbody tr th:only-of-type {\n",
       "        vertical-align: middle;\n",
       "    }\n",
       "\n",
       "    .dataframe tbody tr th {\n",
       "        vertical-align: top;\n",
       "    }\n",
       "\n",
       "    .dataframe thead th {\n",
       "        text-align: right;\n",
       "    }\n",
       "</style>\n",
       "<table border=\"1\" class=\"dataframe\">\n",
       "  <thead>\n",
       "    <tr style=\"text-align: right;\">\n",
       "      <th></th>\n",
       "      <th>accuracy_score</th>\n",
       "      <th>precision_score</th>\n",
       "      <th>recall_score</th>\n",
       "      <th>f1_score</th>\n",
       "    </tr>\n",
       "  </thead>\n",
       "  <tbody>\n",
       "    <tr>\n",
       "      <th>Validation Score</th>\n",
       "      <td>63.5</td>\n",
       "      <td>68.46</td>\n",
       "      <td>62.43</td>\n",
       "      <td>65.3</td>\n",
       "    </tr>\n",
       "  </tbody>\n",
       "</table>\n",
       "</div>"
      ],
      "text/plain": [
       "                  accuracy_score  precision_score  recall_score  f1_score\n",
       "Validation Score            63.5            68.46         62.43      65.3"
      ]
     },
     "execution_count": 25,
     "metadata": {},
     "output_type": "execute_result"
    }
   ],
   "source": [
    "# Evaluate on validation set\n",
    "validation_scores = {score.__name__: calculate_quality(Y_test, svm_predictions_test, score) \n",
    "                     for score in [accuracy_score, precision_score, recall_score, f1_score]}\n",
    "\n",
    "# Create a DataFrame from the dictionary\n",
    "test_scores_df = pd.DataFrame.from_dict(validation_scores, orient='index', columns=['Validation Score']).T\n",
    "print('The confusion matrix is:\\n ',confusion_matrix(Y_test, svm_predictions_test))\n",
    "# Display the DataFrame\n",
    "test_scores_df"
   ]
  },
  {
   "cell_type": "code",
   "execution_count": 26,
   "id": "750abb49-c4fc-4d40-8132-28eeb29df8dd",
   "metadata": {
    "execution": {
     "iopub.execute_input": "2023-09-05T09:17:37.420543Z",
     "iopub.status.busy": "2023-09-05T09:17:37.420211Z",
     "iopub.status.idle": "2023-09-05T09:17:37.427566Z",
     "shell.execute_reply": "2023-09-05T09:17:37.426738Z",
     "shell.execute_reply.started": "2023-09-05T09:17:37.420522Z"
    }
   },
   "outputs": [
    {
     "data": {
      "text/plain": [
       "accuracy_score     63.50\n",
       "precision_score    68.46\n",
       "recall_score       62.43\n",
       "f1_score           65.30\n",
       "dtype: float64"
      ]
     },
     "execution_count": 26,
     "metadata": {},
     "output_type": "execute_result"
    }
   ],
   "source": [
    "mean_test_scores = test_scores_df.mean()\n",
    "mean_test_scores"
   ]
  },
  {
   "cell_type": "markdown",
   "id": "4461b8ec-45c0-45e7-b074-875478dea735",
   "metadata": {
    "tags": []
   },
   "source": [
    "***\n",
    "<h4 id=\"heading\"><span style=\"background-color:#cefffb; color:#1b4946 ; display:fill;border-radius:5px; font-family:cursive\"> 🗃️ Log run </span></h4>"
   ]
  },
  {
   "cell_type": "markdown",
   "id": "9b955fd9-6f86-41d1-b2dd-64287bd5b855",
   "metadata": {
    "tags": []
   },
   "source": [
    "<h5 id=\"heading\"><span font-family:Georgia\"><Strong>📑 1. Prepare </Strong></span></h5>\n"
   ]
  },
  {
   "cell_type": "code",
   "execution_count": 27,
   "id": "71b7a428-55ad-4d6f-9956-4e75de38235a",
   "metadata": {
    "execution": {
     "iopub.execute_input": "2023-09-05T09:17:37.428853Z",
     "iopub.status.busy": "2023-09-05T09:17:37.428465Z",
     "iopub.status.idle": "2023-09-05T09:17:37.545401Z",
     "shell.execute_reply": "2023-09-05T09:17:37.544070Z",
     "shell.execute_reply.started": "2023-09-05T09:17:37.428815Z"
    },
    "tags": []
   },
   "outputs": [],
   "source": [
    "# Data details\n",
    "data_details = {\"data_train_path\": TRAIN_PATH,\n",
    "                \"data_test_path\": TEST_PATH,\n",
    "                \"training_victorize\": X_train,\n",
    "                \"test_victorize\":     X_test\n",
    "               }\n",
    "\n",
    "with open(os.path.join(LOG_PATH, LOG_DATA_PKL), \"wb\") as output_file:\n",
    "    pickle.dump(data_details, output_file)"
   ]
  },
  {
   "cell_type": "code",
   "execution_count": 28,
   "id": "6e15cc69-be0c-4410-9966-1fe53331549c",
   "metadata": {
    "execution": {
     "iopub.execute_input": "2023-09-05T09:17:37.550690Z",
     "iopub.status.busy": "2023-09-05T09:17:37.549661Z",
     "iopub.status.idle": "2023-09-05T09:17:37.591193Z",
     "shell.execute_reply": "2023-09-05T09:17:37.582037Z",
     "shell.execute_reply.started": "2023-09-05T09:17:37.550640Z"
    }
   },
   "outputs": [],
   "source": [
    "# Model\n",
    "model = {\"model_description\": \" Support Vector Classifier (SVM) \",\n",
    "         \"model_details\": str(svm_clf),\n",
    "         \"model_object\": svm_clf} \n",
    "\n",
    "with open(os.path.join(LOG_PATH, LOG_MODEL_PKL), \"wb\") as output_file:\n",
    "    pickle.dump(model, output_file)"
   ]
  },
  {
   "cell_type": "code",
   "execution_count": 29,
   "id": "c7065e35-f6c9-467e-bd95-e0a0d49cc0a7",
   "metadata": {
    "execution": {
     "iopub.execute_input": "2023-09-05T09:17:37.594131Z",
     "iopub.status.busy": "2023-09-05T09:17:37.593245Z",
     "iopub.status.idle": "2023-09-05T09:17:37.938849Z",
     "shell.execute_reply": "2023-09-05T09:17:37.937940Z",
     "shell.execute_reply.started": "2023-09-05T09:17:37.594084Z"
    }
   },
   "outputs": [],
   "source": [
    "# Performance details\n",
    "classes_metrics = {\"train_scores\": train_scores_df, \n",
    "                   \"test_scores\":  test_scores_df}\n",
    "\n",
    "with open(os.path.join(LOG_PATH, LOG_METRICS_PKL), \"wb\") as output_file:\n",
    "    pickle.dump(classes_metrics, output_file)"
   ]
  },
  {
   "cell_type": "markdown",
   "id": "82dd185f-459f-4de3-8fd6-7d7caaaf1ec1",
   "metadata": {
    "tags": []
   },
   "source": [
    "<h5 id=\"heading\"><span font-family:Georgia\"><Strong>📑 2. Log </Strong></span></h5>\n"
   ]
  },
  {
   "cell_type": "code",
   "execution_count": 30,
   "id": "86d123d8-15c3-4a17-b73f-1f19daca2774",
   "metadata": {
    "execution": {
     "iopub.execute_input": "2023-09-05T09:17:37.940537Z",
     "iopub.status.busy": "2023-09-05T09:17:37.940121Z",
     "iopub.status.idle": "2023-09-05T09:17:38.114995Z",
     "shell.execute_reply": "2023-09-05T09:17:38.114172Z",
     "shell.execute_reply.started": "2023-09-05T09:17:37.940504Z"
    }
   },
   "outputs": [],
   "source": [
    "# Start a new run and track \n",
    "with mlflow.start_run(experiment_id=exp.experiment_id, run_name=model[\"model_description\"]):\n",
    "    # Log pickles \n",
    "    mlflow.log_artifacts(LOG_PATH)\n",
    "    \n",
    "    # Track metrics \n",
    "    for metric, score in mean_test_scores.items():\n",
    "        mlflow.log_metric(metric, score) \n",
    "    "
   ]
  },
  {
   "cell_type": "markdown",
   "id": "ccd3d8aa-b679-429f-9474-f2f74f4ee9d2",
   "metadata": {
    "tags": []
   },
   "source": [
    "***\n",
    "<h3 id=\"heading\"><span style=\"background-color:#F7CBFF; color:#581845 ; display:fill;border-radius:5px; font-family:Georgia\"><Strong>📦 3. Random Forest Classifier </Strong></span></h3>\n"
   ]
  },
  {
   "cell_type": "markdown",
   "id": "599fb06e-f8ba-4ef4-a09b-4c146fdd6c7b",
   "metadata": {
    "jp-MarkdownHeadingCollapsed": true,
    "tags": []
   },
   "source": [
    "<h5 id=\"heading\"><span font-family:Georgia\"><Strong>🧑🏻‍⚖️ 1. Evaluate the training set </Strong></span></h5>\n"
   ]
  },
  {
   "cell_type": "code",
   "execution_count": 17,
   "id": "620f7528-0d05-4b4b-9261-585e405796a6",
   "metadata": {
    "execution": {
     "iopub.execute_input": "2023-09-06T16:28:30.849912Z",
     "iopub.status.busy": "2023-09-06T16:28:30.849184Z",
     "iopub.status.idle": "2023-09-06T16:29:44.359049Z",
     "shell.execute_reply": "2023-09-06T16:29:44.358109Z",
     "shell.execute_reply.started": "2023-09-06T16:28:30.849876Z"
    }
   },
   "outputs": [],
   "source": [
    "rf_clf = make_pipeline(RandomForestClassifier())\n",
    "\n",
    "rf_clf.fit(X_train, Y_train)\n",
    "rf_predictions_val =  pd.DataFrame(rf_clf.predict(X_val))"
   ]
  },
  {
   "cell_type": "code",
   "execution_count": 18,
   "id": "8346b540-cce8-4a23-961f-e416130318d0",
   "metadata": {
    "execution": {
     "iopub.execute_input": "2023-09-06T16:29:44.718857Z",
     "iopub.status.busy": "2023-09-06T16:29:44.718534Z",
     "iopub.status.idle": "2023-09-06T16:29:44.807401Z",
     "shell.execute_reply": "2023-09-06T16:29:44.804186Z",
     "shell.execute_reply.started": "2023-09-06T16:29:44.718830Z"
    }
   },
   "outputs": [
    {
     "name": "stdout",
     "output_type": "stream",
     "text": [
      "The confusion matrix is:\n",
      "  [[1937  109]\n",
      " [ 224 1890]]\n"
     ]
    },
    {
     "data": {
      "text/html": [
       "<div>\n",
       "<style scoped>\n",
       "    .dataframe tbody tr th:only-of-type {\n",
       "        vertical-align: middle;\n",
       "    }\n",
       "\n",
       "    .dataframe tbody tr th {\n",
       "        vertical-align: top;\n",
       "    }\n",
       "\n",
       "    .dataframe thead th {\n",
       "        text-align: right;\n",
       "    }\n",
       "</style>\n",
       "<table border=\"1\" class=\"dataframe\">\n",
       "  <thead>\n",
       "    <tr style=\"text-align: right;\">\n",
       "      <th></th>\n",
       "      <th>accuracy_score</th>\n",
       "      <th>precision_score</th>\n",
       "      <th>recall_score</th>\n",
       "      <th>f1_score</th>\n",
       "    </tr>\n",
       "  </thead>\n",
       "  <tbody>\n",
       "    <tr>\n",
       "      <th>Validation Score</th>\n",
       "      <td>92.0</td>\n",
       "      <td>94.55</td>\n",
       "      <td>89.4</td>\n",
       "      <td>91.9</td>\n",
       "    </tr>\n",
       "  </tbody>\n",
       "</table>\n",
       "</div>"
      ],
      "text/plain": [
       "                  accuracy_score  precision_score  recall_score  f1_score\n",
       "Validation Score            92.0            94.55          89.4      91.9"
      ]
     },
     "execution_count": 18,
     "metadata": {},
     "output_type": "execute_result"
    }
   ],
   "source": [
    "# Evaluate on validation set\n",
    "validation_scores = {score.__name__: calculate_quality(Y_val, rf_predictions_val[0], score) \n",
    "                     for score in [accuracy_score, precision_score, recall_score, f1_score]}\n",
    "\n",
    "# Create a DataFrame from the dictionary\n",
    "train_scores_df = pd.DataFrame.from_dict(validation_scores, orient='index', columns=['Validation Score']).T\n",
    "print('The confusion matrix is:\\n ',confusion_matrix(Y_val, rf_predictions_val))\n",
    "# Display the DataFrame\n",
    "train_scores_df"
   ]
  },
  {
   "cell_type": "markdown",
   "id": "55e25b13-2f79-4db6-8b6a-de42c4b77fe0",
   "metadata": {
    "tags": []
   },
   "source": [
    "<h5 id=\"heading\"><span font-family:Georgia\"><Strong>🧑🏻‍⚖️ 2. Evaluate the test set </Strong></span></h5>\n"
   ]
  },
  {
   "cell_type": "code",
   "execution_count": 19,
   "id": "724c9da8-b427-4084-9245-bdf5243f568c",
   "metadata": {
    "execution": {
     "iopub.execute_input": "2023-09-06T16:29:44.813874Z",
     "iopub.status.busy": "2023-09-06T16:29:44.813075Z",
     "iopub.status.idle": "2023-09-06T16:29:46.241129Z",
     "shell.execute_reply": "2023-09-06T16:29:46.240066Z",
     "shell.execute_reply.started": "2023-09-06T16:29:44.813815Z"
    }
   },
   "outputs": [],
   "source": [
    "rf_predictions_test = rf_clf.predict(X_test)"
   ]
  },
  {
   "cell_type": "code",
   "execution_count": 24,
   "id": "e0dcdc81-c5eb-43de-9b59-1ca9b8f0a40f",
   "metadata": {
    "execution": {
     "iopub.execute_input": "2023-09-06T16:34:34.314681Z",
     "iopub.status.busy": "2023-09-06T16:34:34.313770Z",
     "iopub.status.idle": "2023-09-06T16:34:34.320489Z",
     "shell.execute_reply": "2023-09-06T16:34:34.319267Z",
     "shell.execute_reply.started": "2023-09-06T16:34:34.314650Z"
    }
   },
   "outputs": [
    {
     "name": "stdout",
     "output_type": "stream",
     "text": [
      "0\n"
     ]
    }
   ],
   "source": [
    "print(rf_predictions_test[0])"
   ]
  },
  {
   "cell_type": "code",
   "execution_count": 20,
   "id": "b51b4fae-b16c-463f-9749-c4d92552b29e",
   "metadata": {
    "execution": {
     "iopub.execute_input": "2023-09-06T16:29:46.242657Z",
     "iopub.status.busy": "2023-09-06T16:29:46.242287Z",
     "iopub.status.idle": "2023-09-06T16:29:46.304227Z",
     "shell.execute_reply": "2023-09-06T16:29:46.301079Z",
     "shell.execute_reply.started": "2023-09-06T16:29:46.242625Z"
    }
   },
   "outputs": [
    {
     "name": "stdout",
     "output_type": "stream",
     "text": [
      "The confusion matrix is:\n",
      "  [[1697  642]\n",
      " [1071 1790]]\n"
     ]
    },
    {
     "data": {
      "text/html": [
       "<div>\n",
       "<style scoped>\n",
       "    .dataframe tbody tr th:only-of-type {\n",
       "        vertical-align: middle;\n",
       "    }\n",
       "\n",
       "    .dataframe tbody tr th {\n",
       "        vertical-align: top;\n",
       "    }\n",
       "\n",
       "    .dataframe thead th {\n",
       "        text-align: right;\n",
       "    }\n",
       "</style>\n",
       "<table border=\"1\" class=\"dataframe\">\n",
       "  <thead>\n",
       "    <tr style=\"text-align: right;\">\n",
       "      <th></th>\n",
       "      <th>accuracy_score</th>\n",
       "      <th>precision_score</th>\n",
       "      <th>recall_score</th>\n",
       "      <th>f1_score</th>\n",
       "    </tr>\n",
       "  </thead>\n",
       "  <tbody>\n",
       "    <tr>\n",
       "      <th>Validation Score</th>\n",
       "      <td>67.06</td>\n",
       "      <td>73.6</td>\n",
       "      <td>62.57</td>\n",
       "      <td>67.64</td>\n",
       "    </tr>\n",
       "  </tbody>\n",
       "</table>\n",
       "</div>"
      ],
      "text/plain": [
       "                  accuracy_score  precision_score  recall_score  f1_score\n",
       "Validation Score           67.06             73.6         62.57     67.64"
      ]
     },
     "execution_count": 20,
     "metadata": {},
     "output_type": "execute_result"
    }
   ],
   "source": [
    "# Evaluate on validation set\n",
    "validation_scores = {score.__name__: calculate_quality(Y_test, rf_predictions_test, score) \n",
    "                     for score in [accuracy_score, precision_score, recall_score, f1_score]}\n",
    "\n",
    "# Create a DataFrame from the dictionary\n",
    "test_scores_df = pd.DataFrame.from_dict(validation_scores, orient='index', columns=['Validation Score']).T\n",
    "print('The confusion matrix is:\\n ',confusion_matrix(Y_test, rf_predictions_test))\n",
    "# Display the DataFrame\n",
    "test_scores_df"
   ]
  },
  {
   "cell_type": "code",
   "execution_count": 21,
   "id": "6ede592e-5444-4020-9b81-e06179384a72",
   "metadata": {
    "execution": {
     "iopub.execute_input": "2023-09-06T16:29:46.307712Z",
     "iopub.status.busy": "2023-09-06T16:29:46.306638Z",
     "iopub.status.idle": "2023-09-06T16:29:46.324725Z",
     "shell.execute_reply": "2023-09-06T16:29:46.323153Z",
     "shell.execute_reply.started": "2023-09-06T16:29:46.307662Z"
    }
   },
   "outputs": [
    {
     "data": {
      "text/plain": [
       "accuracy_score     67.06\n",
       "precision_score    73.60\n",
       "recall_score       62.57\n",
       "f1_score           67.64\n",
       "dtype: float64"
      ]
     },
     "execution_count": 21,
     "metadata": {},
     "output_type": "execute_result"
    }
   ],
   "source": [
    "mean_test_scores = test_scores_df.mean()\n",
    "mean_test_scores"
   ]
  },
  {
   "cell_type": "markdown",
   "id": "e2e28481-2026-4ed3-88bc-07a31be5118d",
   "metadata": {
    "tags": []
   },
   "source": [
    "<h4 id=\"heading\"><span style=\"background-color:#cefffb; color:#1b4946 ; display:fill;border-radius:5px; font-family:cursive\"> 🗃️ Log run </span></h4>"
   ]
  },
  {
   "cell_type": "markdown",
   "id": "ffc57a8d-ce81-4b5a-b7d8-1d64678c668d",
   "metadata": {
    "tags": []
   },
   "source": [
    "<h5 id=\"heading\"><span font-family:Georgia\"><Strong>📑 1. Prepare </Strong></span></h5>\n"
   ]
  },
  {
   "cell_type": "code",
   "execution_count": 36,
   "id": "0c176367-87dc-4c53-90bc-5df85b8c57eb",
   "metadata": {
    "execution": {
     "iopub.execute_input": "2023-09-05T09:18:47.065338Z",
     "iopub.status.busy": "2023-09-05T09:18:47.064892Z",
     "iopub.status.idle": "2023-09-05T09:18:47.151976Z",
     "shell.execute_reply": "2023-09-05T09:18:47.151102Z",
     "shell.execute_reply.started": "2023-09-05T09:18:47.065311Z"
    },
    "tags": []
   },
   "outputs": [],
   "source": [
    "# Data details\n",
    "data_details = {\"data_train_path\": TRAIN_PATH,\n",
    "                \"data_test_path\": TEST_PATH,\n",
    "                \"training_victorize\": X_train,\n",
    "                \"test_victorize\":     X_test\n",
    "               }\n",
    "\n",
    "with open(os.path.join(LOG_PATH, LOG_DATA_PKL), \"wb\") as output_file:\n",
    "    pickle.dump(data_details, output_file)"
   ]
  },
  {
   "cell_type": "code",
   "execution_count": 22,
   "id": "77cf94e9-b23e-44d1-a72e-01817216f392",
   "metadata": {
    "execution": {
     "iopub.execute_input": "2023-09-06T16:32:36.333884Z",
     "iopub.status.busy": "2023-09-06T16:32:36.332463Z",
     "iopub.status.idle": "2023-09-06T16:32:36.482559Z",
     "shell.execute_reply": "2023-09-06T16:32:36.480516Z",
     "shell.execute_reply.started": "2023-09-06T16:32:36.333830Z"
    }
   },
   "outputs": [],
   "source": [
    "# Model\n",
    "model = {\"model_description\": \"random Forest Classifier \",\n",
    "         \"model_details\": str(rf_clf),\n",
    "         \"model_object\": rf_clf} \n",
    "\n",
    "with open(os.path.join(LOG_PATH, LOG_MODEL_PKL), \"wb\") as output_file:\n",
    "    pickle.dump(model, output_file)"
   ]
  },
  {
   "cell_type": "code",
   "execution_count": 38,
   "id": "bad4a194-c49c-4682-8164-cb153fe0121f",
   "metadata": {
    "execution": {
     "iopub.execute_input": "2023-09-05T09:18:47.278507Z",
     "iopub.status.busy": "2023-09-05T09:18:47.272313Z",
     "iopub.status.idle": "2023-09-05T09:18:47.715256Z",
     "shell.execute_reply": "2023-09-05T09:18:47.714190Z",
     "shell.execute_reply.started": "2023-09-05T09:18:47.278452Z"
    }
   },
   "outputs": [],
   "source": [
    "# Performance details\n",
    "classes_metrics = {\"train_scores\": train_scores_df, \n",
    "                   \"test_scores\":  test_scores_df}\n",
    "\n",
    "with open(os.path.join(LOG_PATH, LOG_METRICS_PKL), \"wb\") as output_file:\n",
    "    pickle.dump(classes_metrics, output_file)"
   ]
  },
  {
   "cell_type": "markdown",
   "id": "471225a4-2fc8-49c7-97c8-056bcebd55fb",
   "metadata": {
    "tags": []
   },
   "source": [
    "<h5 id=\"heading\"><span font-family:Georgia\"><Strong>📑 2. Log </Strong></span></h5>\n"
   ]
  },
  {
   "cell_type": "code",
   "execution_count": 39,
   "id": "c5194f8f-1894-4bcd-9fa6-15617c78c454",
   "metadata": {
    "execution": {
     "iopub.execute_input": "2023-09-05T09:18:47.717276Z",
     "iopub.status.busy": "2023-09-05T09:18:47.716943Z",
     "iopub.status.idle": "2023-09-05T09:18:47.841628Z",
     "shell.execute_reply": "2023-09-05T09:18:47.840626Z",
     "shell.execute_reply.started": "2023-09-05T09:18:47.717246Z"
    }
   },
   "outputs": [],
   "source": [
    "# Start a new run and track \n",
    "with mlflow.start_run(experiment_id=exp.experiment_id, run_name=model[\"model_description\"]):\n",
    "    # Log pickles \n",
    "    mlflow.log_artifacts(LOG_PATH)\n",
    "    \n",
    "    # Track metrics \n",
    "    for metric, score in mean_test_scores.items():\n",
    "        mlflow.log_metric(metric, score) \n",
    "    "
   ]
  },
  {
   "cell_type": "markdown",
   "id": "3804fb65-8adc-4d37-b502-cb7f4b746675",
   "metadata": {
    "jp-MarkdownHeadingCollapsed": true,
    "tags": []
   },
   "source": [
    "***\n",
    "<h3 id=\"heading\"><span style=\"background-color:#F7CBFF; color:#581845 ; display:fill;border-radius:5px; font-family:Georgia\"><Strong>📦 4. DecisionTreeClassifier </Strong></span></h3>\n"
   ]
  },
  {
   "cell_type": "markdown",
   "id": "015ec758-4e90-44f7-808f-8712f8a36982",
   "metadata": {
    "tags": []
   },
   "source": [
    "<h5 id=\"heading\"><span font-family:Georgia\"><Strong>🧑🏻‍⚖️ 1. Evaluate the training set </Strong></span></h5>\n"
   ]
  },
  {
   "cell_type": "code",
   "execution_count": 40,
   "id": "48cd77f7-cb8d-4cca-9991-f80ad78167bd",
   "metadata": {
    "execution": {
     "iopub.execute_input": "2023-09-05T09:18:47.842913Z",
     "iopub.status.busy": "2023-09-05T09:18:47.842621Z",
     "iopub.status.idle": "2023-09-05T09:19:25.654927Z",
     "shell.execute_reply": "2023-09-05T09:19:25.653949Z",
     "shell.execute_reply.started": "2023-09-05T09:18:47.842890Z"
    }
   },
   "outputs": [],
   "source": [
    "dt_clf = make_pipeline(DecisionTreeClassifier())\n",
    "\n",
    "dt_clf.fit(X_train, Y_train)\n",
    "dt_predictions_val =  pd.DataFrame(dt_clf.predict(X_val))"
   ]
  },
  {
   "cell_type": "code",
   "execution_count": 41,
   "id": "12fd6a1b-abaa-4509-9162-3304aed7b7e3",
   "metadata": {
    "execution": {
     "iopub.execute_input": "2023-09-05T09:19:25.656662Z",
     "iopub.status.busy": "2023-09-05T09:19:25.656378Z",
     "iopub.status.idle": "2023-09-05T09:19:25.686047Z",
     "shell.execute_reply": "2023-09-05T09:19:25.685300Z",
     "shell.execute_reply.started": "2023-09-05T09:19:25.656638Z"
    }
   },
   "outputs": [
    {
     "name": "stdout",
     "output_type": "stream",
     "text": [
      "The confusion matrix is:\n",
      "  [[1908  138]\n",
      " [ 115 1999]]\n"
     ]
    },
    {
     "data": {
      "text/html": [
       "<div>\n",
       "<style scoped>\n",
       "    .dataframe tbody tr th:only-of-type {\n",
       "        vertical-align: middle;\n",
       "    }\n",
       "\n",
       "    .dataframe tbody tr th {\n",
       "        vertical-align: top;\n",
       "    }\n",
       "\n",
       "    .dataframe thead th {\n",
       "        text-align: right;\n",
       "    }\n",
       "</style>\n",
       "<table border=\"1\" class=\"dataframe\">\n",
       "  <thead>\n",
       "    <tr style=\"text-align: right;\">\n",
       "      <th></th>\n",
       "      <th>accuracy_score</th>\n",
       "      <th>precision_score</th>\n",
       "      <th>recall_score</th>\n",
       "      <th>f1_score</th>\n",
       "    </tr>\n",
       "  </thead>\n",
       "  <tbody>\n",
       "    <tr>\n",
       "      <th>Validation Score</th>\n",
       "      <td>93.92</td>\n",
       "      <td>93.54</td>\n",
       "      <td>94.56</td>\n",
       "      <td>94.05</td>\n",
       "    </tr>\n",
       "  </tbody>\n",
       "</table>\n",
       "</div>"
      ],
      "text/plain": [
       "                  accuracy_score  precision_score  recall_score  f1_score\n",
       "Validation Score           93.92            93.54         94.56     94.05"
      ]
     },
     "execution_count": 41,
     "metadata": {},
     "output_type": "execute_result"
    }
   ],
   "source": [
    "# Evaluate on validation set\n",
    "validation_scores = {score.__name__: calculate_quality(Y_val, dt_predictions_val[0], score) \n",
    "                     for score in [accuracy_score, precision_score, recall_score, f1_score]}\n",
    "\n",
    "# Create a DataFrame from the dictionary\n",
    "train_scores_df = pd.DataFrame.from_dict(validation_scores, orient='index', columns=['Validation Score']).T\n",
    "print('The confusion matrix is:\\n ',confusion_matrix(Y_val, dt_predictions_val))\n",
    "# Display the DataFrame\n",
    "train_scores_df"
   ]
  },
  {
   "cell_type": "markdown",
   "id": "b4264aa9-70b8-4a8e-b9e5-daedb3e89f5b",
   "metadata": {
    "tags": []
   },
   "source": [
    "<h5 id=\"heading\"><span font-family:Georgia\"><Strong>🧑🏻‍⚖️ 2. Evaluate the test set </Strong></span></h5>\n"
   ]
  },
  {
   "cell_type": "code",
   "execution_count": 42,
   "id": "3830f2d4-17a3-4c0a-b7a1-b97eaf03e981",
   "metadata": {
    "execution": {
     "iopub.execute_input": "2023-09-05T09:19:25.687466Z",
     "iopub.status.busy": "2023-09-05T09:19:25.687146Z",
     "iopub.status.idle": "2023-09-05T09:19:25.721520Z",
     "shell.execute_reply": "2023-09-05T09:19:25.720187Z",
     "shell.execute_reply.started": "2023-09-05T09:19:25.687442Z"
    }
   },
   "outputs": [],
   "source": [
    "dt_predictions_test = dt_clf.predict(X_test)"
   ]
  },
  {
   "cell_type": "code",
   "execution_count": 43,
   "id": "2a26821a-3487-4dff-95a8-6dd83a0d7bc3",
   "metadata": {
    "execution": {
     "iopub.execute_input": "2023-09-05T09:19:25.723854Z",
     "iopub.status.busy": "2023-09-05T09:19:25.722965Z",
     "iopub.status.idle": "2023-09-05T09:19:25.775646Z",
     "shell.execute_reply": "2023-09-05T09:19:25.774663Z",
     "shell.execute_reply.started": "2023-09-05T09:19:25.723811Z"
    }
   },
   "outputs": [
    {
     "name": "stdout",
     "output_type": "stream",
     "text": [
      "The confusion matrix is:\n",
      "  [[1531  808]\n",
      " [1070 1791]]\n"
     ]
    },
    {
     "data": {
      "text/html": [
       "<div>\n",
       "<style scoped>\n",
       "    .dataframe tbody tr th:only-of-type {\n",
       "        vertical-align: middle;\n",
       "    }\n",
       "\n",
       "    .dataframe tbody tr th {\n",
       "        vertical-align: top;\n",
       "    }\n",
       "\n",
       "    .dataframe thead th {\n",
       "        text-align: right;\n",
       "    }\n",
       "</style>\n",
       "<table border=\"1\" class=\"dataframe\">\n",
       "  <thead>\n",
       "    <tr style=\"text-align: right;\">\n",
       "      <th></th>\n",
       "      <th>accuracy_score</th>\n",
       "      <th>precision_score</th>\n",
       "      <th>recall_score</th>\n",
       "      <th>f1_score</th>\n",
       "    </tr>\n",
       "  </thead>\n",
       "  <tbody>\n",
       "    <tr>\n",
       "      <th>Validation Score</th>\n",
       "      <td>63.88</td>\n",
       "      <td>68.91</td>\n",
       "      <td>62.6</td>\n",
       "      <td>65.6</td>\n",
       "    </tr>\n",
       "  </tbody>\n",
       "</table>\n",
       "</div>"
      ],
      "text/plain": [
       "                  accuracy_score  precision_score  recall_score  f1_score\n",
       "Validation Score           63.88            68.91          62.6      65.6"
      ]
     },
     "execution_count": 43,
     "metadata": {},
     "output_type": "execute_result"
    }
   ],
   "source": [
    "# Evaluate on validation set\n",
    "validation_scores = {score.__name__: calculate_quality(Y_test, dt_predictions_test, score) \n",
    "                     for score in [accuracy_score, precision_score, recall_score, f1_score]}\n",
    "\n",
    "# Create a DataFrame from the dictionary\n",
    "test_scores_df = pd.DataFrame.from_dict(validation_scores, orient='index', columns=['Validation Score']).T\n",
    "print('The confusion matrix is:\\n ',confusion_matrix(Y_test, dt_predictions_test))\n",
    "# Display the DataFrame\n",
    "test_scores_df"
   ]
  },
  {
   "cell_type": "code",
   "execution_count": 44,
   "id": "9c856382-9988-45ce-a490-9b64e9356733",
   "metadata": {
    "execution": {
     "iopub.execute_input": "2023-09-05T09:19:25.777377Z",
     "iopub.status.busy": "2023-09-05T09:19:25.776745Z",
     "iopub.status.idle": "2023-09-05T09:19:25.821669Z",
     "shell.execute_reply": "2023-09-05T09:19:25.820406Z",
     "shell.execute_reply.started": "2023-09-05T09:19:25.777334Z"
    }
   },
   "outputs": [
    {
     "data": {
      "text/plain": [
       "accuracy_score     63.88\n",
       "precision_score    68.91\n",
       "recall_score       62.60\n",
       "f1_score           65.60\n",
       "dtype: float64"
      ]
     },
     "execution_count": 44,
     "metadata": {},
     "output_type": "execute_result"
    }
   ],
   "source": [
    "mean_test_scores = test_scores_df.mean()\n",
    "mean_test_scores"
   ]
  },
  {
   "cell_type": "markdown",
   "id": "a9368e68-1517-494a-b4be-449fd2ebf6c7",
   "metadata": {
    "tags": []
   },
   "source": [
    "***\n",
    "<h4 id=\"heading\"><span style=\"background-color:#cefffb; color:#1b4946 ; display:fill;border-radius:5px; font-family:cursive\"> 🗃️ Log run </span></h4>"
   ]
  },
  {
   "cell_type": "markdown",
   "id": "481e79ba-8353-4500-b084-d0593238d25c",
   "metadata": {
    "tags": []
   },
   "source": [
    "<h5 id=\"heading\"><span font-family:Georgia\"><Strong>📑 1. Prepare </Strong></span></h5>\n"
   ]
  },
  {
   "cell_type": "code",
   "execution_count": 45,
   "id": "0e38477a-1927-4068-ad4c-0d8bae4bffdf",
   "metadata": {
    "execution": {
     "iopub.execute_input": "2023-09-05T09:19:25.826934Z",
     "iopub.status.busy": "2023-09-05T09:19:25.826327Z",
     "iopub.status.idle": "2023-09-05T09:19:26.005008Z",
     "shell.execute_reply": "2023-09-05T09:19:26.004256Z",
     "shell.execute_reply.started": "2023-09-05T09:19:25.826878Z"
    },
    "tags": []
   },
   "outputs": [],
   "source": [
    "# Data details\n",
    "data_details = {\"data_train_path\": TRAIN_PATH,\n",
    "                \"data_test_path\": TEST_PATH,\n",
    "                \"training_victorize\": X_train,\n",
    "                \"test_victorize\":     X_test\n",
    "               }\n",
    "\n",
    "with open(os.path.join(LOG_PATH, LOG_DATA_PKL), \"wb\") as output_file:\n",
    "    pickle.dump(data_details, output_file)"
   ]
  },
  {
   "cell_type": "code",
   "execution_count": 46,
   "id": "8a2ecfc5-5fbe-4936-89bd-d06d311dc411",
   "metadata": {
    "execution": {
     "iopub.execute_input": "2023-09-05T09:19:26.006849Z",
     "iopub.status.busy": "2023-09-05T09:19:26.006215Z",
     "iopub.status.idle": "2023-09-05T09:19:26.094685Z",
     "shell.execute_reply": "2023-09-05T09:19:26.093668Z",
     "shell.execute_reply.started": "2023-09-05T09:19:26.006819Z"
    }
   },
   "outputs": [],
   "source": [
    "# Model\n",
    "model = {\"model_description\": \"Decision Tree Classifier \",\n",
    "         \"model_details\": str(dt_clf),\n",
    "         \"model_object\": dt_clf} \n",
    "\n",
    "with open(os.path.join(LOG_PATH, LOG_MODEL_PKL), \"wb\") as output_file:\n",
    "    pickle.dump(model, output_file)"
   ]
  },
  {
   "cell_type": "code",
   "execution_count": 47,
   "id": "7852e3d2-8678-4548-adab-6d3f42ca9325",
   "metadata": {
    "execution": {
     "iopub.execute_input": "2023-09-05T09:19:26.096846Z",
     "iopub.status.busy": "2023-09-05T09:19:26.096500Z",
     "iopub.status.idle": "2023-09-05T09:19:26.357104Z",
     "shell.execute_reply": "2023-09-05T09:19:26.356198Z",
     "shell.execute_reply.started": "2023-09-05T09:19:26.096804Z"
    }
   },
   "outputs": [],
   "source": [
    "# Performance details\n",
    "classes_metrics = {\"train_scores\": train_scores_df, \n",
    "                   \"test_scores\":  test_scores_df}\n",
    "\n",
    "with open(os.path.join(LOG_PATH, LOG_METRICS_PKL), \"wb\") as output_file:\n",
    "    pickle.dump(classes_metrics, output_file)"
   ]
  },
  {
   "cell_type": "markdown",
   "id": "e9e85fd2-4338-4894-8099-1aabd8c6f597",
   "metadata": {
    "tags": []
   },
   "source": [
    "<h5 id=\"heading\"><span font-family:Georgia\"><Strong>📑 2. Log </Strong></span></h5>\n"
   ]
  },
  {
   "cell_type": "code",
   "execution_count": 48,
   "id": "bdeb29fd-50da-40c4-b90a-2e9d2af2e57b",
   "metadata": {
    "execution": {
     "iopub.execute_input": "2023-09-05T09:19:26.358833Z",
     "iopub.status.busy": "2023-09-05T09:19:26.358352Z",
     "iopub.status.idle": "2023-09-05T09:19:26.507251Z",
     "shell.execute_reply": "2023-09-05T09:19:26.506335Z",
     "shell.execute_reply.started": "2023-09-05T09:19:26.358803Z"
    }
   },
   "outputs": [],
   "source": [
    "# Start a new run and track \n",
    "with mlflow.start_run(experiment_id=exp.experiment_id, run_name=model[\"model_description\"]):\n",
    "    # Log pickles \n",
    "    mlflow.log_artifacts(LOG_PATH)\n",
    "    \n",
    "    # Track metrics \n",
    "    for metric, score in mean_test_scores.items():\n",
    "        mlflow.log_metric(metric, score) \n",
    "    "
   ]
  },
  {
   "cell_type": "markdown",
   "id": "1c05739c-b330-48ae-a30d-afcd5162b931",
   "metadata": {
    "tags": []
   },
   "source": [
    "***\n",
    "<h3 id=\"heading\"><span style=\"background-color:#F7CBFF; color:#581845 ; display:fill;border-radius:5px; font-family:Georgia\"><Strong>📦 5. XGboost Classifier </Strong></span></h3>\n"
   ]
  },
  {
   "cell_type": "markdown",
   "id": "2157b2bd-2424-479d-be7d-de66cd778af2",
   "metadata": {
    "tags": []
   },
   "source": [
    "<h5 id=\"heading\"><span font-family:Georgia\"><Strong>🧑🏻‍⚖️ 1. Evaluate the training set </Strong></span></h5>\n"
   ]
  },
  {
   "cell_type": "code",
   "execution_count": 49,
   "id": "0899f690-c338-48f3-a5eb-e516b8642cbf",
   "metadata": {
    "execution": {
     "iopub.execute_input": "2023-09-05T09:19:26.508925Z",
     "iopub.status.busy": "2023-09-05T09:19:26.508522Z",
     "iopub.status.idle": "2023-09-05T09:21:06.680383Z",
     "shell.execute_reply": "2023-09-05T09:21:06.679480Z",
     "shell.execute_reply.started": "2023-09-05T09:19:26.508892Z"
    }
   },
   "outputs": [],
   "source": [
    "xgb_clf = make_pipeline(xg.XGBClassifier())\n",
    "\n",
    "xgb_clf.fit(X_train, Y_train)\n",
    "xgb_predictions_val =  pd.DataFrame(xgb_clf.predict(X_val))"
   ]
  },
  {
   "cell_type": "code",
   "execution_count": 50,
   "id": "4006962d-af3c-4941-87bf-be2665d184c9",
   "metadata": {
    "execution": {
     "iopub.execute_input": "2023-09-05T09:21:06.686367Z",
     "iopub.status.busy": "2023-09-05T09:21:06.684077Z",
     "iopub.status.idle": "2023-09-05T09:21:06.813857Z",
     "shell.execute_reply": "2023-09-05T09:21:06.812912Z",
     "shell.execute_reply.started": "2023-09-05T09:21:06.686324Z"
    }
   },
   "outputs": [
    {
     "name": "stdout",
     "output_type": "stream",
     "text": [
      "The confusion matrix is:\n",
      "  [[1961   85]\n",
      " [  66 2048]]\n"
     ]
    },
    {
     "data": {
      "text/html": [
       "<div>\n",
       "<style scoped>\n",
       "    .dataframe tbody tr th:only-of-type {\n",
       "        vertical-align: middle;\n",
       "    }\n",
       "\n",
       "    .dataframe tbody tr th {\n",
       "        vertical-align: top;\n",
       "    }\n",
       "\n",
       "    .dataframe thead th {\n",
       "        text-align: right;\n",
       "    }\n",
       "</style>\n",
       "<table border=\"1\" class=\"dataframe\">\n",
       "  <thead>\n",
       "    <tr style=\"text-align: right;\">\n",
       "      <th></th>\n",
       "      <th>accuracy_score</th>\n",
       "      <th>precision_score</th>\n",
       "      <th>recall_score</th>\n",
       "      <th>f1_score</th>\n",
       "    </tr>\n",
       "  </thead>\n",
       "  <tbody>\n",
       "    <tr>\n",
       "      <th>Validation Score</th>\n",
       "      <td>96.37</td>\n",
       "      <td>96.02</td>\n",
       "      <td>96.88</td>\n",
       "      <td>96.44</td>\n",
       "    </tr>\n",
       "  </tbody>\n",
       "</table>\n",
       "</div>"
      ],
      "text/plain": [
       "                  accuracy_score  precision_score  recall_score  f1_score\n",
       "Validation Score           96.37            96.02         96.88     96.44"
      ]
     },
     "execution_count": 50,
     "metadata": {},
     "output_type": "execute_result"
    }
   ],
   "source": [
    "# Evaluate on validation set\n",
    "validation_scores = {score.__name__: calculate_quality(Y_val, xgb_predictions_val[0], score) \n",
    "                     for score in [accuracy_score, precision_score, recall_score, f1_score]}\n",
    "\n",
    "# Create a DataFrame from the dictionary\n",
    "train_scores_df = pd.DataFrame.from_dict(validation_scores, orient='index', columns=['Validation Score']).T\n",
    "print('The confusion matrix is:\\n ',confusion_matrix(Y_val, xgb_predictions_val))\n",
    "# Display the DataFrame\n",
    "train_scores_df"
   ]
  },
  {
   "cell_type": "markdown",
   "id": "58f4703e-f433-428f-8eae-fb4bd009fa18",
   "metadata": {
    "tags": []
   },
   "source": [
    "<h5 id=\"heading\"><span font-family:Georgia\"><Strong>🧑🏻‍⚖️ 2. Evaluate the test set </Strong></span></h5>\n"
   ]
  },
  {
   "cell_type": "code",
   "execution_count": 51,
   "id": "e0c6df6c-e7c1-4ee4-9b4e-9329a806caee",
   "metadata": {
    "execution": {
     "iopub.execute_input": "2023-09-05T09:21:06.817200Z",
     "iopub.status.busy": "2023-09-05T09:21:06.815690Z",
     "iopub.status.idle": "2023-09-05T09:21:06.975366Z",
     "shell.execute_reply": "2023-09-05T09:21:06.974398Z",
     "shell.execute_reply.started": "2023-09-05T09:21:06.817158Z"
    }
   },
   "outputs": [],
   "source": [
    "xgb_predictions_test = xgb_clf.predict(X_test)"
   ]
  },
  {
   "cell_type": "code",
   "execution_count": 52,
   "id": "9320e65a-8952-4d49-88e1-6ea8d17d4463",
   "metadata": {
    "execution": {
     "iopub.execute_input": "2023-09-05T09:21:06.977667Z",
     "iopub.status.busy": "2023-09-05T09:21:06.976995Z",
     "iopub.status.idle": "2023-09-05T09:21:07.057986Z",
     "shell.execute_reply": "2023-09-05T09:21:07.057004Z",
     "shell.execute_reply.started": "2023-09-05T09:21:06.977632Z"
    }
   },
   "outputs": [
    {
     "name": "stdout",
     "output_type": "stream",
     "text": [
      "The confusion matrix is:\n",
      "  [[1522  817]\n",
      " [1066 1795]]\n"
     ]
    },
    {
     "data": {
      "text/html": [
       "<div>\n",
       "<style scoped>\n",
       "    .dataframe tbody tr th:only-of-type {\n",
       "        vertical-align: middle;\n",
       "    }\n",
       "\n",
       "    .dataframe tbody tr th {\n",
       "        vertical-align: top;\n",
       "    }\n",
       "\n",
       "    .dataframe thead th {\n",
       "        text-align: right;\n",
       "    }\n",
       "</style>\n",
       "<table border=\"1\" class=\"dataframe\">\n",
       "  <thead>\n",
       "    <tr style=\"text-align: right;\">\n",
       "      <th></th>\n",
       "      <th>accuracy_score</th>\n",
       "      <th>precision_score</th>\n",
       "      <th>recall_score</th>\n",
       "      <th>f1_score</th>\n",
       "    </tr>\n",
       "  </thead>\n",
       "  <tbody>\n",
       "    <tr>\n",
       "      <th>Validation Score</th>\n",
       "      <td>63.79</td>\n",
       "      <td>68.72</td>\n",
       "      <td>62.74</td>\n",
       "      <td>65.59</td>\n",
       "    </tr>\n",
       "  </tbody>\n",
       "</table>\n",
       "</div>"
      ],
      "text/plain": [
       "                  accuracy_score  precision_score  recall_score  f1_score\n",
       "Validation Score           63.79            68.72         62.74     65.59"
      ]
     },
     "execution_count": 52,
     "metadata": {},
     "output_type": "execute_result"
    }
   ],
   "source": [
    "# Evaluate on validation set\n",
    "validation_scores = {score.__name__: calculate_quality(Y_test, xgb_predictions_test, score) \n",
    "                     for score in [accuracy_score, precision_score, recall_score, f1_score]}\n",
    "\n",
    "# Create a DataFrame from the dictionary\n",
    "test_scores_df = pd.DataFrame.from_dict(validation_scores, orient='index', columns=['Validation Score']).T\n",
    "print('The confusion matrix is:\\n ',confusion_matrix(Y_test, xgb_predictions_test))\n",
    "# Display the DataFrame\n",
    "test_scores_df"
   ]
  },
  {
   "cell_type": "code",
   "execution_count": 53,
   "id": "2975a86f-1174-431a-9e78-8e1f649be0f4",
   "metadata": {
    "execution": {
     "iopub.execute_input": "2023-09-05T09:21:07.061696Z",
     "iopub.status.busy": "2023-09-05T09:21:07.060202Z",
     "iopub.status.idle": "2023-09-05T09:21:07.068502Z",
     "shell.execute_reply": "2023-09-05T09:21:07.067545Z",
     "shell.execute_reply.started": "2023-09-05T09:21:07.061654Z"
    }
   },
   "outputs": [],
   "source": [
    "test_scores_df = test_scores_df"
   ]
  },
  {
   "cell_type": "code",
   "execution_count": 54,
   "id": "346ebc9b-17b8-4e2c-954c-9bee2dc3eedd",
   "metadata": {
    "execution": {
     "iopub.execute_input": "2023-09-05T09:21:07.072503Z",
     "iopub.status.busy": "2023-09-05T09:21:07.070817Z",
     "iopub.status.idle": "2023-09-05T09:21:07.093647Z",
     "shell.execute_reply": "2023-09-05T09:21:07.092457Z",
     "shell.execute_reply.started": "2023-09-05T09:21:07.072451Z"
    }
   },
   "outputs": [
    {
     "data": {
      "text/html": [
       "<div>\n",
       "<style scoped>\n",
       "    .dataframe tbody tr th:only-of-type {\n",
       "        vertical-align: middle;\n",
       "    }\n",
       "\n",
       "    .dataframe tbody tr th {\n",
       "        vertical-align: top;\n",
       "    }\n",
       "\n",
       "    .dataframe thead th {\n",
       "        text-align: right;\n",
       "    }\n",
       "</style>\n",
       "<table border=\"1\" class=\"dataframe\">\n",
       "  <thead>\n",
       "    <tr style=\"text-align: right;\">\n",
       "      <th></th>\n",
       "      <th>accuracy_score</th>\n",
       "      <th>precision_score</th>\n",
       "      <th>recall_score</th>\n",
       "      <th>f1_score</th>\n",
       "    </tr>\n",
       "  </thead>\n",
       "  <tbody>\n",
       "    <tr>\n",
       "      <th>Validation Score</th>\n",
       "      <td>63.79</td>\n",
       "      <td>68.72</td>\n",
       "      <td>62.74</td>\n",
       "      <td>65.59</td>\n",
       "    </tr>\n",
       "  </tbody>\n",
       "</table>\n",
       "</div>"
      ],
      "text/plain": [
       "                  accuracy_score  precision_score  recall_score  f1_score\n",
       "Validation Score           63.79            68.72         62.74     65.59"
      ]
     },
     "execution_count": 54,
     "metadata": {},
     "output_type": "execute_result"
    }
   ],
   "source": [
    "test_scores_df"
   ]
  },
  {
   "cell_type": "code",
   "execution_count": 55,
   "id": "8e0ffeb7-2290-4108-bc7a-1835dbaed02f",
   "metadata": {
    "execution": {
     "iopub.execute_input": "2023-09-05T09:21:07.096354Z",
     "iopub.status.busy": "2023-09-05T09:21:07.095594Z",
     "iopub.status.idle": "2023-09-05T09:21:07.111564Z",
     "shell.execute_reply": "2023-09-05T09:21:07.110101Z",
     "shell.execute_reply.started": "2023-09-05T09:21:07.096314Z"
    }
   },
   "outputs": [
    {
     "data": {
      "text/plain": [
       "accuracy_score     63.79\n",
       "precision_score    68.72\n",
       "recall_score       62.74\n",
       "f1_score           65.59\n",
       "dtype: float64"
      ]
     },
     "execution_count": 55,
     "metadata": {},
     "output_type": "execute_result"
    }
   ],
   "source": [
    "mean_test_scores = test_scores_df.mean()\n",
    "mean_test_scores"
   ]
  },
  {
   "cell_type": "markdown",
   "id": "69e75d44-a24f-428a-bf94-fa837d122ee9",
   "metadata": {
    "tags": []
   },
   "source": [
    "***\n",
    "<h4 id=\"heading\"><span style=\"background-color:#cefffb; color:#1b4946 ; display:fill;border-radius:5px; font-family:cursive\"> 🗃️ Log run </span></h4>"
   ]
  },
  {
   "cell_type": "markdown",
   "id": "f1e98889-e9ea-4b6b-aeff-90eed8354741",
   "metadata": {
    "tags": []
   },
   "source": [
    "<h5 id=\"heading\"><span font-family:Georgia\"><Strong>📑 1. Prepare </Strong></span></h5>\n"
   ]
  },
  {
   "cell_type": "code",
   "execution_count": 56,
   "id": "0c4d1151-565e-4829-8673-000afb8603b9",
   "metadata": {
    "execution": {
     "iopub.execute_input": "2023-09-05T09:21:07.114816Z",
     "iopub.status.busy": "2023-09-05T09:21:07.113911Z",
     "iopub.status.idle": "2023-09-05T09:21:07.209217Z",
     "shell.execute_reply": "2023-09-05T09:21:07.208182Z",
     "shell.execute_reply.started": "2023-09-05T09:21:07.114774Z"
    },
    "tags": []
   },
   "outputs": [],
   "source": [
    "# Data details\n",
    "data_details = {\"data_train_path\": TRAIN_PATH,\n",
    "                \"data_test_path\": TEST_PATH,\n",
    "                \"training_victorize\": X_train,\n",
    "                \"test_victorize\":     X_test\n",
    "               }\n",
    "\n",
    "with open(os.path.join(LOG_PATH, LOG_DATA_PKL), \"wb\") as output_file:\n",
    "    pickle.dump(data_details, output_file)"
   ]
  },
  {
   "cell_type": "code",
   "execution_count": 57,
   "id": "dac34a0c-657e-476f-a0b1-b04f4e4e269c",
   "metadata": {
    "execution": {
     "iopub.execute_input": "2023-09-05T09:21:07.211432Z",
     "iopub.status.busy": "2023-09-05T09:21:07.210756Z",
     "iopub.status.idle": "2023-09-05T09:21:07.232614Z",
     "shell.execute_reply": "2023-09-05T09:21:07.231477Z",
     "shell.execute_reply.started": "2023-09-05T09:21:07.211395Z"
    }
   },
   "outputs": [],
   "source": [
    "# Model\n",
    "model = {\"model_description\": \"XGboost Classifier \",\n",
    "         \"model_details\": str(xgb_clf),\n",
    "         \"model_object\": xgb_clf} \n",
    "\n",
    "with open(os.path.join(LOG_PATH, LOG_MODEL_PKL), \"wb\") as output_file:\n",
    "    pickle.dump(model, output_file)"
   ]
  },
  {
   "cell_type": "code",
   "execution_count": 58,
   "id": "ee01c4ef-d324-406e-bc6f-86c30d2e39be",
   "metadata": {
    "execution": {
     "iopub.execute_input": "2023-09-05T09:21:07.235885Z",
     "iopub.status.busy": "2023-09-05T09:21:07.234014Z",
     "iopub.status.idle": "2023-09-05T09:21:07.516225Z",
     "shell.execute_reply": "2023-09-05T09:21:07.515027Z",
     "shell.execute_reply.started": "2023-09-05T09:21:07.235835Z"
    }
   },
   "outputs": [],
   "source": [
    "# Performance details\n",
    "classes_metrics = {\"train_scores\": train_scores_df, \n",
    "                   \"test_scores\":  test_scores_df}\n",
    "\n",
    "with open(os.path.join(LOG_PATH, LOG_METRICS_PKL), \"wb\") as output_file:\n",
    "    pickle.dump(classes_metrics, output_file)"
   ]
  },
  {
   "cell_type": "markdown",
   "id": "a0ab8e08-9218-42d8-b28b-78910822af11",
   "metadata": {
    "tags": []
   },
   "source": [
    "<h5 id=\"heading\"><span font-family:Georgia\"><Strong>📑 2. Log </Strong></span></h5>\n"
   ]
  },
  {
   "cell_type": "code",
   "execution_count": 59,
   "id": "3e8b7169-c8c9-4e42-bcfa-1996110c9fa1",
   "metadata": {
    "execution": {
     "iopub.execute_input": "2023-09-05T09:21:07.521131Z",
     "iopub.status.busy": "2023-09-05T09:21:07.517405Z",
     "iopub.status.idle": "2023-09-05T09:21:07.680740Z",
     "shell.execute_reply": "2023-09-05T09:21:07.679917Z",
     "shell.execute_reply.started": "2023-09-05T09:21:07.521072Z"
    }
   },
   "outputs": [],
   "source": [
    "# Start a new run and track \n",
    "with mlflow.start_run(experiment_id=exp.experiment_id, run_name=model[\"model_description\"]):\n",
    "    # Log pickles \n",
    "    mlflow.log_artifacts(LOG_PATH)\n",
    "    \n",
    "    # Track metrics \n",
    "    for metric, score in mean_test_scores.items():\n",
    "        mlflow.log_metric(metric, score) \n",
    "    "
   ]
  },
  {
   "cell_type": "code",
   "execution_count": null,
   "id": "86b09069-0ded-4842-9225-a531dbc77c1f",
   "metadata": {},
   "outputs": [],
   "source": []
  }
 ],
 "metadata": {
  "kernelspec": {
   "display_name": "Python 3 (ipykernel)",
   "language": "python",
   "name": "python3"
  },
  "language_info": {
   "codemirror_mode": {
    "name": "ipython",
    "version": 3
   },
   "file_extension": ".py",
   "mimetype": "text/x-python",
   "name": "python",
   "nbconvert_exporter": "python",
   "pygments_lexer": "ipython3",
   "version": "3.11.4"
  }
 },
 "nbformat": 4,
 "nbformat_minor": 5
}
